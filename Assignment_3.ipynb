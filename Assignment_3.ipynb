{
 "cells": [
  {
   "cell_type": "code",
   "execution_count": 53,
   "id": "81dec2ae",
   "metadata": {},
   "outputs": [],
   "source": [
    "import numpy as np\n",
    "import pandas as pd"
   ]
  },
  {
   "cell_type": "code",
   "execution_count": 125,
   "id": "7abbc32c",
   "metadata": {
    "scrolled": true
   },
   "outputs": [],
   "source": [
    "sell_price = 25\n",
    "buy_price = 22\n",
    "discounts = {}\n",
    "discounts['January'] = 00.5\n",
    "discounts['February'] = 1.3\n",
    "discounts['March'] = 3.5\n",
    "discounts['April'] = 10\n",
    "discounts['May'] = 20\n",
    "discounts['June'] = 5\n",
    "discounts['July'] = 9\n",
    "discounts['August'] = 1\n",
    "discounts['September'] = 1\n",
    "discounts['October']=1\n",
    "discounts['November'] =0\n",
    "discounts['December']=0"
   ]
  },
  {
   "cell_type": "code",
   "execution_count": 147,
   "id": "62d1acbf",
   "metadata": {},
   "outputs": [],
   "source": [
    "monthly_forecast_units = {}\n",
    "monthly_forecast_units['January'] = 100\n",
    "monthly_forecast_units['February'] = 110\n",
    "monthly_forecast_units['March'] = 120\n",
    "monthly_forecast_units['April'] = 150\n",
    "monthly_forecast_units['May'] = 100\n",
    "monthly_forecast_units['June'] = 120\n",
    "monthly_forecast_units['July'] = 130\n",
    "monthly_forecast_units['August'] = 90\n",
    "monthly_forecast_units['September'] = 130\n",
    "monthly_forecast_units['October']= 170\n",
    "monthly_forecast_units['November'] =200\n",
    "monthly_forecast_units['December']=235"
   ]
  },
  {
   "cell_type": "markdown",
   "id": "df994a34",
   "metadata": {},
   "source": [
    "<br>\n",
    "<b>Task 1: Provide in a dictionary, the price after the discount. The keys should be the month and the   values should be the price after discount."
   ]
  },
  {
   "cell_type": "code",
   "execution_count": 148,
   "id": "a2d62782",
   "metadata": {},
   "outputs": [
    {
     "data": {
      "text/plain": [
       "{'January': 2487.5,\n",
       " 'February': 2714.25,\n",
       " 'March': 2895.0,\n",
       " 'April': 3375.0,\n",
       " 'May': 2000.0,\n",
       " 'June': 2850.0,\n",
       " 'July': 2957.5,\n",
       " 'August': 2227.5,\n",
       " 'September': 3217.5,\n",
       " 'October': 4207.5,\n",
       " 'November': 5000.0,\n",
       " 'December': 5875.0}"
      ]
     },
     "execution_count": 148,
     "metadata": {},
     "output_type": "execute_result"
    }
   ],
   "source": [
    "discounted_prices = {}\n",
    "for m in monthly_forecast_units.keys():\n",
    "    total_price = units[m]*sell_price\n",
    "    discounted_prices[m] = total_price - total_price*(discounts[m]/100)\n",
    "discounted_prices"
   ]
  },
  {
   "cell_type": "markdown",
   "id": "d44d75d5",
   "metadata": {},
   "source": [
    "<br>\n",
    "<b>Task 2: Provide in a dictionary, the quarterly average price for the chocolate bar.</b>"
   ]
  },
  {
   "cell_type": "code",
   "execution_count": 155,
   "id": "9dc86e83",
   "metadata": {},
   "outputs": [
    {
     "data": {
      "text/plain": [
       "{'Q1': 24.54, 'Q2': 22.23, 'Q3': 24.01, 'Q4': 24.93}"
      ]
     },
     "execution_count": 155,
     "metadata": {},
     "output_type": "execute_result"
    }
   ],
   "source": [
    "qrtrs = ['Q1','Q2','Q3','Q4']\n",
    "total_bars_per_qrtr = []\n",
    "prices_ = list(discounted_prices.values())\n",
    "initial=0\n",
    "q_prices = []\n",
    "forecase_units = list(monthly_forecast_units.values())\n",
    "for i in range(3,15,3):\n",
    "    q_prices.append(sum(prices_[initial:i]))\n",
    "    total_bars_per_qrtr.append(sum(forecase_units[initial:i]))\n",
    "    initial = i\n",
    "\n",
    "quarterly_average_price = {qrtrs[i]:round((q_prices[i]/total_bars_per_qrtr[i]),2) for i in range(0,4)}\n",
    "quarterly_average_price"
   ]
  },
  {
   "attachments": {},
   "cell_type": "markdown",
   "id": "abde7e31",
   "metadata": {},
   "source": [
    "<br>\n",
    "<b>Task 3: Provide in a dictionary, if the chocolates were sold with a profit or not. Take $ 22 as a price below which there is no profit. For the month when there is no profit, provide “No Profit”, else provide “Profit”.</b>"
   ]
  },
  {
   "cell_type": "code",
   "execution_count": 156,
   "id": "fcca058a",
   "metadata": {},
   "outputs": [
    {
     "data": {
      "text/plain": [
       "{'January': 'Profit',\n",
       " 'February': 'Profit',\n",
       " 'March': 'Profit',\n",
       " 'April': 'Profit',\n",
       " 'May': 'No Profit',\n",
       " 'June': 'Profit',\n",
       " 'July': 'Profit',\n",
       " 'August': 'Profit',\n",
       " 'September': 'Profit',\n",
       " 'October': 'Profit',\n",
       " 'November': 'Profit',\n",
       " 'December': 'Profit'}"
      ]
     },
     "execution_count": 156,
     "metadata": {},
     "output_type": "execute_result"
    }
   ],
   "source": [
    "profits = {}\n",
    "months = discounts.keys()\n",
    "for m in months:\n",
    "    profits[m] = 'Profit' if ((discounted_prices[m]) - (units[m]*buy_price))>0 else 'No Profit'\n",
    "    \n",
    "profits"
   ]
  },
  {
   "cell_type": "code",
   "execution_count": null,
   "id": "65686aa3",
   "metadata": {},
   "outputs": [],
   "source": []
  }
 ],
 "metadata": {
  "kernelspec": {
   "display_name": "Python 3 (ipykernel)",
   "language": "python",
   "name": "python3"
  },
  "language_info": {
   "codemirror_mode": {
    "name": "ipython",
    "version": 3
   },
   "file_extension": ".py",
   "mimetype": "text/x-python",
   "name": "python",
   "nbconvert_exporter": "python",
   "pygments_lexer": "ipython3",
   "version": "3.8.8"
  }
 },
 "nbformat": 4,
 "nbformat_minor": 5
}
