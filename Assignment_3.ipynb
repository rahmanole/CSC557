{
 "cells": [
  {
   "cell_type": "code",
   "execution_count": 1,
   "id": "81dec2ae",
   "metadata": {},
   "outputs": [],
   "source": [
    "import numpy as np"
   ]
  },
  {
   "cell_type": "code",
   "execution_count": 2,
   "id": "7abbc32c",
   "metadata": {},
   "outputs": [
    {
     "data": {
      "text/plain": [
       "{'January': 0.5,\n",
       " 'February': 1.3,\n",
       " 'March': 3.5,\n",
       " 'April': 10,\n",
       " 'May': 20,\n",
       " 'June': 5,\n",
       " 'July': 9,\n",
       " 'August': 1,\n",
       " 'September': 1,\n",
       " 'October': 1,\n",
       " 'November': 0,\n",
       " 'December': 0}"
      ]
     },
     "execution_count": 2,
     "metadata": {},
     "output_type": "execute_result"
    }
   ],
   "source": [
    "discounts = {}\n",
    "discounts['January'] = 00.5\n",
    "discounts['February'] = 1.3\n",
    "discounts['March'] = 3.5\n",
    "discounts['April'] = 10\n",
    "discounts['May'] = 20\n",
    "discounts['June'] = 5\n",
    "discounts['July'] = 9\n",
    "discounts['August'] = 1\n",
    "discounts['September'] = 1\n",
    "discounts['October']=1\n",
    "discounts['November'] =0\n",
    "discounts['December']=0\n",
    "discounts"
   ]
  },
  {
   "cell_type": "code",
   "execution_count": 20,
   "id": "d253ea96",
   "metadata": {},
   "outputs": [],
   "source": [
    "months = discounts.keys()\n",
    "prices = {}"
   ]
  },
  {
   "cell_type": "code",
   "execution_count": 22,
   "id": "d41694c5",
   "metadata": {},
   "outputs": [
    {
     "name": "stdout",
     "output_type": "stream",
     "text": [
      "100\n",
      "110\n",
      "120\n",
      "150\n",
      "100\n",
      "120\n",
      "130\n",
      "90\n",
      "130\n",
      "170\n",
      "200\n",
      "235\n"
     ]
    },
    {
     "data": {
      "text/plain": [
       "{'January': 100.0,\n",
       " 'February': 110.0,\n",
       " 'March': 120.0,\n",
       " 'April': 150.0,\n",
       " 'May': 100.0,\n",
       " 'June': 120.0,\n",
       " 'July': 130.0,\n",
       " 'August': 90.0,\n",
       " 'September': 130.0,\n",
       " 'October': 170.0,\n",
       " 'November': 200.0,\n",
       " 'December': 235.0}"
      ]
     },
     "execution_count": 22,
     "metadata": {},
     "output_type": "execute_result"
    }
   ],
   "source": [
    "for m in months:\n",
    "    prices[m] = float(input())\n",
    "prices"
   ]
  },
  {
   "cell_type": "markdown",
   "id": "df994a34",
   "metadata": {},
   "source": [
    "##### January\t100\n",
    "February\t110\n",
    "March\t120\n",
    "April\t150\n",
    "May\t100\n",
    "June\t120\n",
    "July\t130\n",
    "August\t90\n",
    "September\t130\n",
    "October\t170\n",
    "November\t200\n",
    "December\t235\n"
   ]
  }
 ],
 "metadata": {
  "kernelspec": {
   "display_name": "Python 3 (ipykernel)",
   "language": "python",
   "name": "python3"
  },
  "language_info": {
   "codemirror_mode": {
    "name": "ipython",
    "version": 3
   },
   "file_extension": ".py",
   "mimetype": "text/x-python",
   "name": "python",
   "nbconvert_exporter": "python",
   "pygments_lexer": "ipython3",
   "version": "3.8.8"
  }
 },
 "nbformat": 4,
 "nbformat_minor": 5
}
