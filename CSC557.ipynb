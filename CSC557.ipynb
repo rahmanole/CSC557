{
 "cells": [
  {
   "cell_type": "code",
   "execution_count": 14,
   "id": "fa5764fc",
   "metadata": {},
   "outputs": [
    {
     "name": "stdout",
     "output_type": "stream",
     "text": [
      "['red', 'blue', 'green', 'orange']\n"
     ]
    }
   ],
   "source": [
    "import numpy as np\n",
    "mylist =[\"red\", \"blue\", \"green\", \"orange\", \"yellow\", \"white\", \"black\"]\n",
    "print(mylist[:4])"
   ]
  },
  {
   "cell_type": "code",
   "execution_count": 15,
   "id": "7c054744",
   "metadata": {},
   "outputs": [],
   "source": [
    "#mylist =[\"red\", \"blue\", \"green\"]\n",
    "#[print(x) for x in mylist]"
   ]
  },
  {
   "cell_type": "code",
   "execution_count": 16,
   "id": "d117e024",
   "metadata": {},
   "outputs": [],
   "source": [
    "import copy\n",
    "mylist = ['red','blue']\n",
    "l1 = copy.copy(mylist)"
   ]
  },
  {
   "cell_type": "code",
   "execution_count": 17,
   "id": "14ab17c0",
   "metadata": {},
   "outputs": [],
   "source": [
    "l2 = copy.deepcopy(mylist)"
   ]
  },
  {
   "cell_type": "code",
   "execution_count": null,
   "id": "57c0552c",
   "metadata": {},
   "outputs": [],
   "source": [
    "l1"
   ]
  },
  {
   "cell_type": "code",
   "execution_count": null,
   "id": "4024a1a8",
   "metadata": {},
   "outputs": [],
   "source": [
    "colors = {\"violet\", \"magenta\", \"brown\"}\n",
    "colors"
   ]
  },
  {
   "cell_type": "code",
   "execution_count": null,
   "id": "2b86776c",
   "metadata": {},
   "outputs": [],
   "source": []
  },
  {
   "cell_type": "code",
   "execution_count": null,
   "id": "46be60ff",
   "metadata": {},
   "outputs": [],
   "source": [
    "import cmath\n",
    "\n",
    "[print(x) for x in cmath.polar(complex(1+2j))]"
   ]
  },
  {
   "cell_type": "code",
   "execution_count": null,
   "id": "a455ea40",
   "metadata": {},
   "outputs": [],
   "source": [
    "d = { 'car': 1, 'brand': 2 }\n",
    "print(*d.values(),sep=',')"
   ]
  },
  {
   "cell_type": "code",
   "execution_count": null,
   "id": "4c402277",
   "metadata": {},
   "outputs": [],
   "source": [
    "ar = np.array([1,2,3])"
   ]
  },
  {
   "cell_type": "code",
   "execution_count": null,
   "id": "3691d007",
   "metadata": {},
   "outputs": [],
   "source": [
    "ar.dtype"
   ]
  },
  {
   "cell_type": "code",
   "execution_count": 20,
   "id": "25a32bea",
   "metadata": {},
   "outputs": [],
   "source": [
    "import mysql.connector\n",
    "\n",
    "mydb = mysql.connector.connect(\n",
    "  host=\"localhost\",\n",
    "  user=\"root\",\n",
    "  password=\"12345678\"\n",
    ")"
   ]
  },
  {
   "cell_type": "code",
   "execution_count": 21,
   "id": "dba73c77",
   "metadata": {},
   "outputs": [],
   "source": [
    "cursor = mydb.cursor()"
   ]
  },
  {
   "cell_type": "code",
   "execution_count": 31,
   "id": "77ecda13",
   "metadata": {},
   "outputs": [
    {
     "data": {
      "text/plain": [
       "122"
      ]
     },
     "execution_count": 31,
     "metadata": {},
     "output_type": "execute_result"
    }
   ],
   "source": [
    "cursor.execute('use classicmodels')\n",
    "cursor.execute('select * from customers')\n",
    "myresult = cursor.fetchall()\n",
    "len(myresult)"
   ]
  },
  {
   "cell_type": "code",
   "execution_count": 32,
   "id": "3c65ac34",
   "metadata": {},
   "outputs": [],
   "source": [
    "import pandas as pd"
   ]
  },
  {
   "cell_type": "code",
   "execution_count": 34,
   "id": "85c2ca8c",
   "metadata": {},
   "outputs": [],
   "source": [
    "df = pd.DataFrame(myresult)"
   ]
  },
  {
   "cell_type": "code",
   "execution_count": 35,
   "id": "d7ccf5cc",
   "metadata": {},
   "outputs": [
    {
     "data": {
      "text/html": [
       "<div>\n",
       "<style scoped>\n",
       "    .dataframe tbody tr th:only-of-type {\n",
       "        vertical-align: middle;\n",
       "    }\n",
       "\n",
       "    .dataframe tbody tr th {\n",
       "        vertical-align: top;\n",
       "    }\n",
       "\n",
       "    .dataframe thead th {\n",
       "        text-align: right;\n",
       "    }\n",
       "</style>\n",
       "<table border=\"1\" class=\"dataframe\">\n",
       "  <thead>\n",
       "    <tr style=\"text-align: right;\">\n",
       "      <th></th>\n",
       "      <th>0</th>\n",
       "      <th>1</th>\n",
       "      <th>2</th>\n",
       "      <th>3</th>\n",
       "      <th>4</th>\n",
       "      <th>5</th>\n",
       "      <th>6</th>\n",
       "      <th>7</th>\n",
       "      <th>8</th>\n",
       "      <th>9</th>\n",
       "      <th>10</th>\n",
       "      <th>11</th>\n",
       "      <th>12</th>\n",
       "    </tr>\n",
       "  </thead>\n",
       "  <tbody>\n",
       "    <tr>\n",
       "      <th>0</th>\n",
       "      <td>103</td>\n",
       "      <td>Atelier graphique</td>\n",
       "      <td>Schmitt</td>\n",
       "      <td>Carine</td>\n",
       "      <td>40.32.2555</td>\n",
       "      <td>54, rue Royale</td>\n",
       "      <td>None</td>\n",
       "      <td>Nantes</td>\n",
       "      <td>None</td>\n",
       "      <td>44000</td>\n",
       "      <td>France</td>\n",
       "      <td>1370.0</td>\n",
       "      <td>21000.00</td>\n",
       "    </tr>\n",
       "    <tr>\n",
       "      <th>1</th>\n",
       "      <td>112</td>\n",
       "      <td>Signal Gift Stores</td>\n",
       "      <td>King</td>\n",
       "      <td>Jean</td>\n",
       "      <td>7025551838</td>\n",
       "      <td>8489 Strong St.</td>\n",
       "      <td>None</td>\n",
       "      <td>Las Vegas</td>\n",
       "      <td>NV</td>\n",
       "      <td>83030</td>\n",
       "      <td>USA</td>\n",
       "      <td>1166.0</td>\n",
       "      <td>71800.00</td>\n",
       "    </tr>\n",
       "    <tr>\n",
       "      <th>2</th>\n",
       "      <td>114</td>\n",
       "      <td>Australian Collectors, Co.</td>\n",
       "      <td>Ferguson</td>\n",
       "      <td>Peter</td>\n",
       "      <td>03 9520 4555</td>\n",
       "      <td>636 St Kilda Road</td>\n",
       "      <td>Level 3</td>\n",
       "      <td>Melbourne</td>\n",
       "      <td>Victoria</td>\n",
       "      <td>3004</td>\n",
       "      <td>Australia</td>\n",
       "      <td>1611.0</td>\n",
       "      <td>117300.00</td>\n",
       "    </tr>\n",
       "    <tr>\n",
       "      <th>3</th>\n",
       "      <td>119</td>\n",
       "      <td>La Rochelle Gifts</td>\n",
       "      <td>Labrune</td>\n",
       "      <td>Janine</td>\n",
       "      <td>40.67.8555</td>\n",
       "      <td>67, rue des Cinquante Otages</td>\n",
       "      <td>None</td>\n",
       "      <td>Nantes</td>\n",
       "      <td>None</td>\n",
       "      <td>44000</td>\n",
       "      <td>France</td>\n",
       "      <td>1370.0</td>\n",
       "      <td>118200.00</td>\n",
       "    </tr>\n",
       "    <tr>\n",
       "      <th>4</th>\n",
       "      <td>121</td>\n",
       "      <td>Baane Mini Imports</td>\n",
       "      <td>Bergulfsen</td>\n",
       "      <td>Jonas</td>\n",
       "      <td>07-98 9555</td>\n",
       "      <td>Erling Skakkes gate 78</td>\n",
       "      <td>None</td>\n",
       "      <td>Stavern</td>\n",
       "      <td>None</td>\n",
       "      <td>4110</td>\n",
       "      <td>Norway</td>\n",
       "      <td>1504.0</td>\n",
       "      <td>81700.00</td>\n",
       "    </tr>\n",
       "  </tbody>\n",
       "</table>\n",
       "</div>"
      ],
      "text/plain": [
       "    0                           1           2        3             4   \\\n",
       "0  103           Atelier graphique     Schmitt  Carine     40.32.2555   \n",
       "1  112          Signal Gift Stores        King     Jean    7025551838   \n",
       "2  114  Australian Collectors, Co.    Ferguson    Peter  03 9520 4555   \n",
       "3  119           La Rochelle Gifts     Labrune  Janine     40.67.8555   \n",
       "4  121          Baane Mini Imports  Bergulfsen   Jonas     07-98 9555   \n",
       "\n",
       "                             5        6          7         8      9   \\\n",
       "0                54, rue Royale     None     Nantes      None  44000   \n",
       "1               8489 Strong St.     None  Las Vegas        NV  83030   \n",
       "2             636 St Kilda Road  Level 3  Melbourne  Victoria   3004   \n",
       "3  67, rue des Cinquante Otages     None     Nantes      None  44000   \n",
       "4        Erling Skakkes gate 78     None    Stavern      None   4110   \n",
       "\n",
       "          10      11         12  \n",
       "0     France  1370.0   21000.00  \n",
       "1        USA  1166.0   71800.00  \n",
       "2  Australia  1611.0  117300.00  \n",
       "3     France  1370.0  118200.00  \n",
       "4     Norway  1504.0   81700.00  "
      ]
     },
     "execution_count": 35,
     "metadata": {},
     "output_type": "execute_result"
    }
   ],
   "source": [
    "df.head()"
   ]
  },
  {
   "cell_type": "code",
   "execution_count": 41,
   "id": "db324b4a",
   "metadata": {},
   "outputs": [
    {
     "ename": "InternalError",
     "evalue": "Unread result found",
     "output_type": "error",
     "traceback": [
      "\u001b[0;31m---------------------------------------------------------------------------\u001b[0m",
      "\u001b[0;31mInternalError\u001b[0m                             Traceback (most recent call last)",
      "\u001b[0;32m/var/folders/hr/84gg3m1s6y75pg48fs4msrvw0000gn/T/ipykernel_96524/1684511986.py\u001b[0m in \u001b[0;36m<module>\u001b[0;34m\u001b[0m\n\u001b[0;32m----> 1\u001b[0;31m \u001b[0mcursor\u001b[0m\u001b[0;34m.\u001b[0m\u001b[0mexecute\u001b[0m\u001b[0;34m(\u001b[0m\u001b[0;34m'desc customers'\u001b[0m\u001b[0;34m)\u001b[0m\u001b[0;34m\u001b[0m\u001b[0;34m\u001b[0m\u001b[0m\n\u001b[0m\u001b[1;32m      2\u001b[0m \u001b[0;32mfor\u001b[0m \u001b[0mx\u001b[0m \u001b[0;32min\u001b[0m \u001b[0mcursor\u001b[0m\u001b[0;34m.\u001b[0m\u001b[0mfetchall\u001b[0m\u001b[0;34m(\u001b[0m\u001b[0;34m)\u001b[0m\u001b[0;34m:\u001b[0m\u001b[0;34m\u001b[0m\u001b[0;34m\u001b[0m\u001b[0m\n\u001b[1;32m      3\u001b[0m     \u001b[0mprint\u001b[0m\u001b[0;34m(\u001b[0m\u001b[0mx\u001b[0m\u001b[0;34m)\u001b[0m\u001b[0;34m\u001b[0m\u001b[0;34m\u001b[0m\u001b[0m\n",
      "\u001b[0;32m~/opt/anaconda3/lib/python3.8/site-packages/mysql/connector/cursor.py\u001b[0m in \u001b[0;36mexecute\u001b[0;34m(self, operation, params, multi)\u001b[0m\n\u001b[1;32m    536\u001b[0m             \u001b[0;32mraise\u001b[0m \u001b[0merrors\u001b[0m\u001b[0;34m.\u001b[0m\u001b[0mProgrammingError\u001b[0m\u001b[0;34m(\u001b[0m\u001b[0;34m\"Cursor is not connected\"\u001b[0m\u001b[0;34m)\u001b[0m\u001b[0;34m\u001b[0m\u001b[0;34m\u001b[0m\u001b[0m\n\u001b[1;32m    537\u001b[0m \u001b[0;34m\u001b[0m\u001b[0m\n\u001b[0;32m--> 538\u001b[0;31m         \u001b[0mself\u001b[0m\u001b[0;34m.\u001b[0m\u001b[0m_connection\u001b[0m\u001b[0;34m.\u001b[0m\u001b[0mhandle_unread_result\u001b[0m\u001b[0;34m(\u001b[0m\u001b[0;34m)\u001b[0m\u001b[0;34m\u001b[0m\u001b[0;34m\u001b[0m\u001b[0m\n\u001b[0m\u001b[1;32m    539\u001b[0m \u001b[0;34m\u001b[0m\u001b[0m\n\u001b[1;32m    540\u001b[0m         \u001b[0mself\u001b[0m\u001b[0;34m.\u001b[0m\u001b[0m_reset_result\u001b[0m\u001b[0;34m(\u001b[0m\u001b[0;34m)\u001b[0m\u001b[0;34m\u001b[0m\u001b[0;34m\u001b[0m\u001b[0m\n",
      "\u001b[0;32m~/opt/anaconda3/lib/python3.8/site-packages/mysql/connector/connection.py\u001b[0m in \u001b[0;36mhandle_unread_result\u001b[0;34m(self)\u001b[0m\n\u001b[1;32m   1453\u001b[0m             \u001b[0mself\u001b[0m\u001b[0;34m.\u001b[0m\u001b[0mconsume_results\u001b[0m\u001b[0;34m(\u001b[0m\u001b[0;34m)\u001b[0m\u001b[0;34m\u001b[0m\u001b[0;34m\u001b[0m\u001b[0m\n\u001b[1;32m   1454\u001b[0m         \u001b[0;32melif\u001b[0m \u001b[0mself\u001b[0m\u001b[0;34m.\u001b[0m\u001b[0munread_result\u001b[0m\u001b[0;34m:\u001b[0m\u001b[0;34m\u001b[0m\u001b[0;34m\u001b[0m\u001b[0m\n\u001b[0;32m-> 1455\u001b[0;31m             \u001b[0;32mraise\u001b[0m \u001b[0merrors\u001b[0m\u001b[0;34m.\u001b[0m\u001b[0mInternalError\u001b[0m\u001b[0;34m(\u001b[0m\u001b[0;34m\"Unread result found\"\u001b[0m\u001b[0;34m)\u001b[0m\u001b[0;34m\u001b[0m\u001b[0;34m\u001b[0m\u001b[0m\n\u001b[0m",
      "\u001b[0;31mInternalError\u001b[0m: Unread result found"
     ]
    }
   ],
   "source": [
    "df.columns = ['ID','First_Name','Last_Name',]"
   ]
  },
  {
   "cell_type": "code",
   "execution_count": null,
   "id": "009322bb",
   "metadata": {},
   "outputs": [],
   "source": []
  }
 ],
 "metadata": {
  "kernelspec": {
   "display_name": "Python 3 (ipykernel)",
   "language": "python",
   "name": "python3"
  },
  "language_info": {
   "codemirror_mode": {
    "name": "ipython",
    "version": 3
   },
   "file_extension": ".py",
   "mimetype": "text/x-python",
   "name": "python",
   "nbconvert_exporter": "python",
   "pygments_lexer": "ipython3",
   "version": "3.8.8"
  }
 },
 "nbformat": 4,
 "nbformat_minor": 5
}
