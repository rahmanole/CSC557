{
 "cells": [
  {
   "cell_type": "code",
   "execution_count": 1,
   "id": "fa5764fc",
   "metadata": {},
   "outputs": [
    {
     "name": "stdout",
     "output_type": "stream",
     "text": [
      "['red', 'blue', 'green', 'orange']\n"
     ]
    }
   ],
   "source": [
    "import numpy as np\n",
    "mylist =[\"red\", \"blue\", \"green\", \"orange\", \"yellow\", \"white\", \"black\"]\n",
    "print(mylist[:4])"
   ]
  },
  {
   "cell_type": "code",
   "execution_count": 48,
   "id": "7c054744",
   "metadata": {},
   "outputs": [],
   "source": [
    "#mylist =[\"red\", \"blue\", \"green\"]\n",
    "#[print(x) for x in mylist]"
   ]
  },
  {
   "cell_type": "code",
   "execution_count": 75,
   "id": "d117e024",
   "metadata": {},
   "outputs": [],
   "source": [
    "import copy\n",
    "mylist = ['red','blue']\n",
    "l1 = copy.copy(mylist)"
   ]
  },
  {
   "cell_type": "code",
   "execution_count": 76,
   "id": "14ab17c0",
   "metadata": {},
   "outputs": [],
   "source": [
    "l2 = copy.deepcopy(mylist)"
   ]
  },
  {
   "cell_type": "code",
   "execution_count": 77,
   "id": "9c3aeb69",
   "metadata": {},
   "outputs": [],
   "source": [
    "mylist[2][0]='yellow'"
   ]
  },
  {
   "cell_type": "code",
   "execution_count": 78,
   "id": "57c0552c",
   "metadata": {},
   "outputs": [
    {
     "data": {
      "text/plain": [
       "['red', 'blue', ['yellow', 'yellow']]"
      ]
     },
     "execution_count": 78,
     "metadata": {},
     "output_type": "execute_result"
    }
   ],
   "source": [
    "l1"
   ]
  },
  {
   "cell_type": "code",
   "execution_count": 10,
   "id": "4024a1a8",
   "metadata": {},
   "outputs": [
    {
     "data": {
      "text/plain": [
       "{'brown', 'magenta', 'violet'}"
      ]
     },
     "execution_count": 10,
     "metadata": {},
     "output_type": "execute_result"
    }
   ],
   "source": [
    "colors = {\"violet\", \"magenta\", \"brown\"}\n",
    "colors"
   ]
  },
  {
   "cell_type": "code",
   "execution_count": null,
   "id": "2b86776c",
   "metadata": {},
   "outputs": [],
   "source": []
  },
  {
   "cell_type": "code",
   "execution_count": 14,
   "id": "46be60ff",
   "metadata": {},
   "outputs": [
    {
     "name": "stdout",
     "output_type": "stream",
     "text": [
      "2.23606797749979\n",
      "1.1071487177940904\n"
     ]
    },
    {
     "data": {
      "text/plain": [
       "[None, None]"
      ]
     },
     "execution_count": 14,
     "metadata": {},
     "output_type": "execute_result"
    }
   ],
   "source": [
    "import cmath\n",
    "\n",
    "[print(x) for x in cmath.polar(complex(1+2j))]"
   ]
  },
  {
   "cell_type": "code",
   "execution_count": 22,
   "id": "a455ea40",
   "metadata": {},
   "outputs": [
    {
     "name": "stdout",
     "output_type": "stream",
     "text": [
      "1,2\n"
     ]
    }
   ],
   "source": [
    "d = { 'car': 1, 'brand': 2 }\n",
    "print(*d.values(),sep=',')"
   ]
  },
  {
   "cell_type": "code",
   "execution_count": 4,
   "id": "4c402277",
   "metadata": {},
   "outputs": [],
   "source": [
    "ar = np.array([1,2,3])"
   ]
  },
  {
   "cell_type": "code",
   "execution_count": 5,
   "id": "3691d007",
   "metadata": {},
   "outputs": [
    {
     "data": {
      "text/plain": [
       "dtype('int64')"
      ]
     },
     "execution_count": 5,
     "metadata": {},
     "output_type": "execute_result"
    }
   ],
   "source": [
    "ar.dtype"
   ]
  },
  {
   "cell_type": "code",
   "execution_count": null,
   "id": "25a32bea",
   "metadata": {},
   "outputs": [],
   "source": []
  }
 ],
 "metadata": {
  "kernelspec": {
   "display_name": "Python 3 (ipykernel)",
   "language": "python",
   "name": "python3"
  },
  "language_info": {
   "codemirror_mode": {
    "name": "ipython",
    "version": 3
   },
   "file_extension": ".py",
   "mimetype": "text/x-python",
   "name": "python",
   "nbconvert_exporter": "python",
   "pygments_lexer": "ipython3",
   "version": "3.8.8"
  }
 },
 "nbformat": 4,
 "nbformat_minor": 5
}
