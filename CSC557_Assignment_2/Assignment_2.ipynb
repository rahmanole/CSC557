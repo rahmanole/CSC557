{
 "cells": [
  {
   "attachments": {},
   "cell_type": "markdown",
   "id": "071109e3",
   "metadata": {},
   "source": [
    "1)\tWhat are the top three genre of movies with the highest average earnings? \n",
    "\n",
    "2)\tDo movies with sequels tend to have higher gross earnings than the movies without sequels. You can pick the last movie to come out for a prequel.\n",
    "<br>\n",
    "3)\tFind the proportion (percentage) of movies by ratings for English language and others (all other languages). Are proportions significantly different from each other? "
   ]
  },
  {
   "cell_type": "code",
   "execution_count": 1,
   "id": "270f85d6",
   "metadata": {},
   "outputs": [],
   "source": [
    "import pandas as pd\n",
    "import numpy as np"
   ]
  },
  {
   "cell_type": "code",
   "execution_count": 3,
   "id": "08a5d951",
   "metadata": {},
   "outputs": [
    {
     "data": {
      "text/html": [
       "<div>\n",
       "<style scoped>\n",
       "    .dataframe tbody tr th:only-of-type {\n",
       "        vertical-align: middle;\n",
       "    }\n",
       "\n",
       "    .dataframe tbody tr th {\n",
       "        vertical-align: top;\n",
       "    }\n",
       "\n",
       "    .dataframe thead th {\n",
       "        text-align: right;\n",
       "    }\n",
       "</style>\n",
       "<table border=\"1\" class=\"dataframe\">\n",
       "  <thead>\n",
       "    <tr style=\"text-align: right;\">\n",
       "      <th></th>\n",
       "      <th>id</th>\n",
       "      <th>name</th>\n",
       "      <th>display_name</th>\n",
       "      <th>production_year</th>\n",
       "      <th>movie_sequel</th>\n",
       "      <th>creative_type</th>\n",
       "      <th>source</th>\n",
       "      <th>production_method</th>\n",
       "      <th>genre</th>\n",
       "      <th>language</th>\n",
       "      <th>board_rating_reason</th>\n",
       "      <th>movie_board_rating_display_name</th>\n",
       "      <th>movie_release_pattern_display_name</th>\n",
       "      <th>total</th>\n",
       "      <th>Category</th>\n",
       "    </tr>\n",
       "  </thead>\n",
       "  <tbody>\n",
       "    <tr>\n",
       "      <th>0</th>\n",
       "      <td>7950115</td>\n",
       "      <td>Avatar</td>\n",
       "      <td>Avatar</td>\n",
       "      <td>2009</td>\n",
       "      <td>0</td>\n",
       "      <td>Science Fiction</td>\n",
       "      <td>Original Screenplay</td>\n",
       "      <td>Animation/Live Action</td>\n",
       "      <td>Action</td>\n",
       "      <td>English</td>\n",
       "      <td>For intense epic battle sequences and warfare,...</td>\n",
       "      <td>PG-13</td>\n",
       "      <td>Wide</td>\n",
       "      <td>2784</td>\n",
       "      <td>9</td>\n",
       "    </tr>\n",
       "    <tr>\n",
       "      <th>1</th>\n",
       "      <td>50950115</td>\n",
       "      <td>Harry Potter and the Deathly Hallows: Part II</td>\n",
       "      <td>Harry Potter and the Deathly Hallows: Part II</td>\n",
       "      <td>2011</td>\n",
       "      <td>1</td>\n",
       "      <td>Fantasy</td>\n",
       "      <td>Based on Fiction Book/Short Story</td>\n",
       "      <td>Animation/Live Action</td>\n",
       "      <td>Adventure</td>\n",
       "      <td>English</td>\n",
       "      <td>for some sequences of intense action violence ...</td>\n",
       "      <td>PG-13</td>\n",
       "      <td>Wide</td>\n",
       "      <td>1328</td>\n",
       "      <td>9</td>\n",
       "    </tr>\n",
       "    <tr>\n",
       "      <th>2</th>\n",
       "      <td>119870115</td>\n",
       "      <td>Transformers 3</td>\n",
       "      <td>Transformers: Dark of the Moon</td>\n",
       "      <td>2011</td>\n",
       "      <td>1</td>\n",
       "      <td>Science Fiction</td>\n",
       "      <td>Based on TV</td>\n",
       "      <td>Animation/Live Action</td>\n",
       "      <td>Action</td>\n",
       "      <td>English</td>\n",
       "      <td>for intense prolonged sequences of sci-fi acti...</td>\n",
       "      <td>PG-13</td>\n",
       "      <td>Wide</td>\n",
       "      <td>1124</td>\n",
       "      <td>9</td>\n",
       "    </tr>\n",
       "    <tr>\n",
       "      <th>3</th>\n",
       "      <td>119590115</td>\n",
       "      <td>Toy Story 3</td>\n",
       "      <td>Toy Story 3</td>\n",
       "      <td>2010</td>\n",
       "      <td>1</td>\n",
       "      <td>Kids Fiction</td>\n",
       "      <td>Original Screenplay</td>\n",
       "      <td>Digital Animation</td>\n",
       "      <td>Adventure</td>\n",
       "      <td>English</td>\n",
       "      <td>General</td>\n",
       "      <td>G</td>\n",
       "      <td>Wide</td>\n",
       "      <td>1064</td>\n",
       "      <td>9</td>\n",
       "    </tr>\n",
       "    <tr>\n",
       "      <th>4</th>\n",
       "      <td>91700115</td>\n",
       "      <td>Pirates of the Caribbean 4</td>\n",
       "      <td>Pirates of the Caribbean: On Stranger Tides</td>\n",
       "      <td>2011</td>\n",
       "      <td>1</td>\n",
       "      <td>Fantasy</td>\n",
       "      <td>Based on Theme Park Ride</td>\n",
       "      <td>Live Action</td>\n",
       "      <td>Adventure</td>\n",
       "      <td>English</td>\n",
       "      <td>for intense sequences of action/adventure viol...</td>\n",
       "      <td>PG-13</td>\n",
       "      <td>Wide</td>\n",
       "      <td>1044</td>\n",
       "      <td>9</td>\n",
       "    </tr>\n",
       "  </tbody>\n",
       "</table>\n",
       "</div>"
      ],
      "text/plain": [
       "          id                                           name  \\\n",
       "0    7950115                                         Avatar   \n",
       "1   50950115  Harry Potter and the Deathly Hallows: Part II   \n",
       "2  119870115                                 Transformers 3   \n",
       "3  119590115                                    Toy Story 3   \n",
       "4   91700115                     Pirates of the Caribbean 4   \n",
       "\n",
       "                                    display_name  production_year  \\\n",
       "0                                         Avatar             2009   \n",
       "1  Harry Potter and the Deathly Hallows: Part II             2011   \n",
       "2                 Transformers: Dark of the Moon             2011   \n",
       "3                                    Toy Story 3             2010   \n",
       "4    Pirates of the Caribbean: On Stranger Tides             2011   \n",
       "\n",
       "   movie_sequel    creative_type                             source  \\\n",
       "0             0  Science Fiction                Original Screenplay   \n",
       "1             1          Fantasy  Based on Fiction Book/Short Story   \n",
       "2             1  Science Fiction                        Based on TV   \n",
       "3             1     Kids Fiction                Original Screenplay   \n",
       "4             1          Fantasy           Based on Theme Park Ride   \n",
       "\n",
       "       production_method      genre language  \\\n",
       "0  Animation/Live Action     Action  English   \n",
       "1  Animation/Live Action  Adventure  English   \n",
       "2  Animation/Live Action     Action  English   \n",
       "3      Digital Animation  Adventure  English   \n",
       "4            Live Action  Adventure  English   \n",
       "\n",
       "                                 board_rating_reason  \\\n",
       "0  For intense epic battle sequences and warfare,...   \n",
       "1  for some sequences of intense action violence ...   \n",
       "2  for intense prolonged sequences of sci-fi acti...   \n",
       "3                                            General   \n",
       "4  for intense sequences of action/adventure viol...   \n",
       "\n",
       "  movie_board_rating_display_name movie_release_pattern_display_name  total  \\\n",
       "0                           PG-13                               Wide   2784   \n",
       "1                           PG-13                               Wide   1328   \n",
       "2                           PG-13                               Wide   1124   \n",
       "3                               G                               Wide   1064   \n",
       "4                           PG-13                               Wide   1044   \n",
       "\n",
       "   Category  \n",
       "0         9  \n",
       "1         9  \n",
       "2         9  \n",
       "3         9  \n",
       "4         9  "
      ]
     },
     "execution_count": 3,
     "metadata": {},
     "output_type": "execute_result"
    }
   ],
   "source": [
    "df = pd.read_excel('hollywood.xlsx')\n",
    "df.head()"
   ]
  },
  {
   "cell_type": "code",
   "execution_count": 4,
   "id": "9bee0196",
   "metadata": {},
   "outputs": [
    {
     "data": {
      "text/plain": [
       "(1196, 15)"
      ]
     },
     "execution_count": 4,
     "metadata": {},
     "output_type": "execute_result"
    }
   ],
   "source": [
    "df.shape"
   ]
  },
  {
   "cell_type": "code",
   "execution_count": 6,
   "id": "cf4f170d",
   "metadata": {},
   "outputs": [
    {
     "data": {
      "text/plain": [
       "id                                    True\n",
       "name                                  True\n",
       "display_name                          True\n",
       "production_year                       True\n",
       "movie_sequel                          True\n",
       "creative_type                         True\n",
       "source                                True\n",
       "production_method                     True\n",
       "genre                                 True\n",
       "language                              True\n",
       "board_rating_reason                   True\n",
       "movie_board_rating_display_name       True\n",
       "movie_release_pattern_display_name    True\n",
       "total                                 True\n",
       "Category                              True\n",
       "dtype: bool"
      ]
     },
     "execution_count": 6,
     "metadata": {},
     "output_type": "execute_result"
    }
   ],
   "source": [
    "df.isnull()\n",
    "df.any()"
   ]
  },
  {
   "cell_type": "code",
   "execution_count": 7,
   "id": "c9fcddaf",
   "metadata": {},
   "outputs": [
    {
     "name": "stderr",
     "output_type": "stream",
     "text": [
      "/var/folders/hr/84gg3m1s6y75pg48fs4msrvw0000gn/T/ipykernel_3951/3698961737.py:1: FutureWarning: Dropping of nuisance columns in DataFrame reductions (with 'numeric_only=None') is deprecated; in a future version this will raise TypeError.  Select only valid columns before calling the reduction.\n",
      "  df.mean()\n"
     ]
    },
    {
     "data": {
      "text/plain": [
       "id                 8.928203e+07\n",
       "production_year    2.008985e+03\n",
       "movie_sequel       9.782609e-02\n",
       "total              1.047032e+02\n",
       "Category           3.564381e+00\n",
       "dtype: float64"
      ]
     },
     "execution_count": 7,
     "metadata": {},
     "output_type": "execute_result"
    }
   ],
   "source": [
    "df."
   ]
  },
  {
   "cell_type": "code",
   "execution_count": null,
   "id": "4c77245c",
   "metadata": {},
   "outputs": [],
   "source": []
  }
 ],
 "metadata": {
  "kernelspec": {
   "display_name": "Python 3 (ipykernel)",
   "language": "python",
   "name": "python3"
  },
  "language_info": {
   "codemirror_mode": {
    "name": "ipython",
    "version": 3
   },
   "file_extension": ".py",
   "mimetype": "text/x-python",
   "name": "python",
   "nbconvert_exporter": "python",
   "pygments_lexer": "ipython3",
   "version": "3.8.8"
  }
 },
 "nbformat": 4,
 "nbformat_minor": 5
}
