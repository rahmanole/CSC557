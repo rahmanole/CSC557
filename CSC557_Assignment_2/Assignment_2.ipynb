{
 "cells": [
  {
   "cell_type": "markdown",
   "id": "071109e3",
   "metadata": {},
   "source": [
    "1)\tWhat are the top three genre of movies with the highest average earnings? \n",
    "\n",
    "2)\tDo movies with sequels tend to have higher gross earnings than the movies without sequels. You can pick the last movie to come out for a prequel.\n",
    "<br>\n"
   ]
  },
  {
   "cell_type": "code",
   "execution_count": 1,
   "id": "270f85d6",
   "metadata": {},
   "outputs": [],
   "source": [
    "import pandas as pd\n",
    "import numpy as np"
   ]
  },
  {
   "cell_type": "code",
   "execution_count": 15,
   "id": "08a5d951",
   "metadata": {},
   "outputs": [
    {
     "data": {
      "text/plain": [
       "R            448\n",
       "PG-13        441\n",
       "PG           182\n",
       "Not Rated     83\n",
       "G             39\n",
       "NC-17          3\n",
       "Name: movie_board_rating_display_name, dtype: int64"
      ]
     },
     "execution_count": 15,
     "metadata": {},
     "output_type": "execute_result"
    }
   ],
   "source": [
    "df = pd.read_excel('hollywood.xlsx')\n",
    "df['movie_board_rating_display_name'].value_counts()"
   ]
  },
  {
   "cell_type": "code",
   "execution_count": 3,
   "id": "9bee0196",
   "metadata": {},
   "outputs": [
    {
     "data": {
      "text/plain": [
       "(1196, 15)"
      ]
     },
     "execution_count": 3,
     "metadata": {},
     "output_type": "execute_result"
    }
   ],
   "source": [
    "df.shape"
   ]
  },
  {
   "cell_type": "code",
   "execution_count": 12,
   "id": "cf4f170d",
   "metadata": {},
   "outputs": [
    {
     "data": {
      "text/plain": [
       "id                                    False\n",
       "name                                  False\n",
       "display_name                          False\n",
       "production_year                       False\n",
       "movie_sequel                          False\n",
       "creative_type                         False\n",
       "source                                False\n",
       "production_method                     False\n",
       "genre                                 False\n",
       "language                              False\n",
       "board_rating_reason                   False\n",
       "movie_board_rating_display_name       False\n",
       "movie_release_pattern_display_name    False\n",
       "total                                 False\n",
       "Category                              False\n",
       "dtype: bool"
      ]
     },
     "execution_count": 12,
     "metadata": {},
     "output_type": "execute_result"
    }
   ],
   "source": [
    "## To check if there is any null value in the dataframe\n",
    "df.isnull().any()"
   ]
  },
  {
   "cell_type": "markdown",
   "id": "c25e7a87",
   "metadata": {},
   "source": [
    "<br>\n",
    "<h3>1) What are the top three genre of movies with the highest average earnings?</h3>"
   ]
  },
  {
   "cell_type": "code",
   "execution_count": 104,
   "id": "203ffd12",
   "metadata": {},
   "outputs": [],
   "source": [
    "movies_grouped_by_genre = df[['total','genre']].groupby('genre',as_index=False)"
   ]
  },
  {
   "cell_type": "code",
   "execution_count": 103,
   "id": "4c77245c",
   "metadata": {},
   "outputs": [],
   "source": [
    "## This line of code finds total earning by each genre\n",
    "total_earnings_by_genre = movies_grouped_by_genre.sum()"
   ]
  },
  {
   "cell_type": "code",
   "execution_count": 108,
   "id": "a28df51c",
   "metadata": {},
   "outputs": [
    {
     "data": {
      "text/html": [
       "<div>\n",
       "<style scoped>\n",
       "    .dataframe tbody tr th:only-of-type {\n",
       "        vertical-align: middle;\n",
       "    }\n",
       "\n",
       "    .dataframe tbody tr th {\n",
       "        vertical-align: top;\n",
       "    }\n",
       "\n",
       "    .dataframe thead th {\n",
       "        text-align: right;\n",
       "    }\n",
       "</style>\n",
       "<table border=\"1\" class=\"dataframe\">\n",
       "  <thead>\n",
       "    <tr style=\"text-align: right;\">\n",
       "      <th></th>\n",
       "      <th>genre</th>\n",
       "      <th>total</th>\n",
       "      <th>avg_earnings</th>\n",
       "    </tr>\n",
       "  </thead>\n",
       "  <tbody>\n",
       "    <tr>\n",
       "      <th>0</th>\n",
       "      <td>Action</td>\n",
       "      <td>25180</td>\n",
       "      <td>203.064516</td>\n",
       "    </tr>\n",
       "    <tr>\n",
       "      <th>1</th>\n",
       "      <td>Adventure</td>\n",
       "      <td>32369</td>\n",
       "      <td>302.514019</td>\n",
       "    </tr>\n",
       "    <tr>\n",
       "      <th>2</th>\n",
       "      <td>Black Comedy</td>\n",
       "      <td>648</td>\n",
       "      <td>54.000000</td>\n",
       "    </tr>\n",
       "    <tr>\n",
       "      <th>3</th>\n",
       "      <td>Comedy</td>\n",
       "      <td>23460</td>\n",
       "      <td>90.230769</td>\n",
       "    </tr>\n",
       "    <tr>\n",
       "      <th>4</th>\n",
       "      <td>Concert/Performance</td>\n",
       "      <td>270</td>\n",
       "      <td>45.000000</td>\n",
       "    </tr>\n",
       "  </tbody>\n",
       "</table>\n",
       "</div>"
      ],
      "text/plain": [
       "                 genre  total  avg_earnings\n",
       "0               Action  25180    203.064516\n",
       "1            Adventure  32369    302.514019\n",
       "2         Black Comedy    648     54.000000\n",
       "3               Comedy  23460     90.230769\n",
       "4  Concert/Performance    270     45.000000"
      ]
     },
     "execution_count": 108,
     "metadata": {},
     "output_type": "execute_result"
    }
   ],
   "source": [
    "## This line of code finds total number of movies by each genre\n",
    "total_number_of_movies_by_genre = movies_grouped_by_genre.count()\n",
    "\n",
    "total_earnings_by_genre['avg_earnings'] = total_earnings_by_genre['total']/total_number_of_movies_by_genre['total']\n",
    "total_earnings_by_genre"
   ]
  },
  {
   "cell_type": "code",
   "execution_count": 115,
   "id": "8c81c964",
   "metadata": {},
   "outputs": [],
   "source": [
    "total_earnings_by_genre = total_earnings_by_genre.sort_values(['avg_earnings'],ascending=False)"
   ]
  },
  {
   "cell_type": "markdown",
   "id": "150dbb39",
   "metadata": {},
   "source": [
    "<b>Final Answer</b>"
   ]
  },
  {
   "cell_type": "code",
   "execution_count": 114,
   "id": "e86de857",
   "metadata": {},
   "outputs": [
    {
     "data": {
      "text/plain": [
       "1    Adventure\n",
       "0       Action\n",
       "9      Musical\n",
       "Name: genre, dtype: object"
      ]
     },
     "execution_count": 114,
     "metadata": {},
     "output_type": "execute_result"
    }
   ],
   "source": [
    "total_earnings_by_genre['genre'].head(3)"
   ]
  },
  {
   "cell_type": "markdown",
   "id": "77fb8698",
   "metadata": {},
   "source": [
    "<br>\n",
    "<h3>2) Do movies with sequels tend to have higher gross earnings than the movies without sequels. You can pick the last movie to come out for a prequel.</h3>"
   ]
  },
  {
   "cell_type": "code",
   "execution_count": 117,
   "id": "5c729afe",
   "metadata": {},
   "outputs": [],
   "source": [
    "movie_with_sequel = df[df['movie_sequel']>0].groupby('name')"
   ]
  },
  {
   "cell_type": "code",
   "execution_count": 60,
   "id": "b158b7f8",
   "metadata": {},
   "outputs": [
    {
     "data": {
      "text/html": [
       "<div>\n",
       "<style scoped>\n",
       "    .dataframe tbody tr th:only-of-type {\n",
       "        vertical-align: middle;\n",
       "    }\n",
       "\n",
       "    .dataframe tbody tr th {\n",
       "        vertical-align: top;\n",
       "    }\n",
       "\n",
       "    .dataframe thead th {\n",
       "        text-align: right;\n",
       "    }\n",
       "</style>\n",
       "<table border=\"1\" class=\"dataframe\">\n",
       "  <thead>\n",
       "    <tr style=\"text-align: right;\">\n",
       "      <th></th>\n",
       "      <th>id</th>\n",
       "      <th>name</th>\n",
       "      <th>display_name</th>\n",
       "      <th>production_year</th>\n",
       "      <th>movie_sequel</th>\n",
       "      <th>creative_type</th>\n",
       "      <th>source</th>\n",
       "      <th>production_method</th>\n",
       "      <th>genre</th>\n",
       "      <th>language</th>\n",
       "      <th>board_rating_reason</th>\n",
       "      <th>movie_board_rating_display_name</th>\n",
       "      <th>movie_release_pattern_display_name</th>\n",
       "      <th>total</th>\n",
       "      <th>Category</th>\n",
       "    </tr>\n",
       "  </thead>\n",
       "  <tbody>\n",
       "    <tr>\n",
       "      <th>1</th>\n",
       "      <td>50950115</td>\n",
       "      <td>Harry Potter and the Deathly Hallows: Part II</td>\n",
       "      <td>Harry Potter and the Deathly Hallows: Part II</td>\n",
       "      <td>2011</td>\n",
       "      <td>1</td>\n",
       "      <td>Fantasy</td>\n",
       "      <td>Based on Fiction Book/Short Story</td>\n",
       "      <td>Animation/Live Action</td>\n",
       "      <td>Adventure</td>\n",
       "      <td>English</td>\n",
       "      <td>for some sequences of intense action violence ...</td>\n",
       "      <td>PG-13</td>\n",
       "      <td>Wide</td>\n",
       "      <td>1328</td>\n",
       "      <td>9</td>\n",
       "    </tr>\n",
       "    <tr>\n",
       "      <th>8</th>\n",
       "      <td>50940115</td>\n",
       "      <td>Harry Potter and the Deathly Hallows: Part I</td>\n",
       "      <td>Harry Potter and the Deathly Hallows: Part I</td>\n",
       "      <td>2010</td>\n",
       "      <td>1</td>\n",
       "      <td>Fantasy</td>\n",
       "      <td>Based on Fiction Book/Short Story</td>\n",
       "      <td>Animation/Live Action</td>\n",
       "      <td>Adventure</td>\n",
       "      <td>English</td>\n",
       "      <td>for some sequences of intense action violence,...</td>\n",
       "      <td>PG-13</td>\n",
       "      <td>Wide</td>\n",
       "      <td>956</td>\n",
       "      <td>9</td>\n",
       "    </tr>\n",
       "    <tr>\n",
       "      <th>9</th>\n",
       "      <td>50990115</td>\n",
       "      <td>Harry Potter and the Order of the Phoenix</td>\n",
       "      <td>Harry Potter and the Order of the Phoenix</td>\n",
       "      <td>2007</td>\n",
       "      <td>1</td>\n",
       "      <td>Fantasy</td>\n",
       "      <td>Based on Fiction Book/Short Story</td>\n",
       "      <td>Animation/Live Action</td>\n",
       "      <td>Adventure</td>\n",
       "      <td>English</td>\n",
       "      <td>for sequences of fantasy violence and frighten...</td>\n",
       "      <td>PG-13</td>\n",
       "      <td>Wide</td>\n",
       "      <td>943</td>\n",
       "      <td>9</td>\n",
       "    </tr>\n",
       "    <tr>\n",
       "      <th>10</th>\n",
       "      <td>50980115</td>\n",
       "      <td>Harry Potter and the Half-Blood Prince</td>\n",
       "      <td>Harry Potter and the Half-Blood Prince</td>\n",
       "      <td>2009</td>\n",
       "      <td>1</td>\n",
       "      <td>Fantasy</td>\n",
       "      <td>Based on Fiction Book/Short Story</td>\n",
       "      <td>Animation/Live Action</td>\n",
       "      <td>Adventure</td>\n",
       "      <td>English</td>\n",
       "      <td>for scary images, some violence, language and ...</td>\n",
       "      <td>PG</td>\n",
       "      <td>Wide</td>\n",
       "      <td>934</td>\n",
       "      <td>9</td>\n",
       "    </tr>\n",
       "  </tbody>\n",
       "</table>\n",
       "</div>"
      ],
      "text/plain": [
       "          id                                           name  \\\n",
       "1   50950115  Harry Potter and the Deathly Hallows: Part II   \n",
       "8   50940115   Harry Potter and the Deathly Hallows: Part I   \n",
       "9   50990115      Harry Potter and the Order of the Phoenix   \n",
       "10  50980115         Harry Potter and the Half-Blood Prince   \n",
       "\n",
       "                                     display_name  production_year  \\\n",
       "1   Harry Potter and the Deathly Hallows: Part II             2011   \n",
       "8    Harry Potter and the Deathly Hallows: Part I             2010   \n",
       "9       Harry Potter and the Order of the Phoenix             2007   \n",
       "10         Harry Potter and the Half-Blood Prince             2009   \n",
       "\n",
       "    movie_sequel creative_type                             source  \\\n",
       "1              1       Fantasy  Based on Fiction Book/Short Story   \n",
       "8              1       Fantasy  Based on Fiction Book/Short Story   \n",
       "9              1       Fantasy  Based on Fiction Book/Short Story   \n",
       "10             1       Fantasy  Based on Fiction Book/Short Story   \n",
       "\n",
       "        production_method      genre language  \\\n",
       "1   Animation/Live Action  Adventure  English   \n",
       "8   Animation/Live Action  Adventure  English   \n",
       "9   Animation/Live Action  Adventure  English   \n",
       "10  Animation/Live Action  Adventure  English   \n",
       "\n",
       "                                  board_rating_reason  \\\n",
       "1   for some sequences of intense action violence ...   \n",
       "8   for some sequences of intense action violence,...   \n",
       "9   for sequences of fantasy violence and frighten...   \n",
       "10  for scary images, some violence, language and ...   \n",
       "\n",
       "   movie_board_rating_display_name movie_release_pattern_display_name  total  \\\n",
       "1                            PG-13                               Wide   1328   \n",
       "8                            PG-13                               Wide    956   \n",
       "9                            PG-13                               Wide    943   \n",
       "10                              PG                               Wide    934   \n",
       "\n",
       "    Category  \n",
       "1          9  \n",
       "8          9  \n",
       "9          9  \n",
       "10         9  "
      ]
     },
     "execution_count": 60,
     "metadata": {},
     "output_type": "execute_result"
    }
   ],
   "source": [
    "movie_with_sequel[movie_with_sequel['name'].str.contains('Harry')]"
   ]
  },
  {
   "cell_type": "markdown",
   "id": "088e1078",
   "metadata": {},
   "source": [
    "<br>\n",
    "<h3> 3)\tFind the proportion (percentage) of movies by ratings for English language and others (all other languages). Are proportions significantly different from each other? </h3>"
   ]
  },
  {
   "cell_type": "code",
   "execution_count": 47,
   "id": "c389bba7",
   "metadata": {},
   "outputs": [],
   "source": [
    "movies_by_language = df[['name','language']].groupby('language')\n",
    "movies_by_language.count()\n",
    "english_movies = df[df['language']=='English']\n",
    "other_language_movies = df[df['language']!='English']"
   ]
  },
  {
   "cell_type": "code",
   "execution_count": 56,
   "id": "864fb5c3",
   "metadata": {},
   "outputs": [
    {
     "data": {
      "text/html": [
       "<div>\n",
       "<style scoped>\n",
       "    .dataframe tbody tr th:only-of-type {\n",
       "        vertical-align: middle;\n",
       "    }\n",
       "\n",
       "    .dataframe tbody tr th {\n",
       "        vertical-align: top;\n",
       "    }\n",
       "\n",
       "    .dataframe thead th {\n",
       "        text-align: right;\n",
       "    }\n",
       "</style>\n",
       "<table border=\"1\" class=\"dataframe\">\n",
       "  <thead>\n",
       "    <tr style=\"text-align: right;\">\n",
       "      <th></th>\n",
       "      <th>id</th>\n",
       "      <th>production_year</th>\n",
       "      <th>movie_sequel</th>\n",
       "      <th>total</th>\n",
       "      <th>Category</th>\n",
       "    </tr>\n",
       "    <tr>\n",
       "      <th>movie_board_rating_display_name</th>\n",
       "      <th></th>\n",
       "      <th></th>\n",
       "      <th></th>\n",
       "      <th></th>\n",
       "      <th></th>\n",
       "    </tr>\n",
       "  </thead>\n",
       "  <tbody>\n",
       "    <tr>\n",
       "      <th>G</th>\n",
       "      <td>3722744370</td>\n",
       "      <td>76344</td>\n",
       "      <td>6</td>\n",
       "      <td>5742</td>\n",
       "      <td>158</td>\n",
       "    </tr>\n",
       "    <tr>\n",
       "      <th>NC-17</th>\n",
       "      <td>387260345</td>\n",
       "      <td>6028</td>\n",
       "      <td>0</td>\n",
       "      <td>80</td>\n",
       "      <td>7</td>\n",
       "    </tr>\n",
       "    <tr>\n",
       "      <th>Not Rated</th>\n",
       "      <td>4825536785</td>\n",
       "      <td>118505</td>\n",
       "      <td>6</td>\n",
       "      <td>827</td>\n",
       "      <td>104</td>\n",
       "    </tr>\n",
       "    <tr>\n",
       "      <th>PG</th>\n",
       "      <td>13768040470</td>\n",
       "      <td>357603</td>\n",
       "      <td>24</td>\n",
       "      <td>27985</td>\n",
       "      <td>766</td>\n",
       "    </tr>\n",
       "    <tr>\n",
       "      <th>PG-13</th>\n",
       "      <td>38021180025</td>\n",
       "      <td>873897</td>\n",
       "      <td>45</td>\n",
       "      <td>61957</td>\n",
       "      <td>1753</td>\n",
       "    </tr>\n",
       "    <tr>\n",
       "      <th>R</th>\n",
       "      <td>39149059565</td>\n",
       "      <td>865843</td>\n",
       "      <td>33</td>\n",
       "      <td>27118</td>\n",
       "      <td>1359</td>\n",
       "    </tr>\n",
       "  </tbody>\n",
       "</table>\n",
       "</div>"
      ],
      "text/plain": [
       "                                          id  production_year  movie_sequel  \\\n",
       "movie_board_rating_display_name                                               \n",
       "G                                 3722744370            76344             6   \n",
       "NC-17                              387260345             6028             0   \n",
       "Not Rated                         4825536785           118505             6   \n",
       "PG                               13768040470           357603            24   \n",
       "PG-13                            38021180025           873897            45   \n",
       "R                                39149059565           865843            33   \n",
       "\n",
       "                                 total  Category  \n",
       "movie_board_rating_display_name                   \n",
       "G                                 5742       158  \n",
       "NC-17                               80         7  \n",
       "Not Rated                          827       104  \n",
       "PG                               27985       766  \n",
       "PG-13                            61957      1753  \n",
       "R                                27118      1359  "
      ]
     },
     "execution_count": 56,
     "metadata": {},
     "output_type": "execute_result"
    }
   ],
   "source": [
    "english_movies_by_rating = english_movies.groupby('movie_board_rating_display_name')\n",
    "total_english_movies = english_movies_by_rating.\n",
    "total_english_movies"
   ]
  },
  {
   "cell_type": "code",
   "execution_count": null,
   "id": "d6ed2a3c",
   "metadata": {},
   "outputs": [],
   "source": []
  }
 ],
 "metadata": {
  "kernelspec": {
   "display_name": "Python 3 (ipykernel)",
   "language": "python",
   "name": "python3"
  },
  "language_info": {
   "codemirror_mode": {
    "name": "ipython",
    "version": 3
   },
   "file_extension": ".py",
   "mimetype": "text/x-python",
   "name": "python",
   "nbconvert_exporter": "python",
   "pygments_lexer": "ipython3",
   "version": "3.8.8"
  }
 },
 "nbformat": 4,
 "nbformat_minor": 5
}
