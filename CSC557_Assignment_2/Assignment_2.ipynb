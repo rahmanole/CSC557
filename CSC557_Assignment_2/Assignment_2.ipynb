{
 "cells": [
  {
   "cell_type": "markdown",
   "id": "071109e3",
   "metadata": {},
   "source": [
    "1)\tWhat are the top three genre of movies with the highest average earnings? \n",
    "\n",
    "2)\tDo movies with sequels tend to have higher gross earnings than the movies without sequels. You can pick the last movie to come out for a prequel.\n",
    "<br>\n"
   ]
  },
  {
   "cell_type": "code",
   "execution_count": 118,
   "id": "270f85d6",
   "metadata": {},
   "outputs": [],
   "source": [
    "import pandas as pd\n",
    "import numpy as np"
   ]
  },
  {
   "cell_type": "code",
   "execution_count": 119,
   "id": "08a5d951",
   "metadata": {},
   "outputs": [
    {
     "data": {
      "text/plain": [
       "R            448\n",
       "PG-13        441\n",
       "PG           182\n",
       "Not Rated     83\n",
       "G             39\n",
       "NC-17          3\n",
       "Name: movie_board_rating_display_name, dtype: int64"
      ]
     },
     "execution_count": 119,
     "metadata": {},
     "output_type": "execute_result"
    }
   ],
   "source": [
    "df = pd.read_excel('hollywood.xlsx')\n",
    "df['movie_board_rating_display_name'].value_counts()"
   ]
  },
  {
   "cell_type": "code",
   "execution_count": 120,
   "id": "9bee0196",
   "metadata": {},
   "outputs": [
    {
     "data": {
      "text/plain": [
       "(1196, 15)"
      ]
     },
     "execution_count": 120,
     "metadata": {},
     "output_type": "execute_result"
    }
   ],
   "source": [
    "df.shape"
   ]
  },
  {
   "cell_type": "code",
   "execution_count": 121,
   "id": "cf4f170d",
   "metadata": {},
   "outputs": [
    {
     "data": {
      "text/plain": [
       "id                                    False\n",
       "name                                  False\n",
       "display_name                          False\n",
       "production_year                       False\n",
       "movie_sequel                          False\n",
       "creative_type                         False\n",
       "source                                False\n",
       "production_method                     False\n",
       "genre                                 False\n",
       "language                              False\n",
       "board_rating_reason                   False\n",
       "movie_board_rating_display_name       False\n",
       "movie_release_pattern_display_name    False\n",
       "total                                 False\n",
       "Category                              False\n",
       "dtype: bool"
      ]
     },
     "execution_count": 121,
     "metadata": {},
     "output_type": "execute_result"
    }
   ],
   "source": [
    "## To check if there is any null value in the dataframe\n",
    "df.isnull().any()"
   ]
  },
  {
   "cell_type": "markdown",
   "id": "c25e7a87",
   "metadata": {},
   "source": [
    "<br>\n",
    "<h3>1) What are the top three genre of movies with the highest average earnings?</h3>"
   ]
  },
  {
   "cell_type": "code",
   "execution_count": 122,
   "id": "203ffd12",
   "metadata": {},
   "outputs": [],
   "source": [
    "movies_grouped_by_genre = df[['total','genre']].groupby('genre',as_index=False)"
   ]
  },
  {
   "cell_type": "code",
   "execution_count": 123,
   "id": "4c77245c",
   "metadata": {},
   "outputs": [],
   "source": [
    "## This line of code finds total earning by each genre\n",
    "total_earnings_by_genre = movies_grouped_by_genre.sum()"
   ]
  },
  {
   "cell_type": "code",
   "execution_count": 124,
   "id": "a28df51c",
   "metadata": {},
   "outputs": [
    {
     "data": {
      "text/html": [
       "<div>\n",
       "<style scoped>\n",
       "    .dataframe tbody tr th:only-of-type {\n",
       "        vertical-align: middle;\n",
       "    }\n",
       "\n",
       "    .dataframe tbody tr th {\n",
       "        vertical-align: top;\n",
       "    }\n",
       "\n",
       "    .dataframe thead th {\n",
       "        text-align: right;\n",
       "    }\n",
       "</style>\n",
       "<table border=\"1\" class=\"dataframe\">\n",
       "  <thead>\n",
       "    <tr style=\"text-align: right;\">\n",
       "      <th></th>\n",
       "      <th>genre</th>\n",
       "      <th>total</th>\n",
       "      <th>avg_earnings</th>\n",
       "    </tr>\n",
       "  </thead>\n",
       "  <tbody>\n",
       "    <tr>\n",
       "      <th>0</th>\n",
       "      <td>Action</td>\n",
       "      <td>25180</td>\n",
       "      <td>203.064516</td>\n",
       "    </tr>\n",
       "    <tr>\n",
       "      <th>1</th>\n",
       "      <td>Adventure</td>\n",
       "      <td>32369</td>\n",
       "      <td>302.514019</td>\n",
       "    </tr>\n",
       "    <tr>\n",
       "      <th>2</th>\n",
       "      <td>Black Comedy</td>\n",
       "      <td>648</td>\n",
       "      <td>54.000000</td>\n",
       "    </tr>\n",
       "    <tr>\n",
       "      <th>3</th>\n",
       "      <td>Comedy</td>\n",
       "      <td>23460</td>\n",
       "      <td>90.230769</td>\n",
       "    </tr>\n",
       "    <tr>\n",
       "      <th>4</th>\n",
       "      <td>Concert/Performance</td>\n",
       "      <td>270</td>\n",
       "      <td>45.000000</td>\n",
       "    </tr>\n",
       "    <tr>\n",
       "      <th>5</th>\n",
       "      <td>Documentary</td>\n",
       "      <td>914</td>\n",
       "      <td>16.925926</td>\n",
       "    </tr>\n",
       "    <tr>\n",
       "      <th>6</th>\n",
       "      <td>Drama</td>\n",
       "      <td>16493</td>\n",
       "      <td>51.380062</td>\n",
       "    </tr>\n",
       "    <tr>\n",
       "      <th>7</th>\n",
       "      <td>Horror</td>\n",
       "      <td>5822</td>\n",
       "      <td>78.675676</td>\n",
       "    </tr>\n",
       "    <tr>\n",
       "      <th>8</th>\n",
       "      <td>Multiple Genres</td>\n",
       "      <td>31</td>\n",
       "      <td>3.444444</td>\n",
       "    </tr>\n",
       "    <tr>\n",
       "      <th>9</th>\n",
       "      <td>Musical</td>\n",
       "      <td>1718</td>\n",
       "      <td>143.166667</td>\n",
       "    </tr>\n",
       "    <tr>\n",
       "      <th>10</th>\n",
       "      <td>Romantic Comedy</td>\n",
       "      <td>5900</td>\n",
       "      <td>73.750000</td>\n",
       "    </tr>\n",
       "    <tr>\n",
       "      <th>11</th>\n",
       "      <td>Thriller/Suspense</td>\n",
       "      <td>11935</td>\n",
       "      <td>91.106870</td>\n",
       "    </tr>\n",
       "    <tr>\n",
       "      <th>12</th>\n",
       "      <td>Western</td>\n",
       "      <td>485</td>\n",
       "      <td>80.833333</td>\n",
       "    </tr>\n",
       "  </tbody>\n",
       "</table>\n",
       "</div>"
      ],
      "text/plain": [
       "                  genre  total  avg_earnings\n",
       "0                Action  25180    203.064516\n",
       "1             Adventure  32369    302.514019\n",
       "2          Black Comedy    648     54.000000\n",
       "3                Comedy  23460     90.230769\n",
       "4   Concert/Performance    270     45.000000\n",
       "5           Documentary    914     16.925926\n",
       "6                 Drama  16493     51.380062\n",
       "7                Horror   5822     78.675676\n",
       "8       Multiple Genres     31      3.444444\n",
       "9               Musical   1718    143.166667\n",
       "10      Romantic Comedy   5900     73.750000\n",
       "11    Thriller/Suspense  11935     91.106870\n",
       "12              Western    485     80.833333"
      ]
     },
     "execution_count": 124,
     "metadata": {},
     "output_type": "execute_result"
    }
   ],
   "source": [
    "## This line of code finds total number of movies by each genre\n",
    "total_number_of_movies_by_genre = movies_grouped_by_genre.count()\n",
    "\n",
    "total_earnings_by_genre['avg_earnings'] = total_earnings_by_genre['total']/total_number_of_movies_by_genre['total']\n",
    "total_earnings_by_genre"
   ]
  },
  {
   "cell_type": "code",
   "execution_count": 125,
   "id": "8c81c964",
   "metadata": {},
   "outputs": [],
   "source": [
    "total_earnings_by_genre = total_earnings_by_genre.sort_values(['avg_earnings'],ascending=False)"
   ]
  },
  {
   "cell_type": "markdown",
   "id": "150dbb39",
   "metadata": {},
   "source": [
    "<b>Final Answer</b>"
   ]
  },
  {
   "cell_type": "code",
   "execution_count": 126,
   "id": "e86de857",
   "metadata": {},
   "outputs": [
    {
     "data": {
      "text/plain": [
       "1    Adventure\n",
       "0       Action\n",
       "9      Musical\n",
       "Name: genre, dtype: object"
      ]
     },
     "execution_count": 126,
     "metadata": {},
     "output_type": "execute_result"
    }
   ],
   "source": [
    "total_earnings_by_genre['genre'].head(3)"
   ]
  },
  {
   "cell_type": "markdown",
   "id": "77fb8698",
   "metadata": {},
   "source": [
    "<br>\n",
    "<h3>2) Do movies with sequels tend to have higher gross earnings than the movies without sequels. You can pick the last movie to come out for a prequel.</h3>"
   ]
  },
  {
   "cell_type": "code",
   "execution_count": 127,
   "id": "5c729afe",
   "metadata": {},
   "outputs": [],
   "source": [
    "movie_with_sequel = df[df['movie_sequel']>0].groupby('name')"
   ]
  },
  {
   "cell_type": "code",
   "execution_count": 129,
   "id": "b158b7f8",
   "metadata": {},
   "outputs": [],
   "source": [
    "#movie_with_sequel[movie_with_sequel['name'].str.contains('Harry')]"
   ]
  },
  {
   "cell_type": "markdown",
   "id": "088e1078",
   "metadata": {},
   "source": [
    "<br>\n",
    "<h3> 3)\tFind the proportion (percentage) of movies by ratings for English language and others (all other languages). Are proportions significantly different from each other? </h3>"
   ]
  },
  {
   "cell_type": "code",
   "execution_count": 130,
   "id": "c389bba7",
   "metadata": {},
   "outputs": [],
   "source": [
    "movies_by_language = df[['name','language']].groupby('language')\n",
    "movies_by_language.count()\n",
    "english_movies = df[df['language']=='English']\n",
    "other_language_movies = df[df['language']!='English']"
   ]
  },
  {
   "cell_type": "code",
   "execution_count": 179,
   "id": "df5d3145",
   "metadata": {},
   "outputs": [],
   "source": [
    "proportions_by_rating = pd.DataFrame(english_movies['movie_board_rating_display_name'].value_counts())\n",
    "rating_labels = proportions_by_rating.index\n",
    "proportions_by_rating['rating'] = rating_labels\n",
    "proportions_by_rating.index = [i for i in range(1,len(proportions_by_rating)+1)]\n",
    "total = sum(english_movies['movie_board_rating_display_name'].value_counts())\n",
    "proportions_by_rating['total_movies'] = proportions_by_rating['movie_board_rating_display_name']\n",
    "proportions_by_rating['proportion'] = proportions_by_rating['movie_board_rating_display_name']/total*100\n",
    "proportions_by_rating.drop('movie_board_rating_display_name',axis=1,inplace = True)"
   ]
  },
  {
   "cell_type": "code",
   "execution_count": 182,
   "id": "d6ed2a3c",
   "metadata": {},
   "outputs": [
    {
     "data": {
      "text/html": [
       "<div>\n",
       "<style scoped>\n",
       "    .dataframe tbody tr th:only-of-type {\n",
       "        vertical-align: middle;\n",
       "    }\n",
       "\n",
       "    .dataframe tbody tr th {\n",
       "        vertical-align: top;\n",
       "    }\n",
       "\n",
       "    .dataframe thead th {\n",
       "        text-align: right;\n",
       "    }\n",
       "</style>\n",
       "<table border=\"1\" class=\"dataframe\">\n",
       "  <thead>\n",
       "    <tr style=\"text-align: right;\">\n",
       "      <th></th>\n",
       "      <th>rating</th>\n",
       "      <th>total_movies</th>\n",
       "      <th>proportion</th>\n",
       "    </tr>\n",
       "  </thead>\n",
       "  <tbody>\n",
       "    <tr>\n",
       "      <th>1</th>\n",
       "      <td>PG-13</td>\n",
       "      <td>435</td>\n",
       "      <td>38.024476</td>\n",
       "    </tr>\n",
       "    <tr>\n",
       "      <th>2</th>\n",
       "      <td>R</td>\n",
       "      <td>431</td>\n",
       "      <td>37.674825</td>\n",
       "    </tr>\n",
       "    <tr>\n",
       "      <th>3</th>\n",
       "      <td>PG</td>\n",
       "      <td>178</td>\n",
       "      <td>15.559441</td>\n",
       "    </tr>\n",
       "    <tr>\n",
       "      <th>4</th>\n",
       "      <td>Not Rated</td>\n",
       "      <td>59</td>\n",
       "      <td>5.157343</td>\n",
       "    </tr>\n",
       "    <tr>\n",
       "      <th>5</th>\n",
       "      <td>G</td>\n",
       "      <td>38</td>\n",
       "      <td>3.321678</td>\n",
       "    </tr>\n",
       "    <tr>\n",
       "      <th>6</th>\n",
       "      <td>NC-17</td>\n",
       "      <td>3</td>\n",
       "      <td>0.262238</td>\n",
       "    </tr>\n",
       "  </tbody>\n",
       "</table>\n",
       "</div>"
      ],
      "text/plain": [
       "      rating  total_movies  proportion\n",
       "1      PG-13           435   38.024476\n",
       "2          R           431   37.674825\n",
       "3         PG           178   15.559441\n",
       "4  Not Rated            59    5.157343\n",
       "5          G            38    3.321678\n",
       "6      NC-17             3    0.262238"
      ]
     },
     "execution_count": 182,
     "metadata": {},
     "output_type": "execute_result"
    }
   ],
   "source": [
    "proportions_by_rating['proportion'].round(decimals=2)\n",
    "proportions_by_rating"
   ]
  },
  {
   "cell_type": "code",
   "execution_count": null,
   "id": "2ff5c7af",
   "metadata": {},
   "outputs": [],
   "source": []
  }
 ],
 "metadata": {
  "kernelspec": {
   "display_name": "Python 3",
   "language": "python",
   "name": "python3"
  },
  "language_info": {
   "codemirror_mode": {
    "name": "ipython",
    "version": 3
   },
   "file_extension": ".py",
   "mimetype": "text/x-python",
   "name": "python",
   "nbconvert_exporter": "python",
   "pygments_lexer": "ipython3",
   "version": "3.8.8"
  }
 },
 "nbformat": 4,
 "nbformat_minor": 5
}
