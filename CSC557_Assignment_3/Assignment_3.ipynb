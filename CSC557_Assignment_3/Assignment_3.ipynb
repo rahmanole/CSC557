{
 "cells": [
  {
   "cell_type": "code",
   "execution_count": 53,
   "id": "81dec2ae",
   "metadata": {},
   "outputs": [],
   "source": [
    "import numpy as np\n",
    "import pandas as pd"
   ]
  },
  {
   "cell_type": "code",
   "execution_count": 125,
   "id": "7abbc32c",
   "metadata": {
    "scrolled": true
   },
   "outputs": [],
   "source": [
    "sell_price = 25\n",
    "buy_price = 22\n",
    "discounts = {}\n",
    "discounts['January'] = 00.5\n",
    "discounts['February'] = 1.3\n",
    "discounts['March'] = 3.5\n",
    "discounts['April'] = 10\n",
    "discounts['May'] = 20\n",
    "discounts['June'] = 5\n",
    "discounts['July'] = 9\n",
    "discounts['August'] = 1\n",
    "discounts['September'] = 1\n",
    "discounts['October']=1\n",
    "discounts['November'] =0\n",
    "discounts['December']=0"
   ]
  },
  {
   "cell_type": "code",
   "execution_count": 126,
   "id": "f851c090",
   "metadata": {},
   "outputs": [],
   "source": [
    "units = {}\n",
    "units['January'] = 100\n",
    "units['February'] = 110\n",
    "units['March'] = 120\n",
    "units['April'] = 150\n",
    "units['May'] = 100\n",
    "units['June'] = 120\n",
    "units['July'] = 130\n",
    "units['August'] = 90\n",
    "units['September'] = 130\n",
    "units['October']= 170\n",
    "units['November'] =200\n",
    "units['December']=235"
   ]
  },
  {
   "cell_type": "markdown",
   "id": "df994a34",
   "metadata": {},
   "source": [
    "<b>Task 1: Provide in a dictionary, the price after the discount. The keys should be the month and the   values should be the price after discount."
   ]
  },
  {
   "cell_type": "code",
   "execution_count": 127,
   "id": "a2d62782",
   "metadata": {},
   "outputs": [
    {
     "data": {
      "text/plain": [
       "{'January': 2487.5,\n",
       " 'February': 2714.25,\n",
       " 'March': 2895.0,\n",
       " 'April': 3375.0,\n",
       " 'May': 2000.0,\n",
       " 'June': 2850.0,\n",
       " 'July': 2957.5,\n",
       " 'August': 2227.5,\n",
       " 'September': 3217.5,\n",
       " 'October': 4207.5,\n",
       " 'November': 5000.0,\n",
       " 'December': 5875.0}"
      ]
     },
     "execution_count": 127,
     "metadata": {},
     "output_type": "execute_result"
    }
   ],
   "source": [
    "discounted_prices = {}\n",
    "for m in units.keys():\n",
    "    total_price = units[m]*sell_price\n",
    "    discounted_prices[m] = total_price - total_price*(discounts[m]/100)\n",
    "discounted_prices"
   ]
  },
  {
   "cell_type": "markdown",
   "id": "50cd268b",
   "metadata": {},
   "source": [
    "<b>Task 2: Provide in a dictionary, the quarterly average price for the chocolate bar.</b>"
   ]
  },
  {
   "cell_type": "code",
   "execution_count": 128,
   "id": "3a119b56",
   "metadata": {},
   "outputs": [
    {
     "data": {
      "text/plain": [
       "{'Q1': 2698.92, 'Q2': 2741.67, 'Q3': 2800.83, 'Q4': 5027.5}"
      ]
     },
     "execution_count": 128,
     "metadata": {},
     "output_type": "execute_result"
    }
   ],
   "source": [
    "qrtrs = ['Q1','Q2','Q3','Q4']\n",
    "prices_ = list(discounted_prices.values())\n",
    "initial=0\n",
    "q_prices = []\n",
    "for i in range(3,15,3):\n",
    "    q_prices.append(round(sum(prices_[initial:i])/3,2))\n",
    "    initial = i\n",
    "\n",
    "quarterly_average_price = {qrtrs[i]:q_prices[i] for i in range(0,4)}\n",
    "quarterly_average_price"
   ]
  },
  {
   "attachments": {},
   "cell_type": "markdown",
   "id": "0faa25ab",
   "metadata": {},
   "source": [
    "<b>Task 3: Provide in a dictionary, if the chocolates were sold with a profit or not. Take $ 22 as a price below which there is no profit. For the month when there is no profit, provide “No Profit”, else provide “Profit”.</b>"
   ]
  },
  {
   "cell_type": "code",
   "execution_count": 130,
   "id": "b4c02b69",
   "metadata": {},
   "outputs": [
    {
     "data": {
      "text/plain": [
       "{'January': 'Profit',\n",
       " 'February': 'Profit',\n",
       " 'March': 'Profit',\n",
       " 'April': 'Profit',\n",
       " 'May': 'No Profit',\n",
       " 'June': 'Profit',\n",
       " 'July': 'Profit',\n",
       " 'August': 'Profit',\n",
       " 'September': 'Profit',\n",
       " 'October': 'Profit',\n",
       " 'November': 'Profit',\n",
       " 'December': 'Profit'}"
      ]
     },
     "execution_count": 130,
     "metadata": {},
     "output_type": "execute_result"
    }
   ],
   "source": [
    "profits = {}\n",
    "months = discounts.keys()\n",
    "for m in months:\n",
    "    profits[m] = 'Profit' if ((discounted_prices[m]) - (units[m]*buy_price))>0 else 'No Profit'\n",
    "    \n",
    "profits"
   ]
  },
  {
   "cell_type": "code",
   "execution_count": null,
   "id": "60d6af42",
   "metadata": {},
   "outputs": [],
   "source": []
  }
 ],
 "metadata": {
  "kernelspec": {
   "display_name": "Python 3 (ipykernel)",
   "language": "python",
   "name": "python3"
  },
  "language_info": {
   "codemirror_mode": {
    "name": "ipython",
    "version": 3
   },
   "file_extension": ".py",
   "mimetype": "text/x-python",
   "name": "python",
   "nbconvert_exporter": "python",
   "pygments_lexer": "ipython3",
   "version": "3.8.8"
  }
 },
 "nbformat": 4,
 "nbformat_minor": 5
}
