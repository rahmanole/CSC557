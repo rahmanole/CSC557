{
 "cells": [
  {
   "cell_type": "markdown",
   "id": "b573d696",
   "metadata": {},
   "source": [
    "<h2>Problem no: 1</h2>"
   ]
  },
  {
   "cell_type": "markdown",
   "id": "d4df71bb",
   "metadata": {},
   "source": [
    "<h2>a.</h2>"
   ]
  },
  {
   "cell_type": "code",
   "execution_count": 47,
   "id": "7f1ab525",
   "metadata": {
    "scrolled": false
   },
   "outputs": [
    {
     "name": "stdout",
     "output_type": "stream",
     "text": [
      "Please enter the size of your container\n",
      "4\n",
      "You will receive 0.25$\n"
     ]
    }
   ],
   "source": [
    "import sys\n",
    "from IPython import get_ipython\n",
    "\n",
    "    \n",
    "## This function will be used to validate input number\n",
    "    \n",
    "def getNumber():\n",
    "    pid = os.getpid()\n",
    "    try:\n",
    "        return int(input().strip())\n",
    "    except ValueError:\n",
    "        print('Please enter a valid number')\n",
    "    sys.exit('sfd')\n",
    "    \n",
    "    \n",
    "print('Please enter the size of your container') \n",
    "size = getNumber()\n",
    "\n",
    "if size<=1:\n",
    "    print('You will receive {:.2f}$'.format(0.10))\n",
    "else:\n",
    "    print('You will receive {:.2f}$'.format(0.25))\n",
    "\n"
   ]
  },
  {
   "cell_type": "markdown",
   "id": "e75747ef",
   "metadata": {},
   "source": [
    "<h2>b.</h2>"
   ]
  },
  {
   "cell_type": "code",
   "execution_count": 48,
   "id": "f70c405f",
   "metadata": {},
   "outputs": [
    {
     "name": "stdout",
     "output_type": "stream",
     "text": [
      "Please enter the number\n",
      "3\n",
      "The number is odd\n"
     ]
    }
   ],
   "source": [
    "print('Please enter the number')\n",
    "\n",
    "num = getNumber()\n",
    "\n",
    "if num%2==0:\n",
    "    print('The number is even')\n",
    "else:\n",
    "    print('The number is odd')"
   ]
  },
  {
   "cell_type": "markdown",
   "id": "8768688f",
   "metadata": {},
   "source": [
    "<h2>Problem no: 2</h2>"
   ]
  },
  {
   "cell_type": "markdown",
   "id": "ebb29529",
   "metadata": {},
   "source": [
    "<h2>a.</h2>"
   ]
  },
  {
   "cell_type": "code",
   "execution_count": 3,
   "id": "e3aa86fb",
   "metadata": {},
   "outputs": [
    {
     "name": "stdout",
     "output_type": "stream",
     "text": [
      "Please enter your total cost\n",
      "5.37\n",
      "Please enter your cash amount to pay\n",
      "10\n",
      "You will receive:\n",
      "\n",
      "2 Toonies 2 Quarter 1 Dime 3 Penny \n"
     ]
    }
   ],
   "source": [
    "## this function will determine how to give minimum number of coins\n",
    "## I have done all kind of validation \n",
    "def chagneCalculator(change):\n",
    "    message = ''\n",
    "    if int(change/2) or change==2 :\n",
    "        toonie = int(change/2)\n",
    "        change = change - toonie*2\n",
    "        message += '{} Toonies '.format(toonie)\n",
    "        \n",
    "    if change >= 1:\n",
    "        change = change - 1\n",
    "        message += '{} Loonies '.format(1)\n",
    "\n",
    "    if (change%0.25) or change==0.25:\n",
    "        quarter = int(change/0.25)\n",
    "        change = round(change - quarter*0.25,2)\n",
    "        message += '{} Quarter '.format(quarter)\n",
    "\n",
    "    if int(change/0.1) or change==0.1:\n",
    "        dime = int(change/0.1)\n",
    "        change = round(change - dime*0.1,2)\n",
    "        message += '{} Dime '.format(dime)\n",
    "\n",
    "    if int(change/0.05) or change==0.05:\n",
    "        nickel = int(change/0.05)\n",
    "        change = round(change - nickel*0.05,2)\n",
    "        message += '{} Nickel '.format(nickel)\n",
    "\n",
    "    if change>0:\n",
    "        penny = int(change*100)\n",
    "        message += '{} Penny '.format(penny)\n",
    "\n",
    "    return message\n",
    "\n",
    "try:\n",
    "    print('Please enter your total cost')\n",
    "    cost = float(input().strip())\n",
    "    print('Please enter your cash amount to pay')\n",
    "    payment = float(input().strip())\n",
    "    \n",
    "    change = payment-cost\n",
    "    \n",
    "    ## chekc if user inserts any negative number\n",
    "    if cost<0 or payment<0:\n",
    "        print('Enter positive number')\n",
    "        \n",
    "    ## chekc if cost is greater than payment\n",
    "    elif change<0:\n",
    "        print('Cost can not be greater than payment')\n",
    "    else:\n",
    "        print('You will receive:\\n')\n",
    "        print(chagneCalculator(change))\n",
    "    \n",
    "except ValueError:\n",
    "    print('Please enter a valid number')\n"
   ]
  },
  {
   "cell_type": "markdown",
   "id": "9e85ae57",
   "metadata": {},
   "source": [
    "<h2>b.</h2>"
   ]
  },
  {
   "cell_type": "code",
   "execution_count": 50,
   "id": "608e37d7",
   "metadata": {},
   "outputs": [
    {
     "name": "stdout",
     "output_type": "stream",
     "text": [
      "Enter 1st number\n",
      "4\n",
      "Enter 2nd number\n",
      "3\n",
      "Enter 3rd number\n",
      "8\n",
      "Sorted list:\n",
      "[3, 4, 8]\n",
      "Minimum number of the list:\n",
      "3\n",
      "Maximum number of the list:\n",
      "8\n"
     ]
    }
   ],
   "source": [
    "print('Enter 1st number')\n",
    "num1 = int(getNumber())\n",
    "print('Enter 2nd number')\n",
    "num2 = int(getNumber())\n",
    "print('Enter 3rd number')\n",
    "num3 = int(getNumber())\n",
    "\n",
    "nums = [num1,num2,num3]\n",
    "nums.sort()\n",
    "print('Sorted list:')\n",
    "print(nums)\n",
    "\n",
    "print('Minimum number of the list:')\n",
    "print(min(nums))\n",
    "print('Maximum number of the list:')\n",
    "print(max(nums))"
   ]
  },
  {
   "cell_type": "markdown",
   "id": "c1e18157",
   "metadata": {},
   "source": [
    "<h2>Problem no: 3</h2>"
   ]
  },
  {
   "cell_type": "code",
   "execution_count": 51,
   "id": "98d69a35",
   "metadata": {},
   "outputs": [
    {
     "name": "stdout",
     "output_type": "stream",
     "text": [
      "Enter the data. ex: September 17\n",
      "July 3\n",
      "Fall\n"
     ]
    }
   ],
   "source": [
    "print('Enter the data. ex: September 17')\n",
    "from datetime import datetime\n",
    "\n",
    "x = str(input()).strip()\n",
    "\n",
    "## Function to convert string to date\n",
    "\n",
    "def dateConvert(x):\n",
    "    ## For input validation i used try except block. If someone enters date in invalid format then \n",
    "    ## it will notify the user.\n",
    "    \n",
    "    try:\n",
    "        return datetime.strptime(x, '%B %d')\n",
    "    except ValueError:\n",
    "        print('Enter your data according to given format. ex: September 17')\n",
    "        \n",
    "date1 = dateConvert('January 1')\n",
    "date2 = dateConvert('March 20')\n",
    "date3 = dateConvert('June 21')\n",
    "date4 = dateConvert('September 22')\n",
    "date5 = dateConvert('December 21')\n",
    "         \n",
    "## Function for finding the season\n",
    "\n",
    "def findSeason(date):\n",
    "    if date>=date1 and date<=date2:\n",
    "        print('Spring')\n",
    "    elif date>=date2 and date<=date3:\n",
    "        print('Summer')\n",
    "    elif date>=date3 and date<=date4:\n",
    "        print('Fall')\n",
    "    elif date>=date4 and date<=date5:\n",
    "        print('Winter')\n",
    "        \n",
    "date = dateConvert(x)\n",
    "findSeason(date)"
   ]
  },
  {
   "cell_type": "markdown",
   "id": "bfdf9308",
   "metadata": {},
   "source": [
    "<h2>Problem no: 4</h2>"
   ]
  },
  {
   "cell_type": "code",
   "execution_count": 53,
   "id": "8d28a2fb",
   "metadata": {},
   "outputs": [
    {
     "name": "stdout",
     "output_type": "stream",
     "text": [
      "Rating should be 0.0, 0.4, 0.6 or more\n",
      "Please enter your rating\n",
      "1\n",
      "The employee's performance is Maritorius\n",
      "His salary should be raised by 2400.00$\n"
     ]
    }
   ],
   "source": [
    "print('Rating should be 0.0, 0.4, 0.6 or more')\n",
    "print('Please enter your rating')\n",
    "\n",
    "def ratingLabeler(rating):\n",
    "    if rating==0.0:\n",
    "        return 'Unacceptable'\n",
    "    elif rating==0.4:\n",
    "        return 'Acceptable'\n",
    "    else:\n",
    "        return 'Maritorius'\n",
    "    \n",
    "\n",
    "try:\n",
    "    rating = float(input())\n",
    "    if rating == 0.0 or rating == 0.4 or rating >=0.6:\n",
    "        print('The employee\\'s performance is '+ ratingLabeler(rating))\n",
    "        print('His salary should be raised by {:.2f}$'.format(rating*2400))\n",
    "    else:\n",
    "        print('Enter a valid rating')\n",
    "except ValueError:\n",
    "    print('Please enter a valid rating')\n"
   ]
  },
  {
   "cell_type": "markdown",
   "id": "26a4d1e5",
   "metadata": {},
   "source": [
    "<h2>Problem no: 5</h2>"
   ]
  },
  {
   "cell_type": "code",
   "execution_count": 16,
   "id": "4ab98f84",
   "metadata": {},
   "outputs": [
    {
     "name": "stdout",
     "output_type": "stream",
     "text": [
      "Please enter your password\n",
      "hj\n",
      "Password must contain 8 characters\n",
      "Password must contains at least one upper case characters\n",
      "Password must contains at least one number\n"
     ]
    }
   ],
   "source": [
    "import re,sys\n",
    "\n",
    "print('Please enter your password')\n",
    "password = input()\n",
    "lower = '[a-z]+'\n",
    "upper = '[A-Z]+'\n",
    "number = '[0-9]+'\n",
    "if len(password)<8:\n",
    "    print('Password must contain 8 characters')\n",
    "    #sys.exit(0)\n",
    "if len(re.findall(lower,password))==0:\n",
    "    print('Password must contains at least one lower case characters')\n",
    "if len(re.findall(upper,password))==0:\n",
    "    print('Password must contains at least one upper case characters')\n",
    "if len(re.findall(upper,password))==0:\n",
    "    print('Password must contains at least one number')\n",
    "    "
   ]
  },
  {
   "cell_type": "code",
   "execution_count": null,
   "id": "7fd7d88f",
   "metadata": {},
   "outputs": [],
   "source": []
  }
 ],
 "metadata": {
  "kernelspec": {
   "display_name": "Python 3 (ipykernel)",
   "language": "python",
   "name": "python3"
  },
  "language_info": {
   "codemirror_mode": {
    "name": "ipython",
    "version": 3
   },
   "file_extension": ".py",
   "mimetype": "text/x-python",
   "name": "python",
   "nbconvert_exporter": "python",
   "pygments_lexer": "ipython3",
   "version": "3.8.8"
  }
 },
 "nbformat": 4,
 "nbformat_minor": 5
}
