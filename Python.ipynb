{
 "cells": [
  {
   "cell_type": "markdown",
   "id": "cc33356c",
   "metadata": {},
   "source": [
    "Variable"
   ]
  },
  {
   "cell_type": "code",
   "execution_count": 1,
   "id": "b01a4d6f",
   "metadata": {
    "scrolled": true
   },
   "outputs": [
    {
     "name": "stdout",
     "output_type": "stream",
     "text": [
      "apple\n",
      "banana\n",
      "cherry\n"
     ]
    }
   ],
   "source": [
    "fruits = [\"apple\", \"banana\", \"cherry\"]\n",
    "x, y, z = fruits\n",
    "print(x)\n",
    "print(y)\n",
    "print(z)"
   ]
  },
  {
   "cell_type": "markdown",
   "id": "2177c0d9",
   "metadata": {},
   "source": [
    "Change a global variable from a function"
   ]
  },
  {
   "cell_type": "code",
   "execution_count": 2,
   "id": "7d0e46f0",
   "metadata": {},
   "outputs": [
    {
     "name": "stdout",
     "output_type": "stream",
     "text": [
      "Python is fantastic\n",
      "Python is awesome\n"
     ]
    }
   ],
   "source": [
    "x = \"awesome\"\n",
    "\n",
    "def myfunc():\n",
    "  x = \"fantastic\"\n",
    "  print(\"Python is \" + x)\n",
    "\n",
    "myfunc()\n",
    "\n",
    "print(\"Python is \" + x)"
   ]
  },
  {
   "cell_type": "markdown",
   "id": "f933de30",
   "metadata": {},
   "source": [
    "Data type"
   ]
  },
  {
   "cell_type": "markdown",
   "id": "7b333e0a",
   "metadata": {},
   "source": [
    "<pre>\n",
    "Text Type: str\n",
    "Numeric Types: int, float, complex\n",
    "Sequence Types: list, tuple, range\n",
    "Mapping Type: dict\n",
    "Set Types: set, frozenset\n",
    "Boolean Type: bool\n",
    "Binary Types:bytes, bytearray, memoryview\n",
    "</pre>"
   ]
  },
  {
   "cell_type": "markdown",
   "id": "a77e2201",
   "metadata": {},
   "source": [
    "String"
   ]
  },
  {
   "cell_type": "code",
   "execution_count": 1,
   "id": "4a6d587e",
   "metadata": {},
   "outputs": [
    {
     "name": "stdout",
     "output_type": "stream",
     "text": [
      "Yes, 'free' is present.\n"
     ]
    }
   ],
   "source": [
    "txt = \"The best things in life are free!\"\n",
    "if \"free\" in txt:\n",
    "  print(\"Yes, 'free' is present.\")"
   ]
  },
  {
   "cell_type": "markdown",
   "id": "33f97843",
   "metadata": {},
   "source": [
    "<b>String Methods</b>"
   ]
  },
  {
   "cell_type": "markdown",
   "id": "267fffdb",
   "metadata": {},
   "source": [
    "<pre>\n",
    "    Method\tDescription\n",
    "    capitalize()\tConverts the first character to upper case\n",
    "    casefold()\tConverts string into lower case\n",
    "    center()\tReturns a centered string\n",
    "    count()\tReturns the number of times a specified value occurs in a string\n",
    "    encode()\tReturns an encoded version of the string\n",
    "    endswith()\tReturns true if the string ends with the specified value\n",
    "    expandtabs()\tSets the tab size of the string\n",
    "    find()\tSearches the string for a specified value and returns the position of where it was found\n",
    "    format()\tFormats specified values in a string\n",
    "    format_map()\tFormats specified values in a string\n",
    "    index()\tSearches the string for a specified value and returns the position of where it was found\n",
    "        index returns exception if specified value is missing and find return -1\n",
    "    isalnum()\tReturns True if all characters in the string are alphanumeric\n",
    "    isalpha()\tReturns True if all characters in the string are in the alphabet\n",
    "    isascii()\tReturns True if all characters in the string are ascii characters\n",
    "    isdecimal()\tReturns True if all characters in the string are decimals\n",
    "    isdigit()\tReturns True if all characters in the string are digits\n",
    "    isidentifier()\tReturns True if the string is an identifier\n",
    "    islower()\tReturns True if all characters in the string are lower case\n",
    "    isnumeric()\tReturns True if all characters in the string are numeric\n",
    "    isprintable()\tReturns True if all characters in the string are printable\n",
    "    isspace()\tReturns True if all characters in the string are whitespaces\n",
    "    istitle()\tReturns True if the string follows the rules of a title\n",
    "    isupper()\tReturns True if all characters in the string are upper case\n",
    "    join()\tJoins the elements of an iterable to the end of the string\n",
    "    ljust()\tReturns a left justified version of the string\n",
    "    lower()\tConverts a string into lower case\n",
    "    lstrip()\tReturns a left trim version of the string\n",
    "    maketrans()\tReturns a translation table to be used in translations\n",
    "    partition()\tReturns a tuple where the string is parted into three parts\n",
    "    replace()\tReturns a string where a specified value is replaced with a specified value\n",
    "    rfind()\tSearches the string for a specified value and returns the last position of where it was found\n",
    "    rindex()\tSearches the string for a specified value and returns the last position of where it was found\n",
    "    rjust()\tReturns a right justified version of the string\n",
    "    rpartition()\tReturns a tuple where the string is parted into three parts\n",
    "    rsplit()\tSplits the string at the specified separator, and returns a list\n",
    "    rstrip()\tReturns a right trim version of the string\n",
    "    split()\tSplits the string at the specified separator, and returns a list\n",
    "    splitlines()\tSplits the string at line breaks and returns a list\n",
    "    startswith()\tReturns true if the string starts with the specified value\n",
    "    strip()\tReturns a trimmed version of the string\n",
    "    swapcase()\tSwaps cases, lower case becomes upper case and vice versa\n",
    "    title()\tConverts the first character of each word to upper case\n",
    "    translate()\tReturns a translated string\n",
    "    upper()\tConverts a string into upper case\n",
    "    zfill()\tFills the string with a specified number of 0 values at the beginning\n",
    "</pre>"
   ]
  },
  {
   "cell_type": "markdown",
   "id": "a59e97bf",
   "metadata": {},
   "source": [
    "<b>Formatting Types</b>"
   ]
  },
  {
   "cell_type": "markdown",
   "id": "83761db6",
   "metadata": {},
   "source": [
    "Inside the placeholders you can add a formatting type to format the result:\n",
    "<pre>\n",
    ":<\t\tLeft aligns the result (within the available space)\n",
    ":>\t\tRight aligns the result (within the available space)\n",
    ":^\t\tCenter aligns the result (within the available space)\n",
    ":=\t\tPlaces the sign to the left most position\n",
    ":+\t\tUse a plus sign to indicate if the result is positive or negative\n",
    ":-\t\tUse a minus sign for negative values only\n",
    ": \t\tUse a space to insert an extra space before positive numbers (and a minus sign before negative numbers)\n",
    ":,\t\tUse a comma as a thousand separator\n",
    ":_\t\tUse a underscore as a thousand separator\n",
    ":b\t\tBinary format\n",
    "   <pre>\n",
    "   //this demonstratate example from :b to :X\n",
    "   txt = \"The binary version of {0} is {0:b}\"\n",
    "   print(txt.format(5))\n",
    "   </pre>\n",
    ":c\t\tConverts the value into the corresponding unicode character\n",
    ":d\t\tDecimal format\n",
    ":e\t\tScientific format, with a lower case e\n",
    ":E\t\tScientific format, with an upper case E\n",
    ":f\t\tFix point number format\n",
    ":F\t\tFix point number format, in uppercase format (show inf and nan as INF and NAN)\n",
    ":g\t\tGeneral format\n",
    ":G\t\tGeneral format (using a upper case E for scientific notations)\n",
    ":o\t\tOctal format\n",
    ":x\t\tHex format, lower case\n",
    ":X\t\tHex format, upper case\n",
    ":n\t\tNumber format\n",
    ":%\t\tPercentage format\n",
    "</pre>"
   ]
  },
  {
   "cell_type": "markdown",
   "id": "b43a2d84",
   "metadata": {},
   "source": [
    "<b>bool() Function details</b>"
   ]
  },
  {
   "cell_type": "markdown",
   "id": "5e7d3158",
   "metadata": {},
   "source": [
    "<pre>\n",
    "Almost any value is evaluated to True if it has some sort of content.\n",
    "Any string is True, except empty strings.\n",
    "Any number is True, except 0.\n",
    "Any list, tuple, set, and dictionary are True, except empty ones.\n",
    "</pre>"
   ]
  },
  {
   "cell_type": "code",
   "execution_count": 3,
   "id": "2209708c",
   "metadata": {},
   "outputs": [
    {
     "data": {
      "text/plain": [
       "True"
      ]
     },
     "execution_count": 3,
     "metadata": {},
     "output_type": "execute_result"
    }
   ],
   "source": [
    "bool(\"abc\")\n",
    "bool(123)\n",
    "bool([\"apple\", \"cherry\", \"banana\"])"
   ]
  },
  {
   "cell_type": "markdown",
   "id": "1bdd622c",
   "metadata": {},
   "source": [
    "<pre>\n",
    "Some Values are False\n",
    "In fact, there are not many values that evaluate to False, except empty values, such as (), [], {}, \"\", the number 0, \n",
    "and the value None. And of course the value False evaluates to False.\n",
    "</pre>"
   ]
  },
  {
   "cell_type": "code",
   "execution_count": 4,
   "id": "9aed6ee1",
   "metadata": {},
   "outputs": [
    {
     "data": {
      "text/plain": [
       "False"
      ]
     },
     "execution_count": 4,
     "metadata": {},
     "output_type": "execute_result"
    }
   ],
   "source": [
    "bool(False)\n",
    "bool(None)\n",
    "bool(0)\n",
    "bool(\"\")\n",
    "bool(())\n",
    "bool([])\n",
    "bool({})"
   ]
  },
  {
   "cell_type": "markdown",
   "id": "53ee7cba",
   "metadata": {},
   "source": [
    "<pre>\n",
    "One more value, or object in this case, evaluates to False, and that is if you have an object that is made from a class with a __len__ function that returns 0 or False:\n",
    "\n",
    "In case of objects bool() function evaluetes the built in __len__ method of any class and if len is 0 or  False then it return False.\n",
    "</pre>"
   ]
  },
  {
   "cell_type": "markdown",
   "id": "9ccd0b1e",
   "metadata": {},
   "source": [
    "<h3>Operator</h3>"
   ]
  },
  {
   "cell_type": "markdown",
   "id": "951bf18a",
   "metadata": {},
   "source": [
    "<pre>\n",
    "Python divides the operators in the following groups:\n",
    "\n",
    "Arithmetic operators\n",
    "Assignment operators\n",
    "Comparison operators\n",
    "Logical operators\n",
    "Identity operators\n",
    "Membership operators\n",
    "Bitwise operators\n",
    "</pre>"
   ]
  },
  {
   "cell_type": "markdown",
   "id": "0d319c28",
   "metadata": {},
   "source": [
    "//\tis called floot divison Floor division"
   ]
  },
  {
   "cell_type": "markdown",
   "id": "16ec602e",
   "metadata": {},
   "source": [
    "<pre>\n",
    "Python Logical Operators\n",
    "Logical operators are used to combine conditional statements:\n",
    "\n",
    "Operator\tDescription\tExample\tTry it\n",
    "and \tReturns True if both statements are true\t\n",
    "or\tReturns True if one of the statements is true\t\n",
    "not\tReverse the result, returns False if the result\n",
    "</pre>"
   ]
  },
  {
   "cell_type": "markdown",
   "id": "29084080",
   "metadata": {},
   "source": [
    "<pre>\n",
    "Python Identity Operators\n",
    "Identity operators are used to compare the objects, not if they are equal, but if they are actually the same object, with the same memory location:\n",
    "\n",
    "Operator\tDescription\tExample\tTry it\n",
    "is Returns True if both variables are the same object x is y\n",
    "is not Returns True if both variables are not the same object\n",
    "</pre>"
   ]
  },
  {
   "cell_type": "markdown",
   "id": "92c61761",
   "metadata": {},
   "source": [
    "<pre>\n",
    "Python Membership Operators\n",
    "Membership operators are used to test if a sequence is presented in an object:\n",
    "\n",
    "Operator\tDescription\tExample\tTry it\n",
    "in \tReturns True if a sequence with the specified value is present in the object\tx in y\t\n",
    "not in\tReturns True if a sequence with the specified value is not present in the object\n",
    "</pre>"
   ]
  },
  {
   "cell_type": "markdown",
   "id": "4c5a72d6",
   "metadata": {},
   "source": [
    "<pre>\n",
    "Python Bitwise Operators\n",
    "Bitwise operators are used to compare (binary) numbers:\n",
    "\n",
    "Operator\tName\tDescription\n",
    "& \tAND\tSets each bit to 1 if both bits are 1\n",
    "|\tOR\tSets each bit to 1 if one of two bits is 1\n",
    " ^\tXOR\tSets each bit to 1 if only one of two bits is 1\n",
    "~ \tNOT\tInverts all the bits\n",
    "<<\tZero fill left shift\tShift left by pushing zeros in from the right and let the leftmost bits fall off\n",
    ">>\tSigned right shift\tShift right by pushing copies of the leftmost bit in from the left, and let the rightmost bits fall off\n",
    "</pre>"
   ]
  },
  {
   "cell_type": "markdown",
   "id": "4a4418a6",
   "metadata": {},
   "source": [
    "<h3>List</h3>"
   ]
  },
  {
   "cell_type": "code",
   "execution_count": 12,
   "id": "883edb24",
   "metadata": {},
   "outputs": [],
   "source": [
    "##A list with strings, integers and boolean values:\n",
    "list1 = [\"abc\", 34, True, 40, \"male\"]"
   ]
  },
  {
   "cell_type": "markdown",
   "id": "1619d147",
   "metadata": {},
   "source": [
    "<b>During slicing right index is always excluded</b>"
   ]
  },
  {
   "cell_type": "markdown",
   "id": "6b6e505d",
   "metadata": {},
   "source": [
    "<pre>\n",
    "Note: The length of the list will change when the number of items inserted does not match the number of items replaced.\n",
    "\n",
    "If you insert less items than you replace, the new items will be inserted where you specified, and the remaining items \n",
    "will move accordingly:\n",
    "\n",
    "Example\n",
    "Change the second and third value by replacing it with one value:\n",
    "</pre>"
   ]
  },
  {
   "cell_type": "code",
   "execution_count": 13,
   "id": "71f69317",
   "metadata": {},
   "outputs": [
    {
     "name": "stdout",
     "output_type": "stream",
     "text": [
      "['apple', 'watermelon']\n"
     ]
    }
   ],
   "source": [
    "thislist = [\"apple\", \"banana\", \"cherry\"]\n",
    "thislist[1:3] = [\"watermelon\"]\n",
    "print(thislist)"
   ]
  },
  {
   "cell_type": "markdown",
   "id": "da95ed6f",
   "metadata": {},
   "source": [
    "<pre>\n",
    "Add Any Iterable\n",
    "The extend() method does not have to append lists, you can add any iterable object (tuples, sets, dictionaries etc.).\n",
    "\n",
    "Example\n",
    "Add elements of a tuple to a list:\n",
    "</pre>"
   ]
  },
  {
   "cell_type": "code",
   "execution_count": 17,
   "id": "5998c59a",
   "metadata": {},
   "outputs": [
    {
     "name": "stdout",
     "output_type": "stream",
     "text": [
      "['apple', 'banana', 'cherry', 'kiwi', 'orange']\n"
     ]
    }
   ],
   "source": [
    "thislist = [\"apple\", \"banana\", \"cherry\"]\n",
    "thistuple = (\"kiwi\", \"orange\")\n",
    "thislist.extend(thistuple)\n",
    "print(thislist)"
   ]
  },
  {
   "cell_type": "markdown",
   "id": "35e868ca",
   "metadata": {},
   "source": [
    "<b>Conditional list comprehension</b>"
   ]
  },
  {
   "cell_type": "code",
   "execution_count": 20,
   "id": "c0918a05",
   "metadata": {},
   "outputs": [],
   "source": [
    "fruits = [\"apple\", \"banana\", \"cherry\", \"kiwi\", \"mango\"]\n",
    "newlist = [x for x in fruits if \"a\" in x]"
   ]
  },
  {
   "cell_type": "markdown",
   "id": "5aeb15a3",
   "metadata": {},
   "source": [
    "<pre>\n",
    "By deffault sort() method is case sensative.\n",
    "To perform a case-insensitive sort of the list:\n",
    "</pre>"
   ]
  },
  {
   "cell_type": "code",
   "execution_count": 21,
   "id": "c76d28ac",
   "metadata": {
    "scrolled": true
   },
   "outputs": [
    {
     "name": "stdout",
     "output_type": "stream",
     "text": [
      "['banana', 'cherry', 'Kiwi', 'Orange']\n"
     ]
    }
   ],
   "source": [
    "thislist = [\"banana\", \"Orange\", \"Kiwi\", \"cherry\"]\n",
    "thislist.sort(key = str.lower)\n",
    "print(thislist)"
   ]
  },
  {
   "cell_type": "markdown",
   "id": "32f2baee",
   "metadata": {},
   "source": [
    "<pre>\n",
    "copying list using copy() method retruns another list. Change is reflectd only for nested lists.\n",
    "</pre>"
   ]
  },
  {
   "cell_type": "code",
   "execution_count": 29,
   "id": "e5999a95",
   "metadata": {
    "scrolled": true
   },
   "outputs": [
    {
     "data": {
      "text/plain": [
       "['apple', 'banana', ['d', 'dfd', 'v'], 'cherry']"
      ]
     },
     "execution_count": 29,
     "metadata": {},
     "output_type": "execute_result"
    }
   ],
   "source": [
    "thislist = [\"apple\", \"banana\", ['d','f','v'],\"cherry\"]\n",
    "l = thislist.copy()\n",
    "l[2][1] = 'dfd'\n",
    "thislist"
   ]
  },
  {
   "cell_type": "markdown",
   "id": "047cf267",
   "metadata": {},
   "source": [
    "<b>\n",
    "List Methods\n",
    "</b>\n",
    "\n",
    "<pre>\n",
    "Python has a set of built-in methods that you can use on lists.\n",
    "\n",
    "Method\tDescription\n",
    "append()\tAdds an element at the end of the list\n",
    "clear()\tRemoves all the elements from the list\n",
    "copy()\tReturns a copy of the list\n",
    "count()\tReturns the number of elements with the specified value\n",
    "extend()\tAdd the elements of a list (or any iterable), to the end of the current list\n",
    "<b>extend method inserts given value directlty. any list will be inserted  as list, append() also does same</b>\n",
    "index()\tReturns the index of the first element with the specified value\n",
    "insert()\tAdds an element at the specified position\n",
    "pop()\tRemoves the element at the specified position\n",
    "remove()\tRemoves the item with the specified value\n",
    "reverse()\tReverses the order of the list\n",
    "sort()\tSorts the list\n",
    "</pre>"
   ]
  },
  {
   "cell_type": "code",
   "execution_count": 33,
   "id": "44780773",
   "metadata": {},
   "outputs": [
    {
     "data": {
      "text/plain": [
       "['banana', 'Orange', 'Kiwi', 'cherry', ['dhjdsh']]"
      ]
     },
     "execution_count": 33,
     "metadata": {},
     "output_type": "execute_result"
    }
   ],
   "source": [
    "thislist = [\"banana\", \"Orange\", \"Kiwi\", \"cherry\"]\n",
    "thislist.append(['dhjdsh'])\n",
    "thislist"
   ]
  },
  {
   "cell_type": "markdown",
   "id": "2dac5b79",
   "metadata": {},
   "source": [
    "<b>Unpacking a Tuple</b>"
   ]
  },
  {
   "cell_type": "code",
   "execution_count": 35,
   "id": "fe3276b2",
   "metadata": {
    "scrolled": true
   },
   "outputs": [
    {
     "name": "stdout",
     "output_type": "stream",
     "text": [
      "apple\n",
      "banana\n",
      "cherry\n"
     ]
    }
   ],
   "source": [
    "fruits = (\"apple\", \"banana\", \"cherry\")\n",
    "\n",
    "(green, yellow, red) = fruits\n",
    "\n",
    "print(green)\n",
    "print(yellow)\n",
    "print(red)"
   ]
  },
  {
   "cell_type": "markdown",
   "id": "661db63d",
   "metadata": {},
   "source": [
    "<b>Using Asterisk*</b>"
   ]
  },
  {
   "cell_type": "code",
   "execution_count": 39,
   "id": "405dc32e",
   "metadata": {},
   "outputs": [
    {
     "name": "stdout",
     "output_type": "stream",
     "text": [
      "apple\n",
      "banana\n",
      "['cherry', 'strawberry', 'raspberry']\n"
     ]
    }
   ],
   "source": [
    "fruits = (\"apple\", \"banana\", \"cherry\", \"strawberry\", \"raspberry\")\n",
    "\n",
    "(green, yellow, *red) = fruits\n",
    "\n",
    "print(green)\n",
    "print(yellow)\n",
    "print(red)"
   ]
  },
  {
   "cell_type": "markdown",
   "id": "57ff735f",
   "metadata": {},
   "source": [
    "<b>Note: When creating a tuple with only one item, remember to include a comma after the item, otherwise it will not be identified as a tuple.</b>"
   ]
  },
  {
   "cell_type": "code",
   "execution_count": 41,
   "id": "89269687",
   "metadata": {},
   "outputs": [],
   "source": [
    "y = (\"orange\",)"
   ]
  },
  {
   "cell_type": "markdown",
   "id": "d7c3125c",
   "metadata": {},
   "source": [
    "<b>Tuple Methods</b>\n",
    "<pre>\n",
    "Python has two built-in methods that you can use on tuples.\n",
    "\n",
    "Method\tDescription\n",
    "count()\tReturns the number of times a specified value occurs in a tuple\n",
    "index()\tSearches the tuple for a specified value and returns the position of where it was found\n",
    "</pre>"
   ]
  },
  {
   "cell_type": "markdown",
   "id": "ba4de37b",
   "metadata": {},
   "source": [
    "<h3>Set</h3>"
   ]
  },
  {
   "cell_type": "markdown",
   "id": "2cc2c065",
   "metadata": {},
   "source": [
    "<pre>\n",
    "You cannot access items in a set by referring to an index or a key.\n",
    "\n",
    "But you can loop through the set items using a for loop, or ask if a specified value is present in a set, by using the in keyword.\n",
    "To add one item to a set use the add() method.\n",
    "</pre>"
   ]
  },
  {
   "cell_type": "markdown",
   "id": "2ba82cab",
   "metadata": {},
   "source": [
    "<b>Set Methods</b>\n",
    "Python has a set of built-in methods that you can use on sets.\n",
    "<pre>\n",
    "Method\tDescription\n",
    "add()\tAdds an element to the set\n",
    "clear()\tRemoves all the elements from the set\n",
    "copy()\tReturns a copy of the set\n",
    "difference()\tReturns a set containing the difference between two or more sets\n",
    "difference_update()\tRemoves the items in this set that are also included in another, specified set\n",
    "discard()\tRemove the specified item\n",
    "<b>discard wont raise exception is the is not present</b>\n",
    "intersection()\tReturns a set, that is the intersection of two other sets\n",
    "intersection_update()\tRemoves the items in this set that are not present in other, specified set(s)\n",
    "isdisjoint()\tReturns whether two sets have a intersection or not\n",
    "issubset()\tReturns whether another set contains this set or not\n",
    "issuperset()\tReturns whether this set contains another set or not\n",
    "pop()\tRemoves an element from the set\n",
    "remove()\tRemoves the specified element\n",
    "symmetric_difference()\tReturns a set with the symmetric differences of two sets\n",
    "symmetric_difference_update()\tinserts the symmetric differences from this set and another\n",
    "union()\tReturn a set containing the union of sets\n",
    "update()\tUpdate the set with the union of this set and others\n",
    "</pre>"
   ]
  },
  {
   "cell_type": "markdown",
   "id": "3d4a61ac",
   "metadata": {},
   "source": [
    "<h3>Dictionary</h3>"
   ]
  },
  {
   "cell_type": "code",
   "execution_count": 46,
   "id": "563a3b96",
   "metadata": {},
   "outputs": [],
   "source": [
    "Loop through both keys and values, by using the items() method:\n",
    "\n",
    "for x, y in thisdict.items():\n",
    "  print(x, y)"
   ]
  },
  {
   "cell_type": "markdown",
   "id": "92035e9b",
   "metadata": {},
   "source": [
    "<pre>\n",
    "Dictionary Methods\n",
    "Python has a set of built-in methods that you can use on dictionaries.\n",
    "\n",
    "Method\tDescription\n",
    "clear()\tRemoves all the elements from the dictionary\n",
    "copy()\tReturns a copy of the dictionary\n",
    "fromkeys()\tReturns a dictionary with the specified keys and value\n",
    "get()\tReturns the value of the specified key\n",
    "items()\tReturns a list containing a tuple for each key value pair\n",
    "keys()\tReturns a list containing the dictionary's keys\n",
    "pop()\tRemoves the element with the specified key\n",
    "popitem()\tRemoves the last inserted key-value pair\n",
    "setdefault()\tReturns the value of the specified key. If the key does not exist: insert the key, with the specified value\n",
    "update()\tUpdates the dictionary with the specified key-value pairs\n",
    "values()\tReturns a list of all the values in the dictionary\n",
    "</pre>"
   ]
  },
  {
   "cell_type": "markdown",
   "id": "22f3dfcf",
   "metadata": {},
   "source": [
    "<h3>Lambda</h3>"
   ]
  },
  {
   "cell_type": "markdown",
   "id": "8436b222",
   "metadata": {},
   "source": [
    "<pre>\n",
    "A lambda function can take any number of arguments, but can only have one expression.\n",
    "</pre>\n"
   ]
  },
  {
   "cell_type": "code",
   "execution_count": 47,
   "id": "6a14bc66",
   "metadata": {},
   "outputs": [
    {
     "name": "stdout",
     "output_type": "stream",
     "text": [
      "30\n"
     ]
    }
   ],
   "source": [
    "x = lambda a, b : a * b\n",
    "print(x(5, 6))"
   ]
  },
  {
   "cell_type": "markdown",
   "id": "cd092f06",
   "metadata": {},
   "source": [
    "<h3>Handy Functions</h3>"
   ]
  },
  {
   "cell_type": "markdown",
   "id": "b96b0344",
   "metadata": {},
   "source": [
    "map,reduce,applymap,,zip,filter"
   ]
  },
  {
   "cell_type": "markdown",
   "id": "8c150659",
   "metadata": {},
   "source": [
    "<h3>All Built in Functions</h3>"
   ]
  },
  {
   "cell_type": "markdown",
   "id": "d21b9003",
   "metadata": {},
   "source": [
    "<img src = 'Capture.PNG'/>"
   ]
  },
  {
   "cell_type": "markdown",
   "id": "ad19ea88",
   "metadata": {},
   "source": [
    "<b>reduce() function</b>"
   ]
  },
  {
   "cell_type": "markdown",
   "id": "3ee9659d",
   "metadata": {},
   "source": [
    "<pre>\n",
    "Python’s reduce() is a function that implements a mathematical technique called folding or reduction. reduce() is useful when you need to apply a function to an iterable and reduce it to a single cumulative value.\n",
    "</pre>"
   ]
  },
  {
   "cell_type": "code",
   "execution_count": 55,
   "id": "041667be",
   "metadata": {},
   "outputs": [
    {
     "data": {
      "text/plain": [
       "10"
      ]
     },
     "execution_count": 55,
     "metadata": {},
     "output_type": "execute_result"
    }
   ],
   "source": [
    "from functools import reduce\n",
    "\n",
    "def my_add(a, b):\n",
    "    return a + b\n",
    "    \n",
    "numbers = [0, 1, 2, 3, 4]\n",
    "reduce(my_add, numbers)"
   ]
  },
  {
   "cell_type": "markdown",
   "id": "bb4db761",
   "metadata": {},
   "source": [
    "<h3>Array</h3>"
   ]
  },
  {
   "cell_type": "markdown",
   "id": "9cebb8c0",
   "metadata": {},
   "source": [
    "Array Methods\n",
    "Python has a set of built-in methods that you can use on lists/arrays.\n",
    "<pre>\n",
    "Method\tDescription\n",
    "append()\tAdds an element at the end of the list\n",
    "clear()\tRemoves all the elements from the list\n",
    "copy()\tReturns a copy of the list\n",
    "count()\tReturns the number of elements with the specified value\n",
    "extend()\tAdd the elements of a list (or any iterable), to the end of the current list\n",
    "index()\tReturns the index of the first element with the specified value\n",
    "insert()\tAdds an element at the specified position\n",
    "pop()\tRemoves the element at the specified position\n",
    "remove()\tRemoves the first item with the specified value\n",
    "reverse()\tReverses the order of the list\n",
    "sort()\tSorts the list\n",
    "Note: Python does not have built-in supp\n",
    "</pre>"
   ]
  },
  {
   "cell_type": "markdown",
   "id": "385fea51",
   "metadata": {},
   "source": [
    "<h3>Class/Inheriance</h3>"
   ]
  },
  {
   "cell_type": "code",
   "execution_count": 68,
   "id": "08f11515",
   "metadata": {},
   "outputs": [
    {
     "name": "stdout",
     "output_type": "stream",
     "text": [
      "Hello my name is John\n"
     ]
    }
   ],
   "source": [
    "class Person:\n",
    "  def __init__(mysillyobject, name, age):\n",
    "    mysillyobject.name = name\n",
    "    mysillyobject.age = age\n",
    "\n",
    "  def myfunc(abc):\n",
    "    print(\"Hello my name is \" + abc.name)\n",
    "\n",
    "p1 = Person(\"John\", 36)\n",
    "p1.myfunc()"
   ]
  },
  {
   "cell_type": "code",
   "execution_count": 69,
   "id": "99869d46",
   "metadata": {},
   "outputs": [],
   "source": [
    "##Delete the age property from the p1 object:\n",
    "del p1.age"
   ]
  },
  {
   "cell_type": "code",
   "execution_count": 70,
   "id": "54e75f80",
   "metadata": {},
   "outputs": [],
   "source": [
    "##Delete the p1 object:\n",
    "del p1"
   ]
  },
  {
   "cell_type": "markdown",
   "id": "89996a6c",
   "metadata": {},
   "source": [
    "<pre>\n",
    "Use the __init__() function to assign values to object properties, or other operations that are necessary to do when the object is being created:\n",
    "</pre>"
   ]
  },
  {
   "cell_type": "code",
   "execution_count": 71,
   "id": "e026ec90",
   "metadata": {},
   "outputs": [],
   "source": [
    "class Student(Person):\n",
    "  def __init__(self, fname, lname):\n",
    "    super().__init__(fname, lname)"
   ]
  },
  {
   "cell_type": "code",
   "execution_count": null,
   "id": "6a870937",
   "metadata": {},
   "outputs": [],
   "source": []
  }
 ],
 "metadata": {
  "kernelspec": {
   "display_name": "Python 3",
   "language": "python",
   "name": "python3"
  },
  "language_info": {
   "codemirror_mode": {
    "name": "ipython",
    "version": 3
   },
   "file_extension": ".py",
   "mimetype": "text/x-python",
   "name": "python",
   "nbconvert_exporter": "python",
   "pygments_lexer": "ipython3",
   "version": "3.8.8"
  }
 },
 "nbformat": 4,
 "nbformat_minor": 5
}
