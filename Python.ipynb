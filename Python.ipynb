{
 "cells": [
  {
   "cell_type": "markdown",
   "id": "cc33356c",
   "metadata": {},
   "source": [
    "Variable"
   ]
  },
  {
   "cell_type": "code",
   "execution_count": 1,
   "id": "b01a4d6f",
   "metadata": {
    "scrolled": true
   },
   "outputs": [
    {
     "name": "stdout",
     "output_type": "stream",
     "text": [
      "apple\n",
      "banana\n",
      "cherry\n"
     ]
    }
   ],
   "source": [
    "fruits = [\"apple\", \"banana\", \"cherry\"]\n",
    "x, y, z = fruits\n",
    "print(x)\n",
    "print(y)\n",
    "print(z)"
   ]
  },
  {
   "cell_type": "markdown",
   "id": "2177c0d9",
   "metadata": {},
   "source": [
    "Change a global variable from a function"
   ]
  },
  {
   "cell_type": "code",
   "execution_count": 2,
   "id": "7d0e46f0",
   "metadata": {},
   "outputs": [
    {
     "name": "stdout",
     "output_type": "stream",
     "text": [
      "Python is fantastic\n",
      "Python is awesome\n"
     ]
    }
   ],
   "source": [
    "x = \"awesome\"\n",
    "\n",
    "def myfunc():\n",
    "  x = \"fantastic\"\n",
    "  print(\"Python is \" + x)\n",
    "\n",
    "myfunc()\n",
    "\n",
    "print(\"Python is \" + x)"
   ]
  },
  {
   "cell_type": "markdown",
   "id": "f933de30",
   "metadata": {},
   "source": [
    "Data type"
   ]
  },
  {
   "cell_type": "markdown",
   "id": "7b333e0a",
   "metadata": {},
   "source": [
    "<pre>\n",
    "Text Type: str\n",
    "Numeric Types: int, float, complex\n",
    "Sequence Types: list, tuple, range\n",
    "Mapping Type: dict\n",
    "Set Types: set, frozenset\n",
    "Boolean Type: bool\n",
    "Binary Types:bytes, bytearray, memoryview\n",
    "</pre>"
   ]
  },
  {
   "cell_type": "markdown",
   "id": "4901ef55",
   "metadata": {},
   "source": [
    "String"
   ]
  },
  {
   "cell_type": "code",
   "execution_count": 1,
   "id": "fe87012c",
   "metadata": {},
   "outputs": [
    {
     "name": "stdout",
     "output_type": "stream",
     "text": [
      "Yes, 'free' is present.\n"
     ]
    }
   ],
   "source": [
    "txt = \"The best things in life are free!\"\n",
    "if \"free\" in txt:\n",
    "  print(\"Yes, 'free' is present.\")"
   ]
  },
  {
   "cell_type": "markdown",
   "id": "bdfdfb8d",
   "metadata": {},
   "source": [
    "<b>String Methods</b>"
   ]
  },
  {
   "cell_type": "markdown",
   "id": "7ca2e707",
   "metadata": {},
   "source": [
    "<pre>\n",
    "    Method\tDescription\n",
    "    capitalize()\tConverts the first character to upper case\n",
    "    casefold()\tConverts string into lower case\n",
    "    center()\tReturns a centered string\n",
    "    count()\tReturns the number of times a specified value occurs in a string\n",
    "    encode()\tReturns an encoded version of the string\n",
    "    endswith()\tReturns true if the string ends with the specified value\n",
    "    expandtabs()\tSets the tab size of the string\n",
    "    find()\tSearches the string for a specified value and returns the position of where it was found\n",
    "    format()\tFormats specified values in a string\n",
    "    format_map()\tFormats specified values in a string\n",
    "    index()\tSearches the string for a specified value and returns the position of where it was found\n",
    "        index returns exception if specified value is missing and find return -1\n",
    "    isalnum()\tReturns True if all characters in the string are alphanumeric\n",
    "    isalpha()\tReturns True if all characters in the string are in the alphabet\n",
    "    isascii()\tReturns True if all characters in the string are ascii characters\n",
    "    isdecimal()\tReturns True if all characters in the string are decimals\n",
    "    isdigit()\tReturns True if all characters in the string are digits\n",
    "    isidentifier()\tReturns True if the string is an identifier\n",
    "    islower()\tReturns True if all characters in the string are lower case\n",
    "    isnumeric()\tReturns True if all characters in the string are numeric\n",
    "    isprintable()\tReturns True if all characters in the string are printable\n",
    "    isspace()\tReturns True if all characters in the string are whitespaces\n",
    "    istitle()\tReturns True if the string follows the rules of a title\n",
    "    isupper()\tReturns True if all characters in the string are upper case\n",
    "    join()\tJoins the elements of an iterable to the end of the string\n",
    "    ljust()\tReturns a left justified version of the string\n",
    "    lower()\tConverts a string into lower case\n",
    "    lstrip()\tReturns a left trim version of the string\n",
    "    maketrans()\tReturns a translation table to be used in translations\n",
    "    partition()\tReturns a tuple where the string is parted into three parts\n",
    "    replace()\tReturns a string where a specified value is replaced with a specified value\n",
    "    rfind()\tSearches the string for a specified value and returns the last position of where it was found\n",
    "    rindex()\tSearches the string for a specified value and returns the last position of where it was found\n",
    "    rjust()\tReturns a right justified version of the string\n",
    "    rpartition()\tReturns a tuple where the string is parted into three parts\n",
    "    rsplit()\tSplits the string at the specified separator, and returns a list\n",
    "    rstrip()\tReturns a right trim version of the string\n",
    "    split()\tSplits the string at the specified separator, and returns a list\n",
    "    splitlines()\tSplits the string at line breaks and returns a list\n",
    "    startswith()\tReturns true if the string starts with the specified value\n",
    "    strip()\tReturns a trimmed version of the string\n",
    "    swapcase()\tSwaps cases, lower case becomes upper case and vice versa\n",
    "    title()\tConverts the first character of each word to upper case\n",
    "    translate()\tReturns a translated string\n",
    "    upper()\tConverts a string into upper case\n",
    "    zfill()\tFills the string with a specified number of 0 values at the beginning\n",
    "</pre>"
   ]
  },
  {
   "cell_type": "markdown",
   "id": "16d40c5c",
   "metadata": {},
   "source": [
    "<b>Formatting Types</b>"
   ]
  },
  {
   "cell_type": "markdown",
   "id": "4a4e286c",
   "metadata": {},
   "source": [
    "Inside the placeholders you can add a formatting type to format the result:\n",
    "<pre>\n",
    ":<\t\tLeft aligns the result (within the available space)\n",
    ":>\t\tRight aligns the result (within the available space)\n",
    ":^\t\tCenter aligns the result (within the available space)\n",
    ":=\t\tPlaces the sign to the left most position\n",
    ":+\t\tUse a plus sign to indicate if the result is positive or negative\n",
    ":-\t\tUse a minus sign for negative values only\n",
    ": \t\tUse a space to insert an extra space before positive numbers (and a minus sign before negative numbers)\n",
    ":,\t\tUse a comma as a thousand separator\n",
    ":_\t\tUse a underscore as a thousand separator\n",
    ":b\t\tBinary format\n",
    "   <pre>\n",
    "   //this demonstratate example from :b to :X\n",
    "   txt = \"The binary version of {0} is {0:b}\"\n",
    "   print(txt.format(5))\n",
    "   </pre>\n",
    ":c\t\tConverts the value into the corresponding unicode character\n",
    ":d\t\tDecimal format\n",
    ":e\t\tScientific format, with a lower case e\n",
    ":E\t\tScientific format, with an upper case E\n",
    ":f\t\tFix point number format\n",
    ":F\t\tFix point number format, in uppercase format (show inf and nan as INF and NAN)\n",
    ":g\t\tGeneral format\n",
    ":G\t\tGeneral format (using a upper case E for scientific notations)\n",
    ":o\t\tOctal format\n",
    ":x\t\tHex format, lower case\n",
    ":X\t\tHex format, upper case\n",
    ":n\t\tNumber format\n",
    ":%\t\tPercentage format\n",
    "</pre>"
   ]
  },
  {
   "cell_type": "code",
   "execution_count": 73,
   "id": "3d5a2ec4",
   "metadata": {},
   "outputs": [
    {
     "name": "stdout",
     "output_type": "stream",
     "text": [
      "My name is Zara and weight is 21 kg!\n"
     ]
    }
   ],
   "source": [
    "print (\"My name is %s and weight is %d kg!\" % ('Zara', 21))"
   ]
  },
  {
   "cell_type": "markdown",
   "id": "b2e8f5a5",
   "metadata": {},
   "source": [
    "<b>bool() Function details</b>"
   ]
  },
  {
   "cell_type": "markdown",
   "id": "ed811a57",
   "metadata": {},
   "source": [
    "<pre>\n",
    "Almost any value is evaluated to True if it has some sort of content.\n",
    "Any string is True, except empty strings.\n",
    "Any number is True, except 0.\n",
    "Any list, tuple, set, and dictionary are True, except empty ones.\n",
    "</pre>"
   ]
  },
  {
   "cell_type": "code",
   "execution_count": 3,
   "id": "f1058797",
   "metadata": {},
   "outputs": [
    {
     "data": {
      "text/plain": [
       "True"
      ]
     },
     "execution_count": 3,
     "metadata": {},
     "output_type": "execute_result"
    }
   ],
   "source": [
    "bool(\"abc\")\n",
    "bool(123)\n",
    "bool([\"apple\", \"cherry\", \"banana\"])"
   ]
  },
  {
   "cell_type": "markdown",
   "id": "71d41863",
   "metadata": {},
   "source": [
    "<pre>\n",
    "Some Values are False\n",
    "In fact, there are not many values that evaluate to False, except empty values, such as (), [], {}, \"\", the number 0, \n",
    "and the value None. And of course the value False evaluates to False.\n",
    "</pre>"
   ]
  },
  {
   "cell_type": "code",
   "execution_count": 4,
   "id": "46cd71a9",
   "metadata": {},
   "outputs": [
    {
     "data": {
      "text/plain": [
       "False"
      ]
     },
     "execution_count": 4,
     "metadata": {},
     "output_type": "execute_result"
    }
   ],
   "source": [
    "bool(False)\n",
    "bool(None)\n",
    "bool(0)\n",
    "bool(\"\")\n",
    "bool(())\n",
    "bool([])\n",
    "bool({})"
   ]
  },
  {
   "cell_type": "markdown",
   "id": "228e002b",
   "metadata": {},
   "source": [
    "<pre>\n",
    "One more value, or object in this case, evaluates to False, and that is if you have an object that is made from a class with a __len__ function that returns 0 or False:\n",
    "\n",
    "In case of objects bool() function evaluetes the built in __len__ method of any class and if len is 0 or  False then it return False.\n",
    "</pre>"
   ]
  },
  {
   "cell_type": "markdown",
   "id": "fed589dc",
   "metadata": {},
   "source": [
    "<h3>Operator</h3>"
   ]
  },
  {
   "cell_type": "markdown",
   "id": "5e641d85",
   "metadata": {},
   "source": [
    "<pre>\n",
    "Python divides the operators in the following groups:\n",
    "\n",
    "Arithmetic operators\n",
    "Assignment operators\n",
    "Comparison operators\n",
    "Logical operators\n",
    "Identity operators\n",
    "Membership operators\n",
    "Bitwise operators\n",
    "</pre>"
   ]
  },
  {
   "cell_type": "markdown",
   "id": "eb571ef7",
   "metadata": {},
   "source": [
    "//\tis called floot divison Floor division"
   ]
  },
  {
   "cell_type": "markdown",
   "id": "b1d1f141",
   "metadata": {},
   "source": [
    "<pre>\n",
    "Python Logical Operators\n",
    "Logical operators are used to combine conditional statements:\n",
    "\n",
    "Operator\tDescription\tExample\tTry it\n",
    "and \tReturns True if both statements are true\t\n",
    "or\tReturns True if one of the statements is true\t\n",
    "not\tReverse the result, returns False if the result\n",
    "</pre>"
   ]
  },
  {
   "cell_type": "markdown",
   "id": "4e0ebd19",
   "metadata": {},
   "source": [
    "<pre>\n",
    "Python Identity Operators\n",
    "Identity operators are used to compare the objects, not if they are equal, but if they are actually the same object, with the same memory location:\n",
    "\n",
    "Operator\tDescription\tExample\tTry it\n",
    "is Returns True if both variables are the same object x is y\n",
    "is not Returns True if both variables are not the same object\n",
    "</pre>"
   ]
  },
  {
   "cell_type": "markdown",
   "id": "14c4e431",
   "metadata": {},
   "source": [
    "<pre>\n",
    "Python Membership Operators\n",
    "Membership operators are used to test if a sequence is presented in an object:\n",
    "\n",
    "Operator\tDescription\tExample\tTry it\n",
    "in \tReturns True if a sequence with the specified value is present in the object\tx in y\t\n",
    "not in\tReturns True if a sequence with the specified value is not present in the object\n",
    "</pre>"
   ]
  },
  {
   "cell_type": "markdown",
   "id": "45a3d27a",
   "metadata": {},
   "source": [
    "<pre>\n",
    "Python Bitwise Operators\n",
    "Bitwise operators are used to compare (binary) numbers:\n",
    "\n",
    "Operator\tName\tDescription\n",
    "& \tAND\tSets each bit to 1 if both bits are 1\n",
    "|\tOR\tSets each bit to 1 if one of two bits is 1\n",
    " ^\tXOR\tSets each bit to 1 if only one of two bits is 1\n",
    "~ \tNOT\tInverts all the bits\n",
    "<<\tZero fill left shift\tShift left by pushing zeros in from the right and let the leftmost bits fall off\n",
    ">>\tSigned right shift\tShift right by pushing copies of the leftmost bit in from the left, and let the rightmost bits fall off\n",
    "</pre>"
   ]
  },
  {
   "cell_type": "markdown",
   "id": "d1171211",
   "metadata": {},
   "source": [
    "<h3>List</h3>"
   ]
  },
  {
   "cell_type": "code",
   "execution_count": 12,
   "id": "42cbddcb",
   "metadata": {},
   "outputs": [],
   "source": [
    "##A list with strings, integers and boolean values:\n",
    "list1 = [\"abc\", 34, True, 40, \"male\"]"
   ]
  },
  {
   "cell_type": "markdown",
   "id": "7c0c82ef",
   "metadata": {},
   "source": [
    "<b>During slicing right index is always excluded</b>"
   ]
  },
  {
   "cell_type": "markdown",
   "id": "1970faf1",
   "metadata": {},
   "source": [
    "<pre>\n",
    "Note: The length of the list will change when the number of items inserted does not match the number of items replaced.\n",
    "\n",
    "If you insert less items than you replace, the new items will be inserted where you specified, and the remaining items \n",
    "will move accordingly:\n",
    "\n",
    "Example\n",
    "Change the second and third value by replacing it with one value:\n",
    "</pre>"
   ]
  },
  {
   "cell_type": "code",
   "execution_count": 13,
   "id": "a30dea19",
   "metadata": {},
   "outputs": [
    {
     "name": "stdout",
     "output_type": "stream",
     "text": [
      "['apple', 'watermelon']\n"
     ]
    }
   ],
   "source": [
    "thislist = [\"apple\", \"banana\", \"cherry\"]\n",
    "thislist[1:3] = [\"watermelon\"]\n",
    "print(thislist)"
   ]
  },
  {
   "cell_type": "markdown",
   "id": "15a52b18",
   "metadata": {},
   "source": [
    "<pre>\n",
    "Add Any Iterable\n",
    "The extend() method does not have to append lists, you can add any iterable object (tuples, sets, dictionaries etc.).\n",
    "\n",
    "Example\n",
    "Add elements of a tuple to a list:\n",
    "</pre>"
   ]
  },
  {
   "cell_type": "code",
   "execution_count": 17,
   "id": "182eab3c",
   "metadata": {},
   "outputs": [
    {
     "name": "stdout",
     "output_type": "stream",
     "text": [
      "['apple', 'banana', 'cherry', 'kiwi', 'orange']\n"
     ]
    }
   ],
   "source": [
    "thislist = [\"apple\", \"banana\", \"cherry\"]\n",
    "thistuple = (\"kiwi\", \"orange\")\n",
    "thislist.extend(thistuple)\n",
    "print(thislist)"
   ]
  },
  {
   "cell_type": "markdown",
   "id": "679b523b",
   "metadata": {},
   "source": [
    "<b>Conditional list comprehension</b>"
   ]
  },
  {
   "cell_type": "code",
   "execution_count": 20,
   "id": "f3e3dbc2",
   "metadata": {},
   "outputs": [],
   "source": [
    "fruits = [\"apple\", \"banana\", \"cherry\", \"kiwi\", \"mango\"]\n",
    "newlist = [x for x in fruits if \"a\" in x]"
   ]
  },
  {
   "cell_type": "markdown",
   "id": "7130e1b8",
   "metadata": {},
   "source": [
    "<pre>\n",
    "By deffault sort() method is case sensative.\n",
    "To perform a case-insensitive sort of the list:\n",
    "</pre>"
   ]
  },
  {
   "cell_type": "code",
   "execution_count": 21,
   "id": "8da17cf7",
   "metadata": {
    "scrolled": true
   },
   "outputs": [
    {
     "name": "stdout",
     "output_type": "stream",
     "text": [
      "['banana', 'cherry', 'Kiwi', 'Orange']\n"
     ]
    }
   ],
   "source": [
    "thislist = [\"banana\", \"Orange\", \"Kiwi\", \"cherry\"]\n",
    "thislist.sort(key = str.lower)\n",
    "print(thislist)"
   ]
  },
  {
   "cell_type": "markdown",
   "id": "71df4f29",
   "metadata": {},
   "source": [
    "<pre>\n",
    "copying list using copy() method retruns another list. Change is reflectd only for nested lists.\n",
    "</pre>"
   ]
  },
  {
   "cell_type": "code",
   "execution_count": 29,
   "id": "5a2dd5f0",
   "metadata": {
    "scrolled": true
   },
   "outputs": [
    {
     "data": {
      "text/plain": [
       "['apple', 'banana', ['d', 'dfd', 'v'], 'cherry']"
      ]
     },
     "execution_count": 29,
     "metadata": {},
     "output_type": "execute_result"
    }
   ],
   "source": [
    "thislist = [\"apple\", \"banana\", ['d','f','v'],\"cherry\"]\n",
    "l = thislist.copy()\n",
    "l[2][1] = 'dfd'\n",
    "thislist"
   ]
  },
  {
   "cell_type": "markdown",
   "id": "76f05bc4",
   "metadata": {},
   "source": [
    "<b>\n",
    "List Methods\n",
    "</b>\n",
    "\n",
    "<pre>\n",
    "Python has a set of built-in methods that you can use on lists.\n",
    "\n",
    "Method\tDescription\n",
    "append()\tAdds an element at the end of the list\n",
    "clear()\tRemoves all the elements from the list\n",
    "copy()\tReturns a copy of the list\n",
    "count()\tReturns the number of elements with the specified value\n",
    "extend()\tAdd the elements of a list (or any iterable), to the end of the current list\n",
    "<b>extend method inserts given value directlty. any list will be inserted  as list, append() also does same</b>\n",
    "index()\tReturns the index of the first element with the specified value\n",
    "insert()\tAdds an element at the specified position\n",
    "pop()\tRemoves the element at the specified position\n",
    "remove()\tRemoves the item with the specified value\n",
    "reverse()\tReverses the order of the list\n",
    "sort()\tSorts the list\n",
    "</pre>"
   ]
  },
  {
   "cell_type": "code",
   "execution_count": 33,
   "id": "b0d22937",
   "metadata": {},
   "outputs": [
    {
     "data": {
      "text/plain": [
       "['banana', 'Orange', 'Kiwi', 'cherry', ['dhjdsh']]"
      ]
     },
     "execution_count": 33,
     "metadata": {},
     "output_type": "execute_result"
    }
   ],
   "source": [
    "thislist = [\"banana\", \"Orange\", \"Kiwi\", \"cherry\"]\n",
    "thislist.append(['dhjdsh'])\n",
    "thislist"
   ]
  },
  {
   "cell_type": "markdown",
   "id": "3435ba18",
   "metadata": {},
   "source": [
    "<b>Unpacking a Tuple</b>"
   ]
  },
  {
   "cell_type": "code",
   "execution_count": 35,
   "id": "51983428",
   "metadata": {
    "scrolled": true
   },
   "outputs": [
    {
     "name": "stdout",
     "output_type": "stream",
     "text": [
      "apple\n",
      "banana\n",
      "cherry\n"
     ]
    }
   ],
   "source": [
    "fruits = (\"apple\", \"banana\", \"cherry\")\n",
    "\n",
    "(green, yellow, red) = fruits\n",
    "\n",
    "print(green)\n",
    "print(yellow)\n",
    "print(red)"
   ]
  },
  {
   "cell_type": "markdown",
   "id": "b54f20c4",
   "metadata": {},
   "source": [
    "<b>Using Asterisk*</b>"
   ]
  },
  {
   "cell_type": "code",
   "execution_count": 39,
   "id": "60b72c53",
   "metadata": {},
   "outputs": [
    {
     "name": "stdout",
     "output_type": "stream",
     "text": [
      "apple\n",
      "banana\n",
      "['cherry', 'strawberry', 'raspberry']\n"
     ]
    }
   ],
   "source": [
    "fruits = (\"apple\", \"banana\", \"cherry\", \"strawberry\", \"raspberry\")\n",
    "\n",
    "(green, yellow, *red) = fruits\n",
    "\n",
    "print(green)\n",
    "print(yellow)\n",
    "print(red)"
   ]
  },
  {
   "cell_type": "markdown",
   "id": "cf75650f",
   "metadata": {},
   "source": [
    "<b>Note: When creating a tuple with only one item, remember to include a comma after the item, otherwise it will not be identified as a tuple.</b>"
   ]
  },
  {
   "cell_type": "code",
   "execution_count": 41,
   "id": "6d86e1f3",
   "metadata": {},
   "outputs": [],
   "source": [
    "y = (\"orange\",)"
   ]
  },
  {
   "cell_type": "markdown",
   "id": "fefc5a4d",
   "metadata": {},
   "source": [
    "<b>Tuple Methods</b>\n",
    "<pre>\n",
    "Python has two built-in methods that you can use on tuples.\n",
    "\n",
    "Method\tDescription\n",
    "count()\tReturns the number of times a specified value occurs in a tuple\n",
    "index()\tSearches the tuple for a specified value and returns the position of where it was found\n",
    "</pre>"
   ]
  },
  {
   "cell_type": "markdown",
   "id": "88beb38f",
   "metadata": {},
   "source": [
    "<h3>Set</h3>"
   ]
  },
  {
   "cell_type": "markdown",
   "id": "880d3629",
   "metadata": {},
   "source": [
    "<pre>\n",
    "You cannot access items in a set by referring to an index or a key.\n",
    "\n",
    "But you can loop through the set items using a for loop, or ask if a specified value is present in a set, by using the in keyword.\n",
    "To add one item to a set use the add() method.\n",
    "</pre>"
   ]
  },
  {
   "cell_type": "markdown",
   "id": "36881d30",
   "metadata": {},
   "source": [
    "<b>Set Methods</b>\n",
    "Python has a set of built-in methods that you can use on sets.\n",
    "<pre>\n",
    "Method\tDescription\n",
    "add()\tAdds an element to the set\n",
    "clear()\tRemoves all the elements from the set\n",
    "copy()\tReturns a copy of the set\n",
    "difference()\tReturns a set containing the difference between two or more sets\n",
    "difference_update()\tRemoves the items in this set that are also included in another, specified set\n",
    "discard()\tRemove the specified item\n",
    "<b>discard wont raise exception is the is not present</b>\n",
    "intersection()\tReturns a set, that is the intersection of two other sets\n",
    "intersection_update()\tRemoves the items in this set that are not present in other, specified set(s)\n",
    "isdisjoint()\tReturns whether two sets have a intersection or not\n",
    "issubset()\tReturns whether another set contains this set or not\n",
    "issuperset()\tReturns whether this set contains another set or not\n",
    "pop()\tRemoves an element from the set\n",
    "remove()\tRemoves the specified element\n",
    "symmetric_difference()\tReturns a set with the symmetric differences of two sets\n",
    "symmetric_difference_update()\tinserts the symmetric differences from this set and another\n",
    "union()\tReturn a set containing the union of sets\n",
    "update()\tUpdate the set with the union of this set and others\n",
    "</pre>"
   ]
  },
  {
   "cell_type": "markdown",
   "id": "4f8e318f",
   "metadata": {},
   "source": [
    "<h3>Dictionary</h3>"
   ]
  },
  {
   "cell_type": "code",
   "execution_count": 46,
   "id": "f59cf8ba",
   "metadata": {},
   "outputs": [],
   "source": [
    "Loop through both keys and values, by using the items() method:\n",
    "\n",
    "for x, y in thisdict.items():\n",
    "  print(x, y)"
   ]
  },
  {
   "cell_type": "markdown",
   "id": "e0b4d610",
   "metadata": {},
   "source": [
    "<pre>\n",
    "Dictionary Methods\n",
    "Python has a set of built-in methods that you can use on dictionaries.\n",
    "\n",
    "Method\tDescription\n",
    "clear()\tRemoves all the elements from the dictionary\n",
    "copy()\tReturns a copy of the dictionary\n",
    "fromkeys()\tReturns a dictionary with the specified keys and value\n",
    "get()\tReturns the value of the specified key\n",
    "items()\tReturns a list containing a tuple for each key value pair\n",
    "keys()\tReturns a list containing the dictionary's keys\n",
    "pop()\tRemoves the element with the specified key\n",
    "popitem()\tRemoves the last inserted key-value pair\n",
    "setdefault()\tReturns the value of the specified key. If the key does not exist: insert the key, with the specified value\n",
    "update()\tUpdates the dictionary with the specified key-value pairs\n",
    "values()\tReturns a list of all the values in the dictionary\n",
    "</pre>"
   ]
  },
  {
   "cell_type": "markdown",
   "id": "f1dc33b9",
   "metadata": {},
   "source": [
    "<h3>Lambda</h3>"
   ]
  },
  {
   "cell_type": "markdown",
   "id": "4f1e07dd",
   "metadata": {},
   "source": [
    "<pre>\n",
    "A lambda function can take any number of arguments, but can only have one expression.\n",
    "</pre>\n"
   ]
  },
  {
   "cell_type": "code",
   "execution_count": 47,
   "id": "71dfa13e",
   "metadata": {},
   "outputs": [
    {
     "name": "stdout",
     "output_type": "stream",
     "text": [
      "30\n"
     ]
    }
   ],
   "source": [
    "x = lambda a, b : a * b\n",
    "print(x(5, 6))"
   ]
  },
  {
   "cell_type": "markdown",
   "id": "f3a4ed38",
   "metadata": {},
   "source": [
    "<h3>Handy Functions</h3>"
   ]
  },
  {
   "cell_type": "markdown",
   "id": "374a777e",
   "metadata": {},
   "source": [
    "map,reduce,applymap,,zip,filter"
   ]
  },
  {
   "cell_type": "markdown",
   "id": "9bef15d4",
   "metadata": {},
   "source": [
    "<h3>All Built in Functions</h3>"
   ]
  },
  {
   "cell_type": "markdown",
   "id": "a2316388",
   "metadata": {},
   "source": [
    "<img src = 'Capture.PNG'/>"
   ]
  },
  {
   "cell_type": "markdown",
   "id": "7dbd2376",
   "metadata": {},
   "source": [
    "<b>reduce() function</b>"
   ]
  },
  {
   "cell_type": "markdown",
   "id": "0683f8c9",
   "metadata": {},
   "source": [
    "<pre>\n",
    "Python’s reduce() is a function that implements a mathematical technique called folding or reduction. reduce() is useful when you need to apply a function to an iterable and reduce it to a single cumulative value.\n",
    "</pre>"
   ]
  },
  {
   "cell_type": "code",
   "execution_count": 55,
   "id": "0be51094",
   "metadata": {},
   "outputs": [
    {
     "data": {
      "text/plain": [
       "10"
      ]
     },
     "execution_count": 55,
     "metadata": {},
     "output_type": "execute_result"
    }
   ],
   "source": [
    "from functools import reduce\n",
    "\n",
    "def my_add(a, b):\n",
    "    return a + b\n",
    "    \n",
    "numbers = [0, 1, 2, 3, 4]\n",
    "reduce(my_add, numbers)"
   ]
  },
  {
   "cell_type": "markdown",
   "id": "43934d16",
   "metadata": {},
   "source": [
    "<h3>Array</h3>"
   ]
  },
  {
   "cell_type": "markdown",
   "id": "1e346f46",
   "metadata": {},
   "source": [
    "Array Methods\n",
    "Python has a set of built-in methods that you can use on lists/arrays.\n",
    "<pre>\n",
    "Method\tDescription\n",
    "append()\tAdds an element at the end of the list\n",
    "clear()\tRemoves all the elements from the list\n",
    "copy()\tReturns a copy of the list\n",
    "count()\tReturns the number of elements with the specified value\n",
    "extend()\tAdd the elements of a list (or any iterable), to the end of the current list\n",
    "index()\tReturns the index of the first element with the specified value\n",
    "insert()\tAdds an element at the specified position\n",
    "pop()\tRemoves the element at the specified position\n",
    "remove()\tRemoves the first item with the specified value\n",
    "reverse()\tReverses the order of the list\n",
    "sort()\tSorts the list\n",
    "Note: Python does not have built-in supp\n",
    "</pre>"
   ]
  },
  {
   "cell_type": "markdown",
   "id": "93ae2d2e",
   "metadata": {},
   "source": [
    "<h3>Class/Inheriance</h3>"
   ]
  },
  {
   "cell_type": "code",
   "execution_count": 68,
   "id": "b88bfeab",
   "metadata": {},
   "outputs": [
    {
     "name": "stdout",
     "output_type": "stream",
     "text": [
      "Hello my name is John\n"
     ]
    }
   ],
   "source": [
    "class Person:\n",
    "  def __init__(mysillyobject, name, age):\n",
    "    mysillyobject.name = name\n",
    "    mysillyobject.age = age\n",
    "\n",
    "  def myfunc(abc):\n",
    "    print(\"Hello my name is \" + abc.name)\n",
    "\n",
    "p1 = Person(\"John\", 36)\n",
    "p1.myfunc()"
   ]
  },
  {
   "cell_type": "code",
   "execution_count": 69,
   "id": "178bb335",
   "metadata": {},
   "outputs": [],
   "source": [
    "##Delete the age property from the p1 object:\n",
    "del p1.age"
   ]
  },
  {
   "cell_type": "code",
   "execution_count": 70,
   "id": "63edc001",
   "metadata": {},
   "outputs": [],
   "source": [
    "##Delete the p1 object:\n",
    "del p1"
   ]
  },
  {
   "cell_type": "markdown",
   "id": "daf9a632",
   "metadata": {},
   "source": [
    "<pre>\n",
    "Use the __init__() function to assign values to object properties, or other operations that are necessary to do when the object is being created:\n",
    "</pre>"
   ]
  },
  {
   "cell_type": "code",
   "execution_count": 71,
   "id": "d2078c22",
   "metadata": {},
   "outputs": [],
   "source": [
    "class Student(Person):\n",
    "  def __init__(self, fname, lname):\n",
    "    super().__init__(fname, lname)"
   ]
  },
  {
   "cell_type": "markdown",
   "id": "9614899b",
   "metadata": {},
   "source": [
    "Built-In Class Attributes\n",
    "Every Python class keeps following built-in attributes and they can be accessed using dot operator like any other attribute −\n",
    "<pre>\n",
    "__dict__ − Dictionary containing the class's namespace.\n",
    "\n",
    "__doc__ − Class documentation string or none, if undefined.\n",
    "\n",
    "__name__ − Class name.\n",
    "\n",
    "__module__ − Module name in which the class is defined. This attribute is \"__main__\" in interactive mode.\n",
    "\n",
    "__bases__ − A possibly empty tuple containing the base classes, in the order of their occurrence in the base class list.\n",
    "</pre>"
   ]
  },
  {
   "cell_type": "markdown",
   "id": "10e13bb6",
   "metadata": {},
   "source": [
    "This __del__() destructor prints the class name of an instance that is about to be destroyed −"
   ]
  },
  {
   "cell_type": "code",
   "execution_count": 76,
   "id": "a719d8bc",
   "metadata": {},
   "outputs": [
    {
     "name": "stdout",
     "output_type": "stream",
     "text": [
      "2635119795216 2635119795216 2635119795216\n",
      "Point destroyed\n"
     ]
    }
   ],
   "source": [
    "#!/usr/bin/python\n",
    "\n",
    "class Point:\n",
    "   def __init__( self, x=0, y=0):\n",
    "      self.x = x\n",
    "      self.y = y\n",
    "   def __del__(self):\n",
    "      class_name = self.__class__.__name__\n",
    "      print (class_name, \"destroyed\")\n",
    "\n",
    "pt1 = Point()\n",
    "pt2 = pt1\n",
    "pt3 = pt1\n",
    "print (id(pt1), id(pt2), id(pt3)) # prints the ids of the obejcts\n",
    "del pt1\n",
    "del pt2\n",
    "del pt3"
   ]
  },
  {
   "cell_type": "markdown",
   "id": "6efeebe0",
   "metadata": {},
   "source": [
    "<h3>JSON</h3>"
   ]
  },
  {
   "cell_type": "code",
   "execution_count": 77,
   "id": "e17b8a0a",
   "metadata": {},
   "outputs": [
    {
     "name": "stdout",
     "output_type": "stream",
     "text": [
      "30\n"
     ]
    }
   ],
   "source": [
    "import json\n",
    "\n",
    "# some JSON:\n",
    "x =  '{ \"name\":\"John\", \"age\":30, \"city\":\"New York\"}'\n",
    "# parse x:\n",
    "y = json.loads(x)\n",
    "# the result is a Python dictionary:\n",
    "print(y[\"age\"])"
   ]
  },
  {
   "cell_type": "markdown",
   "id": "762820c2",
   "metadata": {},
   "source": [
    "When you convert from Python to JSON, Python objects are converted into the JSON (JavaScript) equivalent:\n",
    "<pre>\n",
    "Python\tJSON\n",
    "dict\tObject\n",
    "list\tArray\n",
    "tuple\tArray\n",
    "str\tString\n",
    "int\tNumber\n",
    "float\tNumber\n",
    "True\ttrue\n",
    "False\tfalse\n",
    "None\tnull\n",
    "</pre>\n"
   ]
  },
  {
   "cell_type": "markdown",
   "id": "93086b42",
   "metadata": {},
   "source": [
    "Convert a Python object containing all the legal data types:"
   ]
  },
  {
   "cell_type": "code",
   "execution_count": null,
   "id": "c1844f57",
   "metadata": {},
   "outputs": [],
   "source": [
    "import json\n",
    "\n",
    "x = {\n",
    "  \"name\": \"John\",\n",
    "  \"age\": 30,\n",
    "  \"married\": True,\n",
    "  \"divorced\": False,\n",
    "  \"children\": (\"Ann\",\"Billy\"),\n",
    "  \"pets\": None,\n",
    "  \"cars\": [\n",
    "    {\"model\": \"BMW 230\", \"mpg\": 27.5},\n",
    "    {\"model\": \"Ford Edge\", \"mpg\": 24.1}\n",
    "  ]\n",
    "}\n",
    "\n",
    "print(json.dumps(x))"
   ]
  },
  {
   "cell_type": "code",
   "execution_count": null,
   "id": "2435091e",
   "metadata": {},
   "outputs": [],
   "source": [
    "json.dumps(x, indent=4, separators=(\". \", \" = \"))"
   ]
  },
  {
   "cell_type": "markdown",
   "id": "df999baf",
   "metadata": {},
   "source": [
    "<h3>Python RegEx\n",
    "</h3>"
   ]
  },
  {
   "cell_type": "markdown",
   "id": "ef56210e",
   "metadata": {},
   "source": [
    "RegEx Functions\n",
    "The re module offers a set of functions that allows us to search a string for a match:\n",
    "<pre>\n",
    "Function\tDescription\n",
    "findall\tReturns a list containing all matches\n",
    "search\tReturns a Match object if there is a match anywhere in the string\n",
    "split\tReturns a list where the string has been split at each match\n",
    "sub\tReplaces one or many matches with a string\n",
    "</pre>"
   ]
  },
  {
   "cell_type": "markdown",
   "id": "79a7a321",
   "metadata": {},
   "source": [
    "<h3>File Handling</h3>"
   ]
  },
  {
   "cell_type": "markdown",
   "id": "e59f0b0b",
   "metadata": {},
   "source": [
    "There are four different methods (modes) for opening a file:\n",
    "<pre>\n",
    "\"r\" - Read - Default value. Opens a file for reading, error if the file does not exist\n",
    "\n",
    "\"a\" - Append - Opens a file for appending, creates the file if it does not exist\n",
    "\n",
    "\"w\" - Write - Opens a file for writing, creates the file if it does not exist\n",
    "\n",
    "\"x\" - Create - Creates the specified file, returns an error if the file exists\n",
    "</pre>"
   ]
  },
  {
   "cell_type": "markdown",
   "id": "8d20af47",
   "metadata": {},
   "source": [
    "In addition you can specify if the file should be handled as binary or text mode\n",
    "<pre>\n",
    "\"t\" - Text - Default value. Text mode\n",
    "\n",
    "\"b\" - Binary - Binary mode (e.g. images)\n",
    "</pre>"
   ]
  },
  {
   "cell_type": "code",
   "execution_count": null,
   "id": "f90046a0",
   "metadata": {},
   "outputs": [],
   "source": [
    "f = open(\"demofile.txt\", \"rt\")"
   ]
  },
  {
   "cell_type": "markdown",
   "id": "f5deed5d",
   "metadata": {},
   "source": [
    "By default the read() method returns the whole text, but you can also specify how many characters you want to return:\n",
    "<br>"
   ]
  },
  {
   "cell_type": "code",
   "execution_count": 81,
   "id": "ce75dc45",
   "metadata": {},
   "outputs": [],
   "source": [
    "print(f.read(5))"
   ]
  },
  {
   "cell_type": "markdown",
   "id": "d0a927a9",
   "metadata": {},
   "source": [
    "By calling readline() two times, you can read the two first lines:"
   ]
  },
  {
   "cell_type": "code",
   "execution_count": null,
   "id": "102b7fcf",
   "metadata": {},
   "outputs": [],
   "source": [
    "print(f.readline())"
   ]
  },
  {
   "cell_type": "markdown",
   "id": "842828bc",
   "metadata": {},
   "source": [
    "Loop through the file line by line:"
   ]
  },
  {
   "cell_type": "code",
   "execution_count": null,
   "id": "8a7b020e",
   "metadata": {},
   "outputs": [],
   "source": [
    "f = open(\"demofile.txt\", \"r\")\n",
    "for x in f:\n",
    "  print(x)"
   ]
  },
  {
   "cell_type": "markdown",
   "id": "eea418c5",
   "metadata": {},
   "source": [
    "Note: You should always close your files, in some cases, due to buffering, changes made to a file may not show until you close the file."
   ]
  },
  {
   "cell_type": "code",
   "execution_count": null,
   "id": "9b67423b",
   "metadata": {},
   "outputs": [],
   "source": [
    "f.close()"
   ]
  },
  {
   "cell_type": "markdown",
   "id": "2900123d",
   "metadata": {},
   "source": [
    "To write to an existing file, you must add a parameter to the open() function:\n",
    "<pre>\n",
    "\"a\" - Append - will append to the end of the file\n",
    "\n",
    "\"w\" - Write - will overwrite any existing content\n",
    "</pre>"
   ]
  },
  {
   "cell_type": "markdown",
   "id": "91748235",
   "metadata": {},
   "source": [
    "Create a New File\n",
    "<pre>\n",
    "To create a new file in Python, use the open() method, with one of the following parameters:\n",
    "\n",
    "\"x\" - Create - will create a file, returns an error if the file exist\n",
    "\n",
    "\"a\" - Append - will create a file if the specified file does not exist\n",
    "\n",
    "\"w\" - Write - will create a file if the specified file does not exist\n",
    "</pre>"
   ]
  },
  {
   "cell_type": "markdown",
   "id": "ef25d218",
   "metadata": {},
   "source": [
    "Remove the file \"demofile.txt\":"
   ]
  },
  {
   "cell_type": "code",
   "execution_count": 83,
   "id": "de1a0661",
   "metadata": {},
   "outputs": [],
   "source": [
    "import os\n",
    "os.remove(\"demofile.txt\")"
   ]
  },
  {
   "cell_type": "markdown",
   "id": "8629731d",
   "metadata": {},
   "source": [
    "Check if file exists, then delete it:"
   ]
  },
  {
   "cell_type": "code",
   "execution_count": null,
   "id": "f2d5cff0",
   "metadata": {},
   "outputs": [],
   "source": [
    "import os\n",
    "if os.path.exists(\"demofile.txt\"):\n",
    "  os.remove(\"demofile.txt\")\n",
    "else:\n",
    "  print(\"The file does not exist\")"
   ]
  },
  {
   "cell_type": "markdown",
   "id": "152bf4a9",
   "metadata": {},
   "source": [
    "Remove the folder \"myfolder\".  You can only remove empty folders."
   ]
  },
  {
   "cell_type": "code",
   "execution_count": null,
   "id": "018896bb",
   "metadata": {},
   "outputs": [],
   "source": [
    "import os\n",
    "os.rmdir(\"myfolder\")"
   ]
  }
 ],
 "metadata": {
  "kernelspec": {
   "display_name": "Python 3",
   "language": "python",
   "name": "python3"
  },
  "language_info": {
   "codemirror_mode": {
    "name": "ipython",
    "version": 3
   },
   "file_extension": ".py",
   "mimetype": "text/x-python",
   "name": "python",
   "nbconvert_exporter": "python",
   "pygments_lexer": "ipython3",
   "version": "3.8.8"
  }
 },
 "nbformat": 4,
 "nbformat_minor": 5
}
