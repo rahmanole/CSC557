{
 "cells": [
  {
   "cell_type": "code",
   "execution_count": 6,
   "id": "aef94c79",
   "metadata": {
    "scrolled": true
   },
   "outputs": [],
   "source": [
    "import numpy as np\n",
    "import seaborn as sb"
   ]
  },
  {
   "cell_type": "code",
   "execution_count": 7,
   "id": "5712ad1d",
   "metadata": {},
   "outputs": [],
   "source": [
    "ar = np.array([1,2,5])\n",
    "ar = np.array((1,2,3))"
   ]
  },
  {
   "cell_type": "code",
   "execution_count": 8,
   "id": "1718775e",
   "metadata": {},
   "outputs": [],
   "source": [
    "#Multidimentional array\n",
    "arr_multi = np.array([[[1, 2, 3], [4, 5, 6]], [[1, 2, 3], [4, 5, 6]]])"
   ]
  },
  {
   "cell_type": "code",
   "execution_count": 9,
   "id": "fdb00d63",
   "metadata": {},
   "outputs": [
    {
     "ename": "NameError",
     "evalue": "name 'arr' is not defined",
     "output_type": "error",
     "traceback": [
      "\u001b[0;31m---------------------------------------------------------------------------\u001b[0m",
      "\u001b[0;31mNameError\u001b[0m                                 Traceback (most recent call last)",
      "\u001b[0;32m/var/folders/hr/84gg3m1s6y75pg48fs4msrvw0000gn/T/ipykernel_82852/500632296.py\u001b[0m in \u001b[0;36m<module>\u001b[0;34m\u001b[0m\n\u001b[0;32m----> 1\u001b[0;31m \u001b[0mprint\u001b[0m\u001b[0;34m(\u001b[0m\u001b[0marr\u001b[0m\u001b[0;34m.\u001b[0m\u001b[0mndim\u001b[0m\u001b[0;34m)\u001b[0m\u001b[0;34m\u001b[0m\u001b[0;34m\u001b[0m\u001b[0m\n\u001b[0m",
      "\u001b[0;31mNameError\u001b[0m: name 'arr' is not defined"
     ]
    }
   ],
   "source": [
    "print(arr.ndim)"
   ]
  },
  {
   "cell_type": "code",
   "execution_count": null,
   "id": "f97dd78a",
   "metadata": {},
   "outputs": [],
   "source": [
    "arr = np.array([1, 2, 3, 4], ndmin=5)"
   ]
  },
  {
   "cell_type": "markdown",
   "id": "adf53a96",
   "metadata": {},
   "source": [
    "<h4>\n",
    "Checking the dimension of an Array\n",
    "</h4>"
   ]
  },
  {
   "cell_type": "code",
   "execution_count": null,
   "id": "dd650ce0",
   "metadata": {},
   "outputs": [],
   "source": [
    "arr.ndim"
   ]
  },
  {
   "cell_type": "markdown",
   "id": "ba310640",
   "metadata": {},
   "source": [
    "<h2>Indexing</h2>"
   ]
  },
  {
   "cell_type": "code",
   "execution_count": null,
   "id": "bea2574f",
   "metadata": {},
   "outputs": [],
   "source": [
    "# indexing for multidimentional array\n",
    "arr_multi[0,1,2]"
   ]
  },
  {
   "cell_type": "markdown",
   "id": "c5c784c0",
   "metadata": {},
   "source": [
    "<h2>Slicing</h2>"
   ]
  },
  {
   "cell_type": "markdown",
   "id": "75b012c2",
   "metadata": {},
   "source": [
    "Regurlar conventions: [start:end:step]"
   ]
  },
  {
   "cell_type": "code",
   "execution_count": null,
   "id": "95524714",
   "metadata": {},
   "outputs": [],
   "source": [
    "# Sllicing for multidimentional array"
   ]
  },
  {
   "cell_type": "code",
   "execution_count": null,
   "id": "6d4943fe",
   "metadata": {},
   "outputs": [],
   "source": [
    "arr_multi[0:1,0:2]"
   ]
  },
  {
   "cell_type": "markdown",
   "id": "4666dd24",
   "metadata": {},
   "source": [
    "<h2>Data types in Numpy</h2>"
   ]
  },
  {
   "cell_type": "markdown",
   "id": "0e5bb40c",
   "metadata": {},
   "source": [
    "<pre>i - integer\n",
    "b - boolean\n",
    "u - unsigned integer\n",
    "f - float\n",
    "c - complex float\n",
    "m - timedelta\n",
    "M - datetime\n",
    "O - object\n",
    "S - string\n",
    "U - unicode string\n",
    "V - fixed chunk of memory for other type ( void )</pre>"
   ]
  },
  {
   "cell_type": "markdown",
   "id": "4d252276",
   "metadata": {},
   "source": [
    "<h4>Checking the Data Type of an Array\n",
    "</h4>"
   ]
  },
  {
   "cell_type": "code",
   "execution_count": null,
   "id": "b5d7e247",
   "metadata": {},
   "outputs": [],
   "source": [
    "print(arr.dtype)"
   ]
  },
  {
   "cell_type": "markdown",
   "id": "a751bbf6",
   "metadata": {},
   "source": [
    "<h4>Creating Arrays With a Defined Data Type\n",
    "</h4>"
   ]
  },
  {
   "cell_type": "code",
   "execution_count": null,
   "id": "04e3630c",
   "metadata": {},
   "outputs": [],
   "source": [
    "arr = np.array([1, 2, 3, 4], dtype='S')"
   ]
  },
  {
   "cell_type": "markdown",
   "id": "6563edf9",
   "metadata": {},
   "source": [
    "<h4>Converting Data Type on Existing Arrays\n",
    "</h4>"
   ]
  },
  {
   "cell_type": "code",
   "execution_count": null,
   "id": "827d866b",
   "metadata": {},
   "outputs": [],
   "source": [
    "arr = np.array([1.1, 2.1, 3.1])\n",
    "newarr = arr.astype('i')"
   ]
  },
  {
   "cell_type": "markdown",
   "id": "5086c163",
   "metadata": {},
   "source": [
    "<h2>NumPy Array Copy vs View</h2>"
   ]
  },
  {
   "cell_type": "code",
   "execution_count": null,
   "id": "633692cb",
   "metadata": {},
   "outputs": [],
   "source": [
    "x = arr.copy()\n",
    "x = arr.view()"
   ]
  },
  {
   "cell_type": "markdown",
   "id": "f8be8feb",
   "metadata": {},
   "source": [
    "<b>The copy SHOULD NOT be affected by the changes made to the original array</b>"
   ]
  },
  {
   "cell_type": "markdown",
   "id": "9ab6f6f2",
   "metadata": {},
   "source": [
    "<b>The view SHOULD be affected by the changes made to the original array.\n",
    "</b>"
   ]
  },
  {
   "cell_type": "markdown",
   "id": "45040894",
   "metadata": {},
   "source": [
    "<h4>Check if Array Owns it's Data</h4>"
   ]
  },
  {
   "cell_type": "code",
   "execution_count": null,
   "id": "2c22953d",
   "metadata": {},
   "outputs": [],
   "source": [
    "x = arr.copy()\n",
    "y = arr.view()\n",
    "\n",
    "print(x.base)\n",
    "print(y.base)\n"
   ]
  },
  {
   "cell_type": "markdown",
   "id": "14ef3729",
   "metadata": {},
   "source": [
    "<h2>NumPy Array Copy vs View</h2>"
   ]
  },
  {
   "cell_type": "code",
   "execution_count": null,
   "id": "2089d112",
   "metadata": {},
   "outputs": [],
   "source": [
    "arr.shape"
   ]
  },
  {
   "cell_type": "code",
   "execution_count": 10,
   "id": "89cbdf3b",
   "metadata": {},
   "outputs": [
    {
     "data": {
      "text/plain": [
       "(2, 2, 3)"
      ]
     },
     "execution_count": 10,
     "metadata": {},
     "output_type": "execute_result"
    }
   ],
   "source": [
    "arr_multi.shape"
   ]
  },
  {
   "cell_type": "markdown",
   "id": "5d716f66",
   "metadata": {},
   "source": [
    "<h2>NumPy Array Reshaping</h2>"
   ]
  },
  {
   "cell_type": "code",
   "execution_count": 11,
   "id": "51aa7250",
   "metadata": {},
   "outputs": [],
   "source": [
    "arr = np.array([1, 2, 3, 4, 5, 6, 7, 8, 9, 10, 11, 12])\n",
    "\n",
    "newarr = arr.reshape(2, 3, 2)"
   ]
  },
  {
   "cell_type": "markdown",
   "id": "89dec81c",
   "metadata": {},
   "source": [
    "<pre>\n",
    "Can We Reshape Into any Shape?\n",
    "Yes, as long as the elements required for reshaping are equal in both shapes.\n",
    "\n",
    "We can reshape an 8 elements 1D array into 4 elements in 2 rows 2D array but we cannot reshape it into a 3 elements 3 rows 2D array as that would require 3x3 = 9 elements.\n",
    "\n",
    "</pre>"
   ]
  },
  {
   "cell_type": "markdown",
   "id": "64d9deaf",
   "metadata": {},
   "source": [
    "<h4>\n",
    "Unknown Dimension\n",
    "</h4>"
   ]
  },
  {
   "cell_type": "markdown",
   "id": "b6f9c245",
   "metadata": {},
   "source": [
    "<pre>\n",
    "Unknown Dimension\n",
    "You are allowed to have one \"unknown\" dimension.\n",
    "\n",
    "Meaning that you do not have to specify an exact number for one of the dimensions in the reshape method.\n",
    "\n",
    "Pass -1 as the value, and NumPy will calculate this number for you.\n",
    "</pre>"
   ]
  },
  {
   "cell_type": "code",
   "execution_count": 12,
   "id": "5b5fc5f9",
   "metadata": {},
   "outputs": [],
   "source": [
    "arr = np.array([1, 2, 3, 4, 5, 6, 7, 8])\n",
    "\n",
    "newarr = arr.reshape(2, 2, -1)"
   ]
  },
  {
   "cell_type": "markdown",
   "id": "a67f55b4",
   "metadata": {},
   "source": [
    "<b>Note: We can not pass -1 to more than one dimension.</b>"
   ]
  },
  {
   "cell_type": "markdown",
   "id": "8a454270",
   "metadata": {},
   "source": [
    "<h2>NumPy Array Iterating</h2>"
   ]
  },
  {
   "cell_type": "markdown",
   "id": "4da3f4ae",
   "metadata": {},
   "source": [
    "<h4>Iterating Arrays Using nditer()</h4>"
   ]
  },
  {
   "cell_type": "code",
   "execution_count": 13,
   "id": "26510a72",
   "metadata": {},
   "outputs": [
    {
     "name": "stdout",
     "output_type": "stream",
     "text": [
      "1\n",
      "2\n",
      "3\n",
      "4\n",
      "5\n",
      "6\n",
      "7\n",
      "8\n"
     ]
    }
   ],
   "source": [
    "arr = np.array([[[1, 2], [3, 4]], [[5, 6], [7, 8]]])\n",
    "\n",
    "for x in np.nditer(arr):\n",
    "  print(x)"
   ]
  },
  {
   "cell_type": "code",
   "execution_count": 14,
   "id": "a7cb7deb",
   "metadata": {},
   "outputs": [
    {
     "name": "stdout",
     "output_type": "stream",
     "text": [
      "1\n",
      "2\n",
      "5\n",
      "6\n"
     ]
    }
   ],
   "source": [
    "for x in np.nditer(arr[:, ::2]):\n",
    "  print(x)"
   ]
  },
  {
   "cell_type": "markdown",
   "id": "de5f14db",
   "metadata": {},
   "source": [
    "<h4>Enumerated Iteration Using ndenumerate()</h4>"
   ]
  },
  {
   "cell_type": "code",
   "execution_count": 15,
   "id": "06fb7810",
   "metadata": {},
   "outputs": [
    {
     "name": "stdout",
     "output_type": "stream",
     "text": [
      "(0,) 1\n",
      "(1,) 2\n",
      "(2,) 3\n"
     ]
    }
   ],
   "source": [
    "arr = np.array([1, 2, 3])\n",
    "for idx, x in np.ndenumerate(arr):\n",
    "  print(idx, x)"
   ]
  },
  {
   "cell_type": "markdown",
   "id": "2eae0f1c",
   "metadata": {},
   "source": [
    "<h2>NumPy Joining Array</h2>"
   ]
  },
  {
   "cell_type": "code",
   "execution_count": 16,
   "id": "891eb796",
   "metadata": {},
   "outputs": [
    {
     "name": "stdout",
     "output_type": "stream",
     "text": [
      "[[1 2 5 6]\n",
      " [3 4 7 8]]\n"
     ]
    }
   ],
   "source": [
    "arr1 = np.array([[1, 2], [3, 4]])\n",
    "\n",
    "arr2 = np.array([[5, 6], [7, 8]])\n",
    "\n",
    "arr = np.concatenate((arr1, arr2), axis=1)\n",
    "\n",
    "print(arr)"
   ]
  },
  {
   "cell_type": "markdown",
   "id": "0864fabf",
   "metadata": {},
   "source": [
    "<b>Default axis is 0</b>"
   ]
  },
  {
   "cell_type": "markdown",
   "id": "b38bec9a",
   "metadata": {},
   "source": [
    "<h3>Stacking</h3>"
   ]
  },
  {
   "cell_type": "code",
   "execution_count": 17,
   "id": "84364b70",
   "metadata": {},
   "outputs": [
    {
     "name": "stdout",
     "output_type": "stream",
     "text": [
      "[[1 2 3]\n",
      " [4 5 6]]\n"
     ]
    }
   ],
   "source": [
    "arr1 = np.array([1, 2, 3])\n",
    "\n",
    "arr2 = np.array([4, 5, 6])\n",
    "\n",
    "arr = np.stack((arr1, arr2), axis=0)\n",
    "\n",
    "print(arr)"
   ]
  },
  {
   "cell_type": "code",
   "execution_count": 18,
   "id": "03ee4e9b",
   "metadata": {},
   "outputs": [
    {
     "name": "stdout",
     "output_type": "stream",
     "text": [
      "[[1 4]\n",
      " [2 5]\n",
      " [3 6]]\n"
     ]
    }
   ],
   "source": [
    "arr = np.stack((arr1, arr2), axis=1)\n",
    "print(arr)"
   ]
  },
  {
   "cell_type": "code",
   "execution_count": 19,
   "id": "89061d30",
   "metadata": {},
   "outputs": [
    {
     "name": "stdout",
     "output_type": "stream",
     "text": [
      "[[1 2 3]\n",
      " [4 5 6]]\n"
     ]
    }
   ],
   "source": [
    "arr = np.vstack((arr1, arr2))\n",
    "print(arr)"
   ]
  },
  {
   "cell_type": "code",
   "execution_count": 20,
   "id": "9a2505ab",
   "metadata": {},
   "outputs": [
    {
     "name": "stdout",
     "output_type": "stream",
     "text": [
      "[1 2 3 4 5 6]\n"
     ]
    }
   ],
   "source": [
    "arr = np.hstack((arr1, arr2))\n",
    "print(arr)"
   ]
  },
  {
   "cell_type": "markdown",
   "id": "2f5f0e7d",
   "metadata": {},
   "source": [
    "<h4>If axis for stack function is 0 then it works like vstack</h4>\n",
    "<h4>If axis for stack function is 1 then it works like hstack</h4>"
   ]
  },
  {
   "cell_type": "markdown",
   "id": "fdbd205f",
   "metadata": {},
   "source": [
    "<h2>Splitting NumPy Arrays</h2>"
   ]
  },
  {
   "cell_type": "code",
   "execution_count": 21,
   "id": "c39214be",
   "metadata": {},
   "outputs": [
    {
     "name": "stdout",
     "output_type": "stream",
     "text": [
      "[array([1, 2]), array([3, 4]), array([5]), array([6])]\n"
     ]
    }
   ],
   "source": [
    "arr = np.array([1, 2, 3, 4, 5, 6])\n",
    "newarr = np.array_split(arr, 4)\n",
    "print(newarr)"
   ]
  },
  {
   "cell_type": "markdown",
   "id": "220dd424",
   "metadata": {},
   "source": [
    "<h2>Search Numpy Array</h2>"
   ]
  },
  {
   "cell_type": "code",
   "execution_count": 22,
   "id": "b358cc74",
   "metadata": {},
   "outputs": [
    {
     "name": "stdout",
     "output_type": "stream",
     "text": [
      "(array([3, 5, 6]),)\n"
     ]
    }
   ],
   "source": [
    "arr = np.array([1, 2, 3, 4, 5, 4, 4])\n",
    "x = np.where(arr == 4)\n",
    "print(x)"
   ]
  },
  {
   "cell_type": "markdown",
   "id": "2fc29c0f",
   "metadata": {},
   "source": [
    "<h4>Which means that the value 4 is present at index 3, 5, and 6.</h4>"
   ]
  },
  {
   "cell_type": "markdown",
   "id": "555c42b5",
   "metadata": {},
   "source": [
    "<b>There is a method called searchsorted() which performs a binary search in the array, and returns the index where the specified value would be inserted to maintain the search order.\n",
    "</b>"
   ]
  },
  {
   "cell_type": "code",
   "execution_count": 23,
   "id": "284d5de6",
   "metadata": {},
   "outputs": [
    {
     "name": "stdout",
     "output_type": "stream",
     "text": [
      "1\n"
     ]
    }
   ],
   "source": [
    "arr = np.array([6, 7, 8, 9])\n",
    "\n",
    "x = np.searchsorted(arr, 7)\n",
    "\n",
    "print(x)\n"
   ]
  },
  {
   "cell_type": "code",
   "execution_count": 24,
   "id": "02f63024",
   "metadata": {},
   "outputs": [],
   "source": [
    "# Search from right side\n",
    "x = np.searchsorted(arr, 7, side='right')"
   ]
  },
  {
   "cell_type": "code",
   "execution_count": 25,
   "id": "c8c74b85",
   "metadata": {},
   "outputs": [
    {
     "data": {
      "text/plain": [
       "array([6, 7, 8, 9])"
      ]
     },
     "execution_count": 25,
     "metadata": {},
     "output_type": "execute_result"
    }
   ],
   "source": [
    "np.sort(arr)"
   ]
  },
  {
   "cell_type": "markdown",
   "id": "a77636d5",
   "metadata": {},
   "source": [
    "<b>Sort mehod returns a new array</b>"
   ]
  },
  {
   "cell_type": "markdown",
   "id": "62a2267c",
   "metadata": {},
   "source": [
    "<h2>Filtering Arrays\n",
    "</h2>"
   ]
  },
  {
   "cell_type": "code",
   "execution_count": 26,
   "id": "2314de2d",
   "metadata": {},
   "outputs": [
    {
     "name": "stdout",
     "output_type": "stream",
     "text": [
      "[41 43]\n"
     ]
    }
   ],
   "source": [
    "arr = np.array([41, 42, 43, 44])\n",
    "\n",
    "x = [True, False, True, False]\n",
    "\n",
    "newarr = arr[x]\n",
    "\n",
    "print(newarr)"
   ]
  },
  {
   "cell_type": "code",
   "execution_count": 27,
   "id": "fba7d8ef",
   "metadata": {},
   "outputs": [
    {
     "name": "stdout",
     "output_type": "stream",
     "text": [
      "[False False  True  True]\n",
      "[43 44]\n"
     ]
    }
   ],
   "source": [
    "arr = np.array([41, 42, 43, 44])\n",
    "\n",
    "filter_arr = arr > 42\n",
    "\n",
    "newarr = arr[filter_arr]\n",
    "\n",
    "print(filter_arr)\n",
    "print(newarr)"
   ]
  },
  {
   "cell_type": "code",
   "execution_count": null,
   "id": "fa050d47",
   "metadata": {},
   "outputs": [],
   "source": [
    "    "
   ]
  },
  {
   "cell_type": "markdown",
   "id": "71eb06cd",
   "metadata": {},
   "source": [
    "<h2>Random Numbers in NumPy</h2>"
   ]
  },
  {
   "cell_type": "markdown",
   "id": "2e171f08",
   "metadata": {},
   "source": [
    "<h3>Normal (Gaussian) Distribution</h3>"
   ]
  },
  {
   "cell_type": "code",
   "execution_count": 28,
   "id": "24ce4b93",
   "metadata": {},
   "outputs": [],
   "source": [
    "import numpy.random as rn"
   ]
  },
  {
   "cell_type": "code",
   "execution_count": 29,
   "id": "756333c7",
   "metadata": {
    "scrolled": true
   },
   "outputs": [
    {
     "data": {
      "text/plain": [
       "<AxesSubplot:ylabel='Density'>"
      ]
     },
     "execution_count": 29,
     "metadata": {},
     "output_type": "execute_result"
    },
    {
     "data": {
      "image/png": "[encoded data removed]",
      "text/plain": [
       "<Figure size 432x288 with 1 Axes>"
      ]
     },
     "metadata": {
      "needs_background": "light"
     },
     "output_type": "display_data"
    }
   ],
   "source": [
    "x = rn.normal(size=100)\n",
    "#sb.distplot(x, hist=False)\n",
    "sb.kdeplot(x)"
   ]
  },
  {
   "cell_type": "markdown",
   "id": "3dc68cce",
   "metadata": {},
   "source": [
    "<h3>Binominal Distribution</h3>\n",
    "<pre>\n",
    "n - number of trials.\n",
    "p - probability of occurence of each trial (e.g. for toss of a coin 0.5 each).\n",
    "size - The shape of the returned array.\n",
    "\n",
    "The main difference is that normal distribution is continous whereas binomial is discrete, but if there are enough data points it will be quite similar to normal distribution with certain loc and scale.\n",
    "</pre>"
   ]
  },
  {
   "cell_type": "code",
   "execution_count": 33,
   "id": "0725ed2b",
   "metadata": {},
   "outputs": [
    {
     "data": {
      "text/plain": [
       "array([5, 4, 9, 5, 5, 4, 4, 5, 5, 3])"
      ]
     },
     "execution_count": 33,
     "metadata": {},
     "output_type": "execute_result"
    },
    {
     "data": {
      "image/png": "[encoded data removed]",
      "text/plain": [
       "<Figure size 360x360 with 1 Axes>"
      ]
     },
     "metadata": {
      "needs_background": "light"
     },
     "output_type": "display_data"
    }
   ],
   "source": [
    "x = rn.binomial(n=10, p=0.5, size=10)\n",
    "sb.displot(x)\n",
    "x"
   ]
  },
  {
   "cell_type": "code",
   "execution_count": null,
   "id": "13cc617b",
   "metadata": {},
   "outputs": [],
   "source": []
  }
 ],
 "metadata": {
  "kernelspec": {
   "display_name": "Python 3 (ipykernel)",
   "language": "python",
   "name": "python3"
  },
  "language_info": {
   "codemirror_mode": {
    "name": "ipython",
    "version": 3
   },
   "file_extension": ".py",
   "mimetype": "text/x-python",
   "name": "python",
   "nbconvert_exporter": "python",
   "pygments_lexer": "ipython3",
   "version": "3.8.8"
  }
 },
 "nbformat": 4,
 "nbformat_minor": 5
}
