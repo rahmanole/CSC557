{
 "cells": [
  {
   "cell_type": "code",
   "execution_count": 7,
   "id": "aef94c79",
   "metadata": {
    "scrolled": true
   },
   "outputs": [],
   "source": [
    "import numpy as np\n",
    "import seaborn as sb"
   ]
  },
  {
   "cell_type": "code",
   "execution_count": 8,
   "id": "5712ad1d",
   "metadata": {},
   "outputs": [],
   "source": [
    "ar = np.array([1,2,5])\n",
    "ar = np.array((1,2,3))"
   ]
  },
  {
   "cell_type": "code",
   "execution_count": 9,
   "id": "1718775e",
   "metadata": {},
   "outputs": [],
   "source": [
    "#Multidimentional array\n",
    "arr_multi = np.array([[[1, 2, 3], [4, 5, 6]], [[1, 2, 3], [4, 5, 6]]])"
   ]
  },
  {
   "cell_type": "code",
<<<<<<< HEAD
   "execution_count": 10,
=======
   "execution_count": 34,
>>>>>>> 5d57a29fd5cf50afffa85a9b0e8666bd12fc4e59
   "id": "fdb00d63",
   "metadata": {
    "scrolled": true
   },
   "outputs": [
    {
     "name": "stdout",
     "output_type": "stream",
     "text": [
      "1\n"
     ]
    }
   ],
   "source": [
    "print(ar.ndim)"
   ]
  },
  {
   "cell_type": "code",
<<<<<<< HEAD
   "execution_count": 11,
=======
   "execution_count": 35,
>>>>>>> 5d57a29fd5cf50afffa85a9b0e8666bd12fc4e59
   "id": "f97dd78a",
   "metadata": {},
   "outputs": [],
   "source": [
    "arr = np.array([1, 2, 3, 4], ndmin=5)"
   ]
  },
  {
   "cell_type": "markdown",
   "id": "adf53a96",
   "metadata": {},
   "source": [
    "<h4>\n",
    "Checking the dimension of an Array\n",
    "</h4>"
   ]
  },
  {
   "cell_type": "code",
<<<<<<< HEAD
   "execution_count": 12,
=======
   "execution_count": 36,
>>>>>>> 5d57a29fd5cf50afffa85a9b0e8666bd12fc4e59
   "id": "dd650ce0",
   "metadata": {},
   "outputs": [
    {
     "data": {
      "text/plain": [
       "5"
      ]
     },
<<<<<<< HEAD
     "execution_count": 12,
=======
     "execution_count": 36,
>>>>>>> 5d57a29fd5cf50afffa85a9b0e8666bd12fc4e59
     "metadata": {},
     "output_type": "execute_result"
    }
   ],
   "source": [
    "arr.ndim"
   ]
  },
  {
   "cell_type": "markdown",
   "id": "ba310640",
   "metadata": {},
   "source": [
    "<h2>Indexing</h2>"
   ]
  },
  {
   "cell_type": "code",
   "execution_count": 13,
   "id": "bea2574f",
   "metadata": {},
   "outputs": [
    {
     "data": {
      "text/plain": [
       "6"
      ]
     },
     "execution_count": 13,
     "metadata": {},
     "output_type": "execute_result"
    }
   ],
   "source": [
    "# indexing for multidimentional array\n",
    "arr_multi[0,1,2]"
   ]
  },
  {
   "cell_type": "markdown",
   "id": "c5c784c0",
   "metadata": {},
   "source": [
    "<h2>Slicing</h2>"
   ]
  },
  {
   "cell_type": "markdown",
   "id": "75b012c2",
   "metadata": {},
   "source": [
    "Regurlar conventions: [start:end:step]"
   ]
  },
  {
   "cell_type": "code",
   "execution_count": 14,
   "id": "95524714",
   "metadata": {},
   "outputs": [],
   "source": [
    "# Sllicing for multidimentional array"
   ]
  },
  {
   "cell_type": "code",
   "execution_count": 15,
   "id": "6d4943fe",
   "metadata": {},
   "outputs": [
    {
     "data": {
      "text/plain": [
       "array([[[1, 2, 3],\n",
       "        [4, 5, 6]]])"
      ]
     },
     "execution_count": 15,
     "metadata": {},
     "output_type": "execute_result"
    }
   ],
   "source": [
    "arr_multi[0:1,0:2]"
   ]
  },
  {
   "cell_type": "markdown",
   "id": "4666dd24",
   "metadata": {},
   "source": [
    "<h2>Data types in Numpy</h2>"
   ]
  },
  {
   "cell_type": "markdown",
   "id": "0e5bb40c",
   "metadata": {},
   "source": [
    "<pre>i - integer\n",
    "b - boolean\n",
    "u - unsigned integer\n",
    "f - float\n",
    "c - complex float\n",
    "m - timedelta\n",
    "M - datetime\n",
    "O - object\n",
    "S - string\n",
    "U - unicode string\n",
    "V - fixed chunk of memory for other type ( void )</pre>"
   ]
  },
  {
   "cell_type": "markdown",
   "id": "4d252276",
   "metadata": {},
   "source": [
    "<h4>Checking the Data Type of an Array\n",
    "</h4>"
   ]
  },
  {
   "cell_type": "code",
   "execution_count": 16,
   "id": "b5d7e247",
   "metadata": {
    "scrolled": false
   },
   "outputs": [
    {
     "name": "stdout",
     "output_type": "stream",
     "text": [
      "int32\n"
     ]
    }
   ],
   "source": [
    "print(arr.dtype)"
   ]
  },
  {
   "cell_type": "markdown",
   "id": "a751bbf6",
   "metadata": {},
   "source": [
    "<h4>Creating Arrays With a Defined Data Type\n",
    "</h4>"
   ]
  },
  {
   "cell_type": "code",
   "execution_count": 17,
   "id": "04e3630c",
   "metadata": {},
   "outputs": [],
   "source": [
    "arr = np.array([1, 2, 3, 4], dtype='S')"
   ]
  },
  {
   "cell_type": "markdown",
   "id": "6563edf9",
   "metadata": {},
   "source": [
    "<h4>Converting Data Type on Existing Arrays\n",
    "</h4>"
   ]
  },
  {
   "cell_type": "code",
   "execution_count": 18,
   "id": "827d866b",
   "metadata": {},
   "outputs": [],
   "source": [
    "arr = np.array([1.1, 2.1, 3.1])\n",
    "newarr = arr.astype('i')"
   ]
  },
  {
   "cell_type": "markdown",
   "id": "5086c163",
   "metadata": {},
   "source": [
    "<h2>NumPy Array Copy vs View</h2>"
   ]
  },
  {
   "cell_type": "code",
   "execution_count": 19,
   "id": "633692cb",
   "metadata": {},
   "outputs": [],
   "source": [
    "x = arr.copy()\n",
    "x = arr.view()"
   ]
  },
  {
   "cell_type": "markdown",
   "id": "f8be8feb",
   "metadata": {},
   "source": [
    "<b>The copy SHOULD NOT be affected by the changes made to the original array</b>"
   ]
  },
  {
   "cell_type": "markdown",
   "id": "9ab6f6f2",
   "metadata": {},
   "source": [
    "<b>The view SHOULD be affected by the changes made to the original array.\n",
    "</b>"
   ]
  },
  {
   "cell_type": "markdown",
   "id": "45040894",
   "metadata": {},
   "source": [
    "<h4>Check if Array Owns it's Data</h4>"
   ]
  },
  {
   "cell_type": "code",
   "execution_count": 20,
   "id": "2c22953d",
   "metadata": {},
   "outputs": [
    {
     "name": "stdout",
     "output_type": "stream",
     "text": [
      "None\n",
      "[1.1 2.1 3.1]\n"
     ]
    }
   ],
   "source": [
    "x = arr.copy()\n",
    "y = arr.view()\n",
    "\n",
    "print(x.base)\n",
    "print(y.base)\n"
   ]
  },
  {
   "cell_type": "markdown",
   "id": "14ef3729",
   "metadata": {},
   "source": [
    "<h2>NumPy Array Copy vs View</h2>"
   ]
  },
  {
   "cell_type": "code",
   "execution_count": 21,
   "id": "2089d112",
   "metadata": {},
   "outputs": [
    {
     "data": {
      "text/plain": [
       "(3,)"
      ]
     },
     "execution_count": 21,
     "metadata": {},
     "output_type": "execute_result"
    }
   ],
   "source": [
    "arr.shape"
   ]
  },
  {
   "cell_type": "code",
   "execution_count": 22,
   "id": "89cbdf3b",
   "metadata": {},
   "outputs": [
    {
     "data": {
      "text/plain": [
       "(2, 2, 3)"
      ]
     },
     "execution_count": 22,
     "metadata": {},
     "output_type": "execute_result"
    }
   ],
   "source": [
    "arr_multi.shape"
   ]
  },
  {
   "cell_type": "markdown",
   "id": "5d716f66",
   "metadata": {},
   "source": [
    "<h2>NumPy Array Reshaping</h2>"
   ]
  },
  {
   "cell_type": "code",
   "execution_count": 23,
   "id": "51aa7250",
   "metadata": {},
   "outputs": [],
   "source": [
    "arr = np.array([1, 2, 3, 4, 5, 6, 7, 8, 9, 10, 11, 12])\n",
    "\n",
    "newarr = arr.reshape(2, 3, 2)"
   ]
  },
  {
   "cell_type": "markdown",
   "id": "89dec81c",
   "metadata": {},
   "source": [
    "<pre>\n",
    "Can We Reshape Into any Shape?\n",
    "Yes, as long as the elements required for reshaping are equal in both shapes.\n",
    "\n",
    "We can reshape an 8 elements 1D array into 4 elements in 2 rows 2D array but we cannot reshape it into a 3 elements 3 rows 2D array as that would require 3x3 = 9 elements.\n",
    "\n",
    "</pre>"
   ]
  },
  {
   "cell_type": "markdown",
   "id": "64d9deaf",
   "metadata": {},
   "source": [
    "<h4>\n",
    "Unknown Dimension\n",
    "</h4>"
   ]
  },
  {
   "cell_type": "markdown",
   "id": "b6f9c245",
   "metadata": {},
   "source": [
    "<pre>\n",
    "Unknown Dimension\n",
    "You are allowed to have one \"unknown\" dimension.\n",
    "\n",
    "Meaning that you do not have to specify an exact number for one of the dimensions in the reshape method.\n",
    "\n",
    "Pass -1 as the value, and NumPy will calculate this number for you.\n",
    "</pre>"
   ]
  },
  {
   "cell_type": "code",
<<<<<<< HEAD
   "execution_count": 24,
=======
   "execution_count": 38,
>>>>>>> 5d57a29fd5cf50afffa85a9b0e8666bd12fc4e59
   "id": "5b5fc5f9",
   "metadata": {},
   "outputs": [
    {
     "data": {
      "text/plain": [
       "array([[[1, 2],\n",
       "        [3, 4]],\n",
       "\n",
       "       [[5, 6],\n",
       "        [7, 8]]])"
      ]
     },
     "execution_count": 38,
     "metadata": {},
     "output_type": "execute_result"
    }
   ],
   "source": [
    "arr = np.array([1, 2, 3, 4, 5, 6, 7, 8])\n",
    "\n",
    "newarr = arr.reshape(2, 2, -1)\n",
    "newarr"
   ]
  },
  {
   "cell_type": "markdown",
   "id": "a67f55b4",
   "metadata": {},
   "source": [
    "<b>Note: We can not pass -1 to more than one dimension.</b>"
   ]
  },
  {
   "cell_type": "markdown",
   "id": "8a454270",
   "metadata": {},
   "source": [
    "<h2>NumPy Array Iterating</h2>"
   ]
  },
  {
   "cell_type": "markdown",
   "id": "4da3f4ae",
   "metadata": {},
   "source": [
    "<h4>Iterating Arrays Using nditer()</h4>"
   ]
  },
  {
   "cell_type": "code",
   "execution_count": 25,
   "id": "26510a72",
   "metadata": {},
   "outputs": [
    {
     "name": "stdout",
     "output_type": "stream",
     "text": [
      "1\n",
      "2\n",
      "3\n",
      "4\n",
      "5\n",
      "6\n",
      "7\n",
      "8\n"
     ]
    }
   ],
   "source": [
    "arr = np.array([[[1, 2], [3, 4]], [[5, 6], [7, 8]]])\n",
    "\n",
    "for x in np.nditer(arr):\n",
    "  print(x)"
   ]
  },
  {
   "cell_type": "code",
   "execution_count": 26,
   "id": "a7cb7deb",
   "metadata": {
    "scrolled": true
   },
   "outputs": [
    {
     "name": "stdout",
     "output_type": "stream",
     "text": [
      "1\n",
      "2\n",
      "5\n",
      "6\n"
     ]
    }
   ],
   "source": [
    "for x in np.nditer(arr[:, ::2]):\n",
    "  print(x)"
   ]
  },
  {
   "cell_type": "markdown",
   "id": "de5f14db",
   "metadata": {},
   "source": [
    "<h4>Enumerated Iteration Using ndenumerate()</h4>"
   ]
  },
  {
   "cell_type": "code",
   "execution_count": 27,
   "id": "06fb7810",
   "metadata": {
    "scrolled": true
   },
   "outputs": [
    {
     "name": "stdout",
     "output_type": "stream",
     "text": [
      "(0,) 1\n",
      "(1,) 2\n",
      "(2,) 3\n"
     ]
    }
   ],
   "source": [
    "arr = np.array([1, 2, 3])\n",
    "for idx, x in np.ndenumerate(arr):\n",
    "  print(idx, x)"
   ]
  },
  {
   "cell_type": "markdown",
   "id": "2eae0f1c",
   "metadata": {},
   "source": [
    "<h2>NumPy Joining Array</h2>"
   ]
  },
  {
   "cell_type": "code",
   "execution_count": 28,
   "id": "891eb796",
   "metadata": {},
   "outputs": [
    {
     "name": "stdout",
     "output_type": "stream",
     "text": [
      "[[1 2 5 6]\n",
      " [3 4 7 8]]\n"
     ]
    }
   ],
   "source": [
    "arr1 = np.array([[1, 2], [3, 4]])\n",
    "\n",
    "arr2 = np.array([[5, 6], [7, 8]])\n",
    "\n",
    "arr = np.concatenate((arr1, arr2), axis=1)\n",
    "\n",
    "print(arr)"
   ]
  },
  {
   "cell_type": "markdown",
   "id": "0864fabf",
   "metadata": {},
   "source": [
    "<b>Default axis is 0</b>"
   ]
  },
  {
   "cell_type": "markdown",
   "id": "b38bec9a",
   "metadata": {},
   "source": [
    "<h3>Stacking</h3>"
   ]
  },
  {
   "cell_type": "code",
   "execution_count": 29,
   "id": "84364b70",
   "metadata": {},
   "outputs": [
    {
     "name": "stdout",
     "output_type": "stream",
     "text": [
      "[[1 2 3]\n",
      " [4 5 6]]\n"
     ]
    }
   ],
   "source": [
    "arr1 = np.array([1, 2, 3])\n",
    "\n",
    "arr2 = np.array([4, 5, 6])\n",
    "\n",
    "arr = np.stack((arr1, arr2), axis=0)\n",
    "\n",
    "print(arr)"
   ]
  },
  {
   "cell_type": "code",
   "execution_count": 30,
   "id": "03ee4e9b",
   "metadata": {},
   "outputs": [
    {
     "name": "stdout",
     "output_type": "stream",
     "text": [
      "[[1 4]\n",
      " [2 5]\n",
      " [3 6]]\n"
     ]
    }
   ],
   "source": [
    "arr = np.stack((arr1, arr2), axis=1)\n",
    "print(arr)"
   ]
  },
  {
   "cell_type": "code",
   "execution_count": 31,
   "id": "89061d30",
   "metadata": {},
   "outputs": [
    {
     "name": "stdout",
     "output_type": "stream",
     "text": [
      "[[1 2 3]\n",
      " [4 5 6]]\n"
     ]
    }
   ],
   "source": [
    "arr = np.vstack((arr1, arr2))\n",
    "print(arr)"
   ]
  },
  {
   "cell_type": "code",
   "execution_count": 32,
   "id": "9a2505ab",
   "metadata": {},
   "outputs": [
    {
     "name": "stdout",
     "output_type": "stream",
     "text": [
      "[1 2 3 4 5 6]\n"
     ]
    }
   ],
   "source": [
    "arr = np.hstack((arr1, arr2))\n",
    "print(arr)"
   ]
  },
  {
   "cell_type": "markdown",
   "id": "2f5f0e7d",
   "metadata": {},
   "source": [
    "<h4>If axis for stack function is 0 then it works like vstack</h4>\n",
    "<h4>If axis for stack function is 1 then it works like hstack</h4>"
   ]
  },
  {
   "cell_type": "markdown",
   "id": "fdbd205f",
   "metadata": {},
   "source": [
    "<h2>Splitting NumPy Arrays</h2>"
   ]
  },
  {
   "cell_type": "code",
   "execution_count": 33,
   "id": "c39214be",
   "metadata": {},
   "outputs": [
    {
     "name": "stdout",
     "output_type": "stream",
     "text": [
      "[array([1, 2]), array([3, 4]), array([5]), array([6])]\n"
     ]
    }
   ],
   "source": [
    "arr = np.array([1, 2, 3, 4, 5, 6])\n",
    "newarr = np.array_split(arr, 4)\n",
    "print(newarr)"
   ]
  },
  {
   "cell_type": "markdown",
   "id": "220dd424",
   "metadata": {},
   "source": [
    "<h2>Search Numpy Array</h2>"
   ]
  },
  {
   "cell_type": "code",
   "execution_count": 34,
   "id": "b358cc74",
   "metadata": {},
   "outputs": [
    {
     "name": "stdout",
     "output_type": "stream",
     "text": [
      "(array([3, 5, 6], dtype=int64),)\n"
     ]
    }
   ],
   "source": [
    "arr = np.array([1, 2, 3, 4, 5, 4, 4])\n",
    "x = np.where(arr == 4)\n",
    "print(x)"
   ]
  },
  {
   "cell_type": "markdown",
   "id": "2fc29c0f",
   "metadata": {},
   "source": [
    "<h4>Which means that the value 4 is present at index 3, 5, and 6.</h4>"
   ]
  },
  {
   "cell_type": "markdown",
   "id": "555c42b5",
   "metadata": {},
   "source": [
    "<b>There is a method called searchsorted() which performs a binary search in the array, and returns the index where the specified value would be inserted to maintain the search order.\n",
    "</b>"
   ]
  },
  {
   "cell_type": "code",
   "execution_count": 35,
   "id": "284d5de6",
   "metadata": {},
   "outputs": [
    {
     "name": "stdout",
     "output_type": "stream",
     "text": [
      "1\n"
     ]
    }
   ],
   "source": [
    "arr = np.array([6, 7, 8, 9])\n",
    "\n",
    "x = np.searchsorted(arr, 7)\n",
    "\n",
    "print(x)\n"
   ]
  },
  {
   "cell_type": "code",
   "execution_count": 36,
   "id": "02f63024",
   "metadata": {},
   "outputs": [],
   "source": [
    "# Search from right side\n",
    "x = np.searchsorted(arr, 7, side='right')"
   ]
  },
  {
   "cell_type": "code",
   "execution_count": 37,
   "id": "c8c74b85",
   "metadata": {},
   "outputs": [
    {
     "data": {
      "text/plain": [
       "array([6, 7, 8, 9])"
      ]
     },
     "execution_count": 37,
     "metadata": {},
     "output_type": "execute_result"
    }
   ],
   "source": [
    "np.sort(arr)"
   ]
  },
  {
   "cell_type": "markdown",
   "id": "a77636d5",
   "metadata": {},
   "source": [
    "<b>Sort mehod returns a new array</b>"
   ]
  },
  {
   "cell_type": "markdown",
   "id": "62a2267c",
   "metadata": {},
   "source": [
    "<h2>Filtering Arrays\n",
    "</h2>"
   ]
  },
  {
   "cell_type": "code",
   "execution_count": 38,
   "id": "2314de2d",
   "metadata": {},
   "outputs": [
    {
     "name": "stdout",
     "output_type": "stream",
     "text": [
      "[41 43]\n"
     ]
    }
   ],
   "source": [
    "arr = np.array([41, 42, 43, 44])\n",
    "\n",
    "x = [True, False, True, False]\n",
    "\n",
    "newarr = arr[x]\n",
    "\n",
    "print(newarr)"
   ]
  },
  {
   "cell_type": "code",
   "execution_count": 39,
   "id": "fba7d8ef",
   "metadata": {
    "scrolled": true
   },
   "outputs": [
    {
     "name": "stdout",
     "output_type": "stream",
     "text": [
      "[False False  True  True]\n",
      "[43 44]\n"
     ]
    }
   ],
   "source": [
    "arr = np.array([41, 42, 43, 44])\n",
    "\n",
    "filter_arr = arr > 42\n",
    "\n",
    "newarr = arr[filter_arr]\n",
    "\n",
    "print(filter_arr)\n",
    "print(newarr)"
   ]
  },
  {
   "cell_type": "markdown",
   "id": "71eb06cd",
   "metadata": {},
   "source": [
    "<h2>Random Numbers in NumPy</h2>"
   ]
  },
  {
   "cell_type": "markdown",
   "id": "2e171f08",
   "metadata": {},
   "source": [
    "<h3>Normal (Gaussian) Distribution</h3>"
   ]
  },
  {
   "cell_type": "code",
<<<<<<< HEAD
   "execution_count": 40,
=======
   "execution_count": 50,
>>>>>>> 5d57a29fd5cf50afffa85a9b0e8666bd12fc4e59
   "id": "24ce4b93",
   "metadata": {},
   "outputs": [],
   "source": [
    "import numpy.random as rn"
   ]
  },
  {
   "cell_type": "markdown",
   "id": "8a36385f",
   "metadata": {},
   "source": [
    "Generate a random integer from 0 to 100:"
   ]
  },
  {
   "cell_type": "code",
   "execution_count": 51,
   "id": "601e3804",
   "metadata": {},
   "outputs": [
    {
     "name": "stdout",
     "output_type": "stream",
     "text": [
      "38\n"
     ]
    }
   ],
   "source": [
    "x = rn.randint(100)\n",
    "print(x)"
   ]
  },
  {
   "cell_type": "markdown",
   "id": "23016717",
   "metadata": {},
   "source": [
    "Generate a 1-D array containing 5 random integers from 0 to 100:"
   ]
  },
  {
   "cell_type": "code",
   "execution_count": 53,
   "id": "55c3033f",
   "metadata": {},
   "outputs": [
    {
     "name": "stdout",
     "output_type": "stream",
     "text": [
      "[92 28 50 56 29]\n"
     ]
    }
   ],
   "source": [
    "x=rn.randint(100, size=(5))\n",
    "print(x)"
   ]
  },
  {
   "cell_type": "markdown",
   "id": "fd5834c2",
   "metadata": {},
   "source": [
    "Generate a 2-D array with 3 rows, each row containing 5 random integers from 0 to 100:"
   ]
  },
  {
   "cell_type": "code",
   "execution_count": 55,
   "id": "bfa15146",
   "metadata": {},
   "outputs": [
    {
     "name": "stdout",
     "output_type": "stream",
     "text": [
      "[[83 12 43 91 71]\n",
      " [47 71 23  3 55]\n",
      " [80 56 83 96 59]]\n"
     ]
    }
   ],
   "source": [
    "x = rn.randint(100, size=(3, 5))\n",
    "print(x)"
   ]
  },
  {
   "cell_type": "markdown",
   "id": "a4626938",
   "metadata": {},
   "source": [
    "Generate a random float from 0 to 1:"
   ]
  },
  {
   "cell_type": "code",
   "execution_count": 56,
   "id": "36844b0c",
   "metadata": {},
   "outputs": [
    {
     "name": "stdout",
     "output_type": "stream",
     "text": [
      "0.030789015225871408\n"
     ]
    }
   ],
   "source": [
    "from numpy import random\n",
    "x = random.rand()\n",
    "print(x)"
   ]
  },
  {
   "cell_type": "markdown",
   "id": "280bfb2c",
   "metadata": {},
   "source": [
    "Generate a 1-D array containing 5 random floats:"
   ]
  },
  {
   "cell_type": "code",
   "execution_count": 57,
   "id": "04e7f3dd",
   "metadata": {
    "scrolled": true
   },
   "outputs": [
    {
     "name": "stdout",
     "output_type": "stream",
     "text": [
      "[0.07094185 0.42772035 0.85335721 0.27319804 0.58429091]\n"
     ]
    }
   ],
   "source": [
    "x = random.rand(5)\n",
    "print(x)"
   ]
  },
  {
   "cell_type": "markdown",
   "id": "5986ab6c",
   "metadata": {},
   "source": [
    "Generate a 2-D array with 3 rows, each row containing 5 random numbers:"
   ]
  },
  {
   "cell_type": "code",
   "execution_count": 58,
   "id": "6886b79b",
   "metadata": {},
   "outputs": [
    {
     "name": "stdout",
     "output_type": "stream",
     "text": [
      "[[0.29650934 0.47816552 0.93098101 0.90360303 0.74174242]\n",
      " [0.50800992 0.64770205 0.114219   0.92104662 0.08509877]\n",
      " [0.39726107 0.08461243 0.08343218 0.80813045 0.87562363]]\n"
     ]
    }
   ],
   "source": [
    "x = random.rand(3, 5)\n",
    "print(x)"
   ]
  },
  {
   "cell_type": "code",
   "execution_count": 41,
   "id": "756333c7",
   "metadata": {
    "scrolled": true
   },
   "outputs": [
    {
     "data": {
      "text/plain": [
       "<AxesSubplot:ylabel='Density'>"
      ]
     },
     "execution_count": 41,
     "metadata": {},
     "output_type": "execute_result"
    },
    {
     "data": {
      "image/png": "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\n",
      "text/plain": [
       "<Figure size 432x288 with 1 Axes>"
      ]
     },
     "metadata": {
      "needs_background": "light"
     },
     "output_type": "display_data"
    }
   ],
   "source": [
    "x = rn.normal(size=100)\n",
    "#sb.distplot(x, hist=False)\n",
    "sb.kdeplot(x)"
   ]
  },
  {
   "cell_type": "markdown",
   "id": "2f480b74",
   "metadata": {},
   "source": [
    "Return one of the values in an array:"
   ]
  },
  {
   "cell_type": "code",
   "execution_count": 60,
   "id": "01f17cea",
   "metadata": {},
   "outputs": [
    {
     "name": "stdout",
     "output_type": "stream",
     "text": [
      "7\n"
     ]
    }
   ],
   "source": [
    "x = rn.choice([3, 5, 7, 9])\n",
    "\n",
    "print(x)"
   ]
  },
  {
   "cell_type": "markdown",
   "id": "8d1b35f6",
   "metadata": {},
   "source": [
    "Generate a 2-D array that consists of the values in the array parameter (3, 5, 7, and 9):"
   ]
  },
  {
   "cell_type": "code",
   "execution_count": 62,
   "id": "11a79e93",
   "metadata": {},
   "outputs": [
    {
     "name": "stdout",
     "output_type": "stream",
     "text": [
      "[7 7 7 7 5 5 5 7 7 7 3 7 5 5 7 7 5 5 7 5 7 7 3 7 3 5 7 7 7 5 3 7 7 7 5 5 5\n",
      " 3 3 7 5 7 7 5 7 5 7 5 7 7 7 7 5 7 5 7 7 3 7 7 7 7 7 5 7 7 7 7 5 7 7 7 5 5\n",
      " 7 5 3 5 5 7 7 7 7 7 3 5 7 7 7 3 5 7 5 7 5 3 5 3 3 7]\n"
     ]
    }
   ],
   "source": [
    "x = random.choice([3, 5, 7, 9], size=(3, 5))\n",
    "x = random.choice([3, 5, 7, 9], p=[0.1, 0.3, 0.6, 0.0], size=(100))\n",
    "print(x)"
   ]
  },
  {
   "cell_type": "markdown",
   "id": "2e493928",
   "metadata": {},
   "source": [
    "<h3>Distributions</h3>"
   ]
  },
  {
   "cell_type": "markdown",
   "id": "c81224cc",
   "metadata": {},
   "source": [
    "Normal Distribution"
   ]
  },
  {
   "cell_type": "markdown",
   "id": "c4ca652a",
   "metadata": {},
   "source": [
    "<pre>\n",
    "Use the random.normal() method to get a Normal Data Distribution.\n",
    "\n",
    "It has three parameters:\n",
    "\n",
    "loc - (Mean) where the peak of the bell exists.\n",
    "\n",
    "scale - (Standard Deviation) how flat the graph distribution should be.\n",
    "\n",
    "size - The shape of the returned array.\n",
    "</pre>"
   ]
  },
  {
   "cell_type": "code",
<<<<<<< HEAD
   "execution_count": 42,
   "id": "0725ed2b",
   "metadata": {},
   "outputs": [
    {
     "data": {
      "text/plain": [
       "array([7, 7, 3, 2, 5, 3, 2, 8, 5, 7])"
      ]
     },
     "execution_count": 42,
     "metadata": {},
     "output_type": "execute_result"
    },
    {
     "data": {
      "image/png": "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\n",
      "text/plain": [
       "<Figure size 360x360 with 1 Axes>"
      ]
     },
     "metadata": {
      "needs_background": "light"
     },
     "output_type": "display_data"
=======
   "execution_count": 74,
   "id": "56bd5e07",
   "metadata": {},
   "outputs": [
    {
     "name": "stdout",
     "output_type": "stream",
     "text": [
      "[[[[[1 2 3 4]]]]]\n"
     ]
    }
   ],
   "source": [
    "arr = np.array([1, 2, 3, 4],ndmin=5)\n",
    "print(arr)"
   ]
  },
  {
   "cell_type": "code",
   "execution_count": 77,
   "id": "8796490e",
   "metadata": {},
   "outputs": [
    {
     "name": "stdout",
     "output_type": "stream",
     "text": [
      "[1 2 3 4 5 6 7 8]\n"
     ]
>>>>>>> 5d57a29fd5cf50afffa85a9b0e8666bd12fc4e59
    }
   ],
   "source": [
    "arr = np.array([1, 2, 3, 4, 5, 6, 7, 8])\n",
    "print(arr.reshape(2, 4).base)"
   ]
  },
  {
   "cell_type": "code",
<<<<<<< HEAD
   "execution_count": 44,
   "id": "13cc617b",
=======
   "execution_count": null,
   "id": "e223dea9",
>>>>>>> 5d57a29fd5cf50afffa85a9b0e8666bd12fc4e59
   "metadata": {},
   "outputs": [
    {
     "data": {
      "text/plain": [
       "['Hello', 'hello', 'hello', '']"
      ]
     },
     "execution_count": 44,
     "metadata": {},
     "output_type": "execute_result"
    }
   ],
   "source": [
    "import re\n",
    "re.split('\\W','Hello,hello,hello.')"
   ]
  },
  {
   "cell_type": "code",
   "execution_count": null,
   "id": "b9e03806",
   "metadata": {},
   "outputs": [],
   "source": []
  }
 ],
 "metadata": {
  "kernelspec": {
   "display_name": "Python 3",
   "language": "python",
   "name": "python3"
  },
  "language_info": {
   "codemirror_mode": {
    "name": "ipython",
    "version": 3
   },
   "file_extension": ".py",
   "mimetype": "text/x-python",
   "name": "python",
   "nbconvert_exporter": "python",
   "pygments_lexer": "ipython3",
   "version": "3.8.8"
  }
 },
 "nbformat": 4,
 "nbformat_minor": 5
}
